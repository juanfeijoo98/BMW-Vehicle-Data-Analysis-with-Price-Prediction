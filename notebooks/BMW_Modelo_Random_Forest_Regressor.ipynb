{
 "cells": [
  {
   "cell_type": "markdown",
   "metadata": {},
   "source": [
    "## 1º Entregable_Data_Engineer\n",
    "\n",
    "### - El objetivo de este dataset es: Predecir el precio del vehículo, (ojo que si bien el objetivo es predecir el precio no será necesario hacer la predicción)."
   ]
  },
  {
   "cell_type": "markdown",
   "metadata": {},
   "source": [
    "### Importamos librerias y leemos el fichero"
   ]
  },
  {
   "cell_type": "code",
   "execution_count": 7,
   "metadata": {},
   "outputs": [
    {
     "name": "stdout",
     "output_type": "stream",
     "text": [
      "Requirement already satisfied: pandas in c:\\users\\jfeij\\appdata\\local\\programs\\python\\python312\\lib\\site-packages (2.2.3)\n",
      "Requirement already satisfied: numpy in c:\\users\\jfeij\\appdata\\local\\programs\\python\\python312\\lib\\site-packages (2.1.2)\n",
      "Requirement already satisfied: matplotlib in c:\\users\\jfeij\\appdata\\local\\programs\\python\\python312\\lib\\site-packages (3.9.2)\n",
      "Requirement already satisfied: seaborn in c:\\users\\jfeij\\appdata\\local\\programs\\python\\python312\\lib\\site-packages (0.13.2)\n",
      "Requirement already satisfied: scikit-learn in c:\\users\\jfeij\\appdata\\local\\programs\\python\\python312\\lib\\site-packages (1.5.2)\n",
      "Requirement already satisfied: missingno in c:\\users\\jfeij\\appdata\\local\\programs\\python\\python312\\lib\\site-packages (0.5.2)\n",
      "Requirement already satisfied: python-dateutil>=2.8.2 in c:\\users\\jfeij\\appdata\\local\\programs\\python\\python312\\lib\\site-packages (from pandas) (2.9.0.post0)\n",
      "Requirement already satisfied: pytz>=2020.1 in c:\\users\\jfeij\\appdata\\local\\programs\\python\\python312\\lib\\site-packages (from pandas) (2024.2)\n",
      "Requirement already satisfied: tzdata>=2022.7 in c:\\users\\jfeij\\appdata\\local\\programs\\python\\python312\\lib\\site-packages (from pandas) (2024.2)\n",
      "Requirement already satisfied: contourpy>=1.0.1 in c:\\users\\jfeij\\appdata\\local\\programs\\python\\python312\\lib\\site-packages (from matplotlib) (1.3.0)\n",
      "Requirement already satisfied: cycler>=0.10 in c:\\users\\jfeij\\appdata\\local\\programs\\python\\python312\\lib\\site-packages (from matplotlib) (0.12.1)\n",
      "Requirement already satisfied: fonttools>=4.22.0 in c:\\users\\jfeij\\appdata\\local\\programs\\python\\python312\\lib\\site-packages (from matplotlib) (4.54.1)\n",
      "Requirement already satisfied: kiwisolver>=1.3.1 in c:\\users\\jfeij\\appdata\\local\\programs\\python\\python312\\lib\\site-packages (from matplotlib) (1.4.7)\n",
      "Requirement already satisfied: packaging>=20.0 in c:\\users\\jfeij\\appdata\\roaming\\python\\python312\\site-packages (from matplotlib) (24.1)\n",
      "Requirement already satisfied: pillow>=8 in c:\\users\\jfeij\\appdata\\local\\programs\\python\\python312\\lib\\site-packages (from matplotlib) (11.0.0)\n",
      "Requirement already satisfied: pyparsing>=2.3.1 in c:\\users\\jfeij\\appdata\\local\\programs\\python\\python312\\lib\\site-packages (from matplotlib) (3.2.0)\n",
      "Requirement already satisfied: scipy>=1.6.0 in c:\\users\\jfeij\\appdata\\local\\programs\\python\\python312\\lib\\site-packages (from scikit-learn) (1.14.1)\n",
      "Requirement already satisfied: joblib>=1.2.0 in c:\\users\\jfeij\\appdata\\local\\programs\\python\\python312\\lib\\site-packages (from scikit-learn) (1.4.2)\n",
      "Requirement already satisfied: threadpoolctl>=3.1.0 in c:\\users\\jfeij\\appdata\\local\\programs\\python\\python312\\lib\\site-packages (from scikit-learn) (3.5.0)\n",
      "Requirement already satisfied: six>=1.5 in c:\\users\\jfeij\\appdata\\local\\programs\\python\\python312\\lib\\site-packages (from python-dateutil>=2.8.2->pandas) (1.16.0)\n",
      "Note: you may need to restart the kernel to use updated packages.\n"
     ]
    },
    {
     "name": "stderr",
     "output_type": "stream",
     "text": [
      "\n",
      "[notice] A new release of pip is available: 24.2 -> 24.3.1\n",
      "[notice] To update, run: python.exe -m pip install --upgrade pip\n"
     ]
    }
   ],
   "source": [
    "%pip install pandas numpy matplotlib seaborn scikit-learn missingno "
   ]
  },
  {
   "cell_type": "code",
   "execution_count": 8,
   "metadata": {},
   "outputs": [],
   "source": [
    "# IMPORTAMOS LIBRERÍAS:\n",
    "import pandas as pd\n",
    "import numpy as np\n",
    "import matplotlib.pyplot as plt\n",
    "import seaborn as sns\n",
    "from sklearn.preprocessing import LabelEncoder, OrdinalEncoder, MinMaxScaler\n",
    "import missingno as msno"
   ]
  },
  {
   "cell_type": "code",
   "execution_count": 9,
   "metadata": {},
   "outputs": [
    {
     "data": {
      "text/html": [
       "<div>\n",
       "<style scoped>\n",
       "    .dataframe tbody tr th:only-of-type {\n",
       "        vertical-align: middle;\n",
       "    }\n",
       "\n",
       "    .dataframe tbody tr th {\n",
       "        vertical-align: top;\n",
       "    }\n",
       "\n",
       "    .dataframe thead th {\n",
       "        text-align: right;\n",
       "    }\n",
       "</style>\n",
       "<table border=\"1\" class=\"dataframe\">\n",
       "  <thead>\n",
       "    <tr style=\"text-align: right;\">\n",
       "      <th></th>\n",
       "      <th>marca</th>\n",
       "      <th>modelo</th>\n",
       "      <th>km</th>\n",
       "      <th>potencia</th>\n",
       "      <th>fecha_registro</th>\n",
       "      <th>tipo_gasolina</th>\n",
       "      <th>color</th>\n",
       "      <th>tipo_coche</th>\n",
       "      <th>volante_regulable</th>\n",
       "      <th>aire_acondicionado</th>\n",
       "      <th>camara_trasera</th>\n",
       "      <th>asientos_traseros_plegables</th>\n",
       "      <th>elevalunas_electrico</th>\n",
       "      <th>bluetooth</th>\n",
       "      <th>gps</th>\n",
       "      <th>alerta_lim_velocidad</th>\n",
       "      <th>precio</th>\n",
       "      <th>fecha_venta</th>\n",
       "    </tr>\n",
       "  </thead>\n",
       "  <tbody>\n",
       "    <tr>\n",
       "      <th>0</th>\n",
       "      <td>NaN</td>\n",
       "      <td>118</td>\n",
       "      <td>140411.0</td>\n",
       "      <td>100.0</td>\n",
       "      <td>2012-02-01</td>\n",
       "      <td>diesel</td>\n",
       "      <td>black</td>\n",
       "      <td>NaN</td>\n",
       "      <td>True</td>\n",
       "      <td>True</td>\n",
       "      <td>False</td>\n",
       "      <td>NaN</td>\n",
       "      <td>True</td>\n",
       "      <td>NaN</td>\n",
       "      <td>True</td>\n",
       "      <td>NaN</td>\n",
       "      <td>11300.0</td>\n",
       "      <td>2018-01-01</td>\n",
       "    </tr>\n",
       "    <tr>\n",
       "      <th>1</th>\n",
       "      <td>BMW</td>\n",
       "      <td>M4</td>\n",
       "      <td>13929.0</td>\n",
       "      <td>317.0</td>\n",
       "      <td>NaN</td>\n",
       "      <td>petrol</td>\n",
       "      <td>grey</td>\n",
       "      <td>convertible</td>\n",
       "      <td>True</td>\n",
       "      <td>True</td>\n",
       "      <td>False</td>\n",
       "      <td>NaN</td>\n",
       "      <td>False</td>\n",
       "      <td>True</td>\n",
       "      <td>True</td>\n",
       "      <td>True</td>\n",
       "      <td>69700.0</td>\n",
       "      <td>2018-02-01</td>\n",
       "    </tr>\n",
       "    <tr>\n",
       "      <th>2</th>\n",
       "      <td>BMW</td>\n",
       "      <td>320</td>\n",
       "      <td>183297.0</td>\n",
       "      <td>120.0</td>\n",
       "      <td>2012-04-01</td>\n",
       "      <td>diesel</td>\n",
       "      <td>white</td>\n",
       "      <td>NaN</td>\n",
       "      <td>False</td>\n",
       "      <td>False</td>\n",
       "      <td>False</td>\n",
       "      <td>NaN</td>\n",
       "      <td>True</td>\n",
       "      <td>False</td>\n",
       "      <td>True</td>\n",
       "      <td>False</td>\n",
       "      <td>10200.0</td>\n",
       "      <td>2018-02-01</td>\n",
       "    </tr>\n",
       "    <tr>\n",
       "      <th>3</th>\n",
       "      <td>BMW</td>\n",
       "      <td>420</td>\n",
       "      <td>128035.0</td>\n",
       "      <td>135.0</td>\n",
       "      <td>NaN</td>\n",
       "      <td>diesel</td>\n",
       "      <td>red</td>\n",
       "      <td>convertible</td>\n",
       "      <td>True</td>\n",
       "      <td>True</td>\n",
       "      <td>False</td>\n",
       "      <td>NaN</td>\n",
       "      <td>True</td>\n",
       "      <td>True</td>\n",
       "      <td>True</td>\n",
       "      <td>NaN</td>\n",
       "      <td>25100.0</td>\n",
       "      <td>2018-02-01</td>\n",
       "    </tr>\n",
       "    <tr>\n",
       "      <th>4</th>\n",
       "      <td>BMW</td>\n",
       "      <td>425</td>\n",
       "      <td>97097.0</td>\n",
       "      <td>160.0</td>\n",
       "      <td>NaN</td>\n",
       "      <td>diesel</td>\n",
       "      <td>silver</td>\n",
       "      <td>NaN</td>\n",
       "      <td>True</td>\n",
       "      <td>True</td>\n",
       "      <td>False</td>\n",
       "      <td>False</td>\n",
       "      <td>False</td>\n",
       "      <td>True</td>\n",
       "      <td>True</td>\n",
       "      <td>True</td>\n",
       "      <td>33400.0</td>\n",
       "      <td>2018-04-01</td>\n",
       "    </tr>\n",
       "  </tbody>\n",
       "</table>\n",
       "</div>"
      ],
      "text/plain": [
       "  marca modelo        km  potencia fecha_registro tipo_gasolina   color  \\\n",
       "0   NaN    118  140411.0     100.0     2012-02-01        diesel   black   \n",
       "1   BMW     M4   13929.0     317.0            NaN        petrol    grey   \n",
       "2   BMW    320  183297.0     120.0     2012-04-01        diesel   white   \n",
       "3   BMW    420  128035.0     135.0            NaN        diesel     red   \n",
       "4   BMW    425   97097.0     160.0            NaN        diesel  silver   \n",
       "\n",
       "    tipo_coche volante_regulable aire_acondicionado camara_trasera  \\\n",
       "0          NaN              True               True          False   \n",
       "1  convertible              True               True          False   \n",
       "2          NaN             False              False          False   \n",
       "3  convertible              True               True          False   \n",
       "4          NaN              True               True          False   \n",
       "\n",
       "  asientos_traseros_plegables elevalunas_electrico bluetooth   gps  \\\n",
       "0                         NaN                 True       NaN  True   \n",
       "1                         NaN                False      True  True   \n",
       "2                         NaN                 True     False  True   \n",
       "3                         NaN                 True      True  True   \n",
       "4                       False                False      True  True   \n",
       "\n",
       "  alerta_lim_velocidad   precio fecha_venta  \n",
       "0                  NaN  11300.0  2018-01-01  \n",
       "1                 True  69700.0  2018-02-01  \n",
       "2                False  10200.0  2018-02-01  \n",
       "3                  NaN  25100.0  2018-02-01  \n",
       "4                 True  33400.0  2018-04-01  "
      ]
     },
     "execution_count": 9,
     "metadata": {},
     "output_type": "execute_result"
    }
   ],
   "source": [
    "# Leo el fichero\n",
    "bmw = pd.read_csv(r\"C:\\Users\\Jfeij\\OneDrive\\Documentos\\DATA ANALYST\\DATA SCIENCE\\TFM\\1° Entregable_Data_Engineer\\bmw_pricing_v3.csv\", sep=\",\")\n",
    "bmw.head()"
   ]
  },
  {
   "cell_type": "code",
   "execution_count": 10,
   "metadata": {},
   "outputs": [
    {
     "data": {
      "text/html": [
       "<div>\n",
       "<style scoped>\n",
       "    .dataframe tbody tr th:only-of-type {\n",
       "        vertical-align: middle;\n",
       "    }\n",
       "\n",
       "    .dataframe tbody tr th {\n",
       "        vertical-align: top;\n",
       "    }\n",
       "\n",
       "    .dataframe thead th {\n",
       "        text-align: right;\n",
       "    }\n",
       "</style>\n",
       "<table border=\"1\" class=\"dataframe\">\n",
       "  <thead>\n",
       "    <tr style=\"text-align: right;\">\n",
       "      <th></th>\n",
       "      <th>km</th>\n",
       "      <th>potencia</th>\n",
       "      <th>precio</th>\n",
       "    </tr>\n",
       "  </thead>\n",
       "  <tbody>\n",
       "    <tr>\n",
       "      <th>count</th>\n",
       "      <td>4.841000e+03</td>\n",
       "      <td>4842.000000</td>\n",
       "      <td>4837.000000</td>\n",
       "    </tr>\n",
       "    <tr>\n",
       "      <th>mean</th>\n",
       "      <td>1.409593e+05</td>\n",
       "      <td>128.981826</td>\n",
       "      <td>15831.920612</td>\n",
       "    </tr>\n",
       "    <tr>\n",
       "      <th>std</th>\n",
       "      <td>6.020853e+04</td>\n",
       "      <td>38.994839</td>\n",
       "      <td>9222.630708</td>\n",
       "    </tr>\n",
       "    <tr>\n",
       "      <th>min</th>\n",
       "      <td>-6.400000e+01</td>\n",
       "      <td>0.000000</td>\n",
       "      <td>100.000000</td>\n",
       "    </tr>\n",
       "    <tr>\n",
       "      <th>25%</th>\n",
       "      <td>1.028840e+05</td>\n",
       "      <td>100.000000</td>\n",
       "      <td>10800.000000</td>\n",
       "    </tr>\n",
       "    <tr>\n",
       "      <th>50%</th>\n",
       "      <td>1.410800e+05</td>\n",
       "      <td>120.000000</td>\n",
       "      <td>14200.000000</td>\n",
       "    </tr>\n",
       "    <tr>\n",
       "      <th>75%</th>\n",
       "      <td>1.752170e+05</td>\n",
       "      <td>135.000000</td>\n",
       "      <td>18600.000000</td>\n",
       "    </tr>\n",
       "    <tr>\n",
       "      <th>max</th>\n",
       "      <td>1.000376e+06</td>\n",
       "      <td>423.000000</td>\n",
       "      <td>178500.000000</td>\n",
       "    </tr>\n",
       "  </tbody>\n",
       "</table>\n",
       "</div>"
      ],
      "text/plain": [
       "                 km     potencia         precio\n",
       "count  4.841000e+03  4842.000000    4837.000000\n",
       "mean   1.409593e+05   128.981826   15831.920612\n",
       "std    6.020853e+04    38.994839    9222.630708\n",
       "min   -6.400000e+01     0.000000     100.000000\n",
       "25%    1.028840e+05   100.000000   10800.000000\n",
       "50%    1.410800e+05   120.000000   14200.000000\n",
       "75%    1.752170e+05   135.000000   18600.000000\n",
       "max    1.000376e+06   423.000000  178500.000000"
      ]
     },
     "execution_count": 10,
     "metadata": {},
     "output_type": "execute_result"
    }
   ],
   "source": [
    "bmw.describe()"
   ]
  },
  {
   "cell_type": "code",
   "execution_count": 11,
   "metadata": {},
   "outputs": [
    {
     "name": "stdout",
     "output_type": "stream",
     "text": [
      "<class 'pandas.core.frame.DataFrame'>\n",
      "RangeIndex: 4843 entries, 0 to 4842\n",
      "Data columns (total 18 columns):\n",
      " #   Column                       Non-Null Count  Dtype  \n",
      "---  ------                       --------------  -----  \n",
      " 0   marca                        3873 non-null   object \n",
      " 1   modelo                       4840 non-null   object \n",
      " 2   km                           4841 non-null   float64\n",
      " 3   potencia                     4842 non-null   float64\n",
      " 4   fecha_registro               2420 non-null   object \n",
      " 5   tipo_gasolina                4838 non-null   object \n",
      " 6   color                        4398 non-null   object \n",
      " 7   tipo_coche                   3383 non-null   object \n",
      " 8   volante_regulable            4839 non-null   object \n",
      " 9   aire_acondicionado           4357 non-null   object \n",
      " 10  camara_trasera               4841 non-null   object \n",
      " 11  asientos_traseros_plegables  1452 non-null   object \n",
      " 12  elevalunas_electrico         4841 non-null   object \n",
      " 13  bluetooth                    4115 non-null   object \n",
      " 14  gps                          4843 non-null   bool   \n",
      " 15  alerta_lim_velocidad         4115 non-null   object \n",
      " 16  precio                       4837 non-null   float64\n",
      " 17  fecha_venta                  4842 non-null   object \n",
      "dtypes: bool(1), float64(3), object(14)\n",
      "memory usage: 648.1+ KB\n"
     ]
    }
   ],
   "source": [
    "bmw.info()"
   ]
  },
  {
   "cell_type": "code",
   "execution_count": 12,
   "metadata": {},
   "outputs": [
    {
     "data": {
      "text/plain": [
       "marca                          20.0\n",
       "modelo                          0.0\n",
       "km                              0.0\n",
       "potencia                        0.0\n",
       "fecha_registro                 50.0\n",
       "tipo_gasolina                   0.0\n",
       "color                           9.0\n",
       "tipo_coche                     30.0\n",
       "volante_regulable               0.0\n",
       "aire_acondicionado             10.0\n",
       "camara_trasera                  0.0\n",
       "asientos_traseros_plegables    70.0\n",
       "elevalunas_electrico            0.0\n",
       "bluetooth                      15.0\n",
       "gps                             0.0\n",
       "alerta_lim_velocidad           15.0\n",
       "precio                          0.0\n",
       "fecha_venta                     0.0\n",
       "dtype: float64"
      ]
     },
     "execution_count": 12,
     "metadata": {},
     "output_type": "execute_result"
    }
   ],
   "source": [
    "# Saco el porcentaje de valores nulos que tengo en mi DataFrame\n",
    "((bmw.isna().sum()/len(bmw)) * 100).round()"
   ]
  },
  {
   "cell_type": "markdown",
   "metadata": {},
   "source": [
    "### Variables Null, Limpieza y prepocesamiento de datos"
   ]
  },
  {
   "cell_type": "markdown",
   "metadata": {},
   "source": [
    "##### Transformacion de (fecha_registro, fecha_venta) a formato pd.datetime "
   ]
  },
  {
   "cell_type": "code",
   "execution_count": 13,
   "metadata": {},
   "outputs": [],
   "source": [
    "#Primero:\n",
    "# Transformacion de (fecha_registro, fecha_venta) a formato pd.datetime \n",
    "\n",
    "for i in [\"fecha_registro\", \"fecha_venta\"]:\n",
    "    bmw[i] = pd.to_datetime(bmw[i])"
   ]
  },
  {
   "cell_type": "code",
   "execution_count": 14,
   "metadata": {},
   "outputs": [
    {
     "name": "stdout",
     "output_type": "stream",
     "text": [
      "<class 'pandas.core.frame.DataFrame'>\n",
      "RangeIndex: 4843 entries, 0 to 4842\n",
      "Data columns (total 18 columns):\n",
      " #   Column                       Non-Null Count  Dtype         \n",
      "---  ------                       --------------  -----         \n",
      " 0   marca                        3873 non-null   object        \n",
      " 1   modelo                       4840 non-null   object        \n",
      " 2   km                           4841 non-null   float64       \n",
      " 3   potencia                     4842 non-null   float64       \n",
      " 4   fecha_registro               2420 non-null   datetime64[ns]\n",
      " 5   tipo_gasolina                4838 non-null   object        \n",
      " 6   color                        4398 non-null   object        \n",
      " 7   tipo_coche                   3383 non-null   object        \n",
      " 8   volante_regulable            4839 non-null   object        \n",
      " 9   aire_acondicionado           4357 non-null   object        \n",
      " 10  camara_trasera               4841 non-null   object        \n",
      " 11  asientos_traseros_plegables  1452 non-null   object        \n",
      " 12  elevalunas_electrico         4841 non-null   object        \n",
      " 13  bluetooth                    4115 non-null   object        \n",
      " 14  gps                          4843 non-null   bool          \n",
      " 15  alerta_lim_velocidad         4115 non-null   object        \n",
      " 16  precio                       4837 non-null   float64       \n",
      " 17  fecha_venta                  4842 non-null   datetime64[ns]\n",
      "dtypes: bool(1), datetime64[ns](2), float64(3), object(12)\n",
      "memory usage: 648.1+ KB\n"
     ]
    }
   ],
   "source": [
    "bmw.info()"
   ]
  },
  {
   "cell_type": "markdown",
   "metadata": {},
   "source": [
    "##### Fecha_Registro"
   ]
  },
  {
   "cell_type": "code",
   "execution_count": 15,
   "metadata": {},
   "outputs": [
    {
     "data": {
      "text/plain": [
       "<Axes: >"
      ]
     },
     "execution_count": 15,
     "metadata": {},
     "output_type": "execute_result"
    },
    {
     "data": {
      "image/png": "[encoded data removed]",
      "text/plain": [
       "<Figure size 640x480 with 1 Axes>"
      ]
     },
     "metadata": {},
     "output_type": "display_data"
    }
   ],
   "source": [
    "# Realizo un histograma para ver como se distribuyen los valores de \"fecha_registro\"\n",
    "\n",
    "bmw[\"fecha_registro\"].hist(bins=60)"
   ]
  },
  {
   "cell_type": "code",
   "execution_count": 16,
   "metadata": {},
   "outputs": [
    {
     "data": {
      "text/plain": [
       "np.float64(2013.0)"
      ]
     },
     "execution_count": 16,
     "metadata": {},
     "output_type": "execute_result"
    }
   ],
   "source": [
    "# Saco la mediana para la variable \"fecha_registo\", y le aplicamos la mediana a los null. \n",
    "\n",
    "bmw[\"fecha_registro\"].dt.year.median()"
   ]
  },
  {
   "cell_type": "markdown",
   "metadata": {},
   "source": [
    "Aqui se puede observar que el año de mediana es 2013, por ende procedo a aplicar la mediana a los valores nulos.\n"
   ]
  },
  {
   "cell_type": "code",
   "execution_count": 17,
   "metadata": {},
   "outputs": [
    {
     "data": {
      "text/plain": [
       "count                             2420\n",
       "mean     2012-12-06 07:35:12.396694016\n",
       "min                1990-03-01 00:00:00\n",
       "25%                2012-07-01 00:00:00\n",
       "50%                2013-07-01 00:00:00\n",
       "75%                2014-04-01 00:00:00\n",
       "max                2017-11-01 00:00:00\n",
       "Name: fecha_registro, dtype: object"
      ]
     },
     "execution_count": 17,
     "metadata": {},
     "output_type": "execute_result"
    }
   ],
   "source": [
    "bmw[\"fecha_registro\"].describe()"
   ]
  },
  {
   "cell_type": "code",
   "execution_count": 18,
   "metadata": {},
   "outputs": [],
   "source": [
    "# Utilizo la mediana para reemplazar el 50 % de valores nulos que tenemos en la variable.\n",
    "\n",
    "mediana_fecha_registro = bmw[\"fecha_registro\"].median()\n",
    "bmw[\"fecha_registro\"].fillna(mediana_fecha_registro, inplace= True)"
   ]
  },
  {
   "cell_type": "markdown",
   "metadata": {},
   "source": [
    "Aunque la columna fecha_registro tiene un 50% de valores nulos, se decidió mantenerla porque es una variable potencialmente importante para predecir el precio del vehículo. La fecha de registro permite calcular la antigüedad del coche, una característica clave en la determinación del precio. Además, los valores nulos se imputaron utilizando la mediana, ya que la distribución está concentrada en años recientes (2012-2017) y la mediana refleja este patrón."
   ]
  },
  {
   "cell_type": "code",
   "execution_count": 19,
   "metadata": {},
   "outputs": [
    {
     "data": {
      "text/plain": [
       "marca                          20.02891\n",
       "modelo                          0.06195\n",
       "km                              0.04130\n",
       "potencia                        0.02065\n",
       "fecha_registro                  0.00000\n",
       "tipo_gasolina                   0.10324\n",
       "color                           9.18852\n",
       "tipo_coche                     30.14660\n",
       "volante_regulable               0.08259\n",
       "aire_acondicionado             10.03510\n",
       "camara_trasera                  0.04130\n",
       "asientos_traseros_plegables    70.01858\n",
       "elevalunas_electrico            0.04130\n",
       "bluetooth                      15.03200\n",
       "gps                             0.00000\n",
       "alerta_lim_velocidad           15.03200\n",
       "precio                          0.12389\n",
       "fecha_venta                     0.02065\n",
       "dtype: float64"
      ]
     },
     "execution_count": 19,
     "metadata": {},
     "output_type": "execute_result"
    }
   ],
   "source": [
    "# Muestro el porcentaje de nulos, vemos que \"fecha_registro\", ya no tiene valores nulos\n",
    "\n",
    "((bmw.isna().sum()/len(bmw)) * 100).round(5)"
   ]
  },
  {
   "cell_type": "markdown",
   "metadata": {},
   "source": [
    "Lo que si podemos apreciar que hay \"outliers\", de coches que son antes del 2000, por ende creo una variable llamada outliers con filtro de los registros que estan antes del año '2000'"
   ]
  },
  {
   "cell_type": "code",
   "execution_count": 20,
   "metadata": {},
   "outputs": [
    {
     "data": {
      "text/plain": [
       "count                             4843\n",
       "mean     2013-03-19 17:19:47.115424512\n",
       "min                1990-03-01 00:00:00\n",
       "25%                2013-07-01 00:00:00\n",
       "50%                2013-07-01 00:00:00\n",
       "75%                2013-07-01 00:00:00\n",
       "max                2017-11-01 00:00:00\n",
       "Name: fecha_registro, dtype: object"
      ]
     },
     "execution_count": 20,
     "metadata": {},
     "output_type": "execute_result"
    },
    {
     "data": {
      "image/png": "[encoded data removed]",
      "text/plain": [
       "<Figure size 640x480 with 1 Axes>"
      ]
     },
     "metadata": {},
     "output_type": "display_data"
    }
   ],
   "source": [
    "bmw[\"fecha_registro\"].hist(bins=60)\n",
    "bmw[\"fecha_registro\"].describe()"
   ]
  },
  {
   "cell_type": "code",
   "execution_count": 21,
   "metadata": {},
   "outputs": [
    {
     "data": {
      "text/html": [
       "<div>\n",
       "<style scoped>\n",
       "    .dataframe tbody tr th:only-of-type {\n",
       "        vertical-align: middle;\n",
       "    }\n",
       "\n",
       "    .dataframe tbody tr th {\n",
       "        vertical-align: top;\n",
       "    }\n",
       "\n",
       "    .dataframe thead th {\n",
       "        text-align: right;\n",
       "    }\n",
       "</style>\n",
       "<table border=\"1\" class=\"dataframe\">\n",
       "  <thead>\n",
       "    <tr style=\"text-align: right;\">\n",
       "      <th></th>\n",
       "      <th>marca</th>\n",
       "      <th>modelo</th>\n",
       "      <th>km</th>\n",
       "      <th>potencia</th>\n",
       "      <th>fecha_registro</th>\n",
       "      <th>tipo_gasolina</th>\n",
       "      <th>color</th>\n",
       "      <th>tipo_coche</th>\n",
       "      <th>volante_regulable</th>\n",
       "      <th>aire_acondicionado</th>\n",
       "      <th>camara_trasera</th>\n",
       "      <th>asientos_traseros_plegables</th>\n",
       "      <th>elevalunas_electrico</th>\n",
       "      <th>bluetooth</th>\n",
       "      <th>gps</th>\n",
       "      <th>alerta_lim_velocidad</th>\n",
       "      <th>precio</th>\n",
       "      <th>fecha_venta</th>\n",
       "    </tr>\n",
       "  </thead>\n",
       "  <tbody>\n",
       "    <tr>\n",
       "      <th>25</th>\n",
       "      <td>BMW</td>\n",
       "      <td>318</td>\n",
       "      <td>196092.0</td>\n",
       "      <td>85.0</td>\n",
       "      <td>1995-10-01</td>\n",
       "      <td>petrol</td>\n",
       "      <td>NaN</td>\n",
       "      <td>convertible</td>\n",
       "      <td>True</td>\n",
       "      <td>False</td>\n",
       "      <td>False</td>\n",
       "      <td>False</td>\n",
       "      <td>False</td>\n",
       "      <td>False</td>\n",
       "      <td>False</td>\n",
       "      <td>False</td>\n",
       "      <td>1800.0</td>\n",
       "      <td>2018-05-01</td>\n",
       "    </tr>\n",
       "    <tr>\n",
       "      <th>2473</th>\n",
       "      <td>BMW</td>\n",
       "      <td>525</td>\n",
       "      <td>230578.0</td>\n",
       "      <td>85.0</td>\n",
       "      <td>1997-07-01</td>\n",
       "      <td>diesel</td>\n",
       "      <td>NaN</td>\n",
       "      <td>sedan</td>\n",
       "      <td>False</td>\n",
       "      <td>NaN</td>\n",
       "      <td>False</td>\n",
       "      <td>False</td>\n",
       "      <td>False</td>\n",
       "      <td>False</td>\n",
       "      <td>True</td>\n",
       "      <td>NaN</td>\n",
       "      <td>200.0</td>\n",
       "      <td>2018-08-01</td>\n",
       "    </tr>\n",
       "    <tr>\n",
       "      <th>2574</th>\n",
       "      <td>BMW</td>\n",
       "      <td>525</td>\n",
       "      <td>229880.0</td>\n",
       "      <td>85.0</td>\n",
       "      <td>1997-07-01</td>\n",
       "      <td>diesel</td>\n",
       "      <td>black</td>\n",
       "      <td>sedan</td>\n",
       "      <td>False</td>\n",
       "      <td>NaN</td>\n",
       "      <td>False</td>\n",
       "      <td>False</td>\n",
       "      <td>False</td>\n",
       "      <td>NaN</td>\n",
       "      <td>True</td>\n",
       "      <td>False</td>\n",
       "      <td>200.0</td>\n",
       "      <td>2018-08-01</td>\n",
       "    </tr>\n",
       "    <tr>\n",
       "      <th>2591</th>\n",
       "      <td>BMW</td>\n",
       "      <td>316</td>\n",
       "      <td>178231.0</td>\n",
       "      <td>77.0</td>\n",
       "      <td>1999-11-01</td>\n",
       "      <td>petrol</td>\n",
       "      <td>green</td>\n",
       "      <td>sedan</td>\n",
       "      <td>False</td>\n",
       "      <td>False</td>\n",
       "      <td>False</td>\n",
       "      <td>NaN</td>\n",
       "      <td>False</td>\n",
       "      <td>True</td>\n",
       "      <td>True</td>\n",
       "      <td>False</td>\n",
       "      <td>700.0</td>\n",
       "      <td>2018-02-01</td>\n",
       "    </tr>\n",
       "    <tr>\n",
       "      <th>2611</th>\n",
       "      <td>BMW</td>\n",
       "      <td>525</td>\n",
       "      <td>230264.0</td>\n",
       "      <td>85.0</td>\n",
       "      <td>1997-07-01</td>\n",
       "      <td>diesel</td>\n",
       "      <td>black</td>\n",
       "      <td>sedan</td>\n",
       "      <td>False</td>\n",
       "      <td>False</td>\n",
       "      <td>False</td>\n",
       "      <td>False</td>\n",
       "      <td>False</td>\n",
       "      <td>False</td>\n",
       "      <td>True</td>\n",
       "      <td>False</td>\n",
       "      <td>200.0</td>\n",
       "      <td>2018-08-01</td>\n",
       "    </tr>\n",
       "    <tr>\n",
       "      <th>2771</th>\n",
       "      <td>BMW</td>\n",
       "      <td>316</td>\n",
       "      <td>146951.0</td>\n",
       "      <td>66.0</td>\n",
       "      <td>1990-03-01</td>\n",
       "      <td>petrol</td>\n",
       "      <td>white</td>\n",
       "      <td>sedan</td>\n",
       "      <td>False</td>\n",
       "      <td>False</td>\n",
       "      <td>False</td>\n",
       "      <td>NaN</td>\n",
       "      <td>False</td>\n",
       "      <td>False</td>\n",
       "      <td>False</td>\n",
       "      <td>False</td>\n",
       "      <td>1300.0</td>\n",
       "      <td>2018-04-01</td>\n",
       "    </tr>\n",
       "    <tr>\n",
       "      <th>3062</th>\n",
       "      <td>BMW</td>\n",
       "      <td>318</td>\n",
       "      <td>98097.0</td>\n",
       "      <td>85.0</td>\n",
       "      <td>1994-01-01</td>\n",
       "      <td>petrol</td>\n",
       "      <td>blue</td>\n",
       "      <td>sedan</td>\n",
       "      <td>True</td>\n",
       "      <td>False</td>\n",
       "      <td>False</td>\n",
       "      <td>False</td>\n",
       "      <td>False</td>\n",
       "      <td>False</td>\n",
       "      <td>True</td>\n",
       "      <td>True</td>\n",
       "      <td>400.0</td>\n",
       "      <td>2018-04-01</td>\n",
       "    </tr>\n",
       "    <tr>\n",
       "      <th>3380</th>\n",
       "      <td>BMW</td>\n",
       "      <td>525</td>\n",
       "      <td>245302.0</td>\n",
       "      <td>105.0</td>\n",
       "      <td>1997-01-01</td>\n",
       "      <td>diesel</td>\n",
       "      <td>green</td>\n",
       "      <td>NaN</td>\n",
       "      <td>False</td>\n",
       "      <td>True</td>\n",
       "      <td>False</td>\n",
       "      <td>NaN</td>\n",
       "      <td>False</td>\n",
       "      <td>False</td>\n",
       "      <td>True</td>\n",
       "      <td>True</td>\n",
       "      <td>900.0</td>\n",
       "      <td>2018-06-01</td>\n",
       "    </tr>\n",
       "    <tr>\n",
       "      <th>3387</th>\n",
       "      <td>BMW</td>\n",
       "      <td>525</td>\n",
       "      <td>266641.0</td>\n",
       "      <td>85.0</td>\n",
       "      <td>1999-03-01</td>\n",
       "      <td>diesel</td>\n",
       "      <td>black</td>\n",
       "      <td>sedan</td>\n",
       "      <td>True</td>\n",
       "      <td>False</td>\n",
       "      <td>False</td>\n",
       "      <td>False</td>\n",
       "      <td>False</td>\n",
       "      <td>False</td>\n",
       "      <td>True</td>\n",
       "      <td>False</td>\n",
       "      <td>800.0</td>\n",
       "      <td>2018-06-01</td>\n",
       "    </tr>\n",
       "    <tr>\n",
       "      <th>3449</th>\n",
       "      <td>BMW</td>\n",
       "      <td>316</td>\n",
       "      <td>184233.0</td>\n",
       "      <td>77.0</td>\n",
       "      <td>1999-06-01</td>\n",
       "      <td>petrol</td>\n",
       "      <td>NaN</td>\n",
       "      <td>sedan</td>\n",
       "      <td>False</td>\n",
       "      <td>False</td>\n",
       "      <td>False</td>\n",
       "      <td>False</td>\n",
       "      <td>False</td>\n",
       "      <td>False</td>\n",
       "      <td>True</td>\n",
       "      <td>False</td>\n",
       "      <td>400.0</td>\n",
       "      <td>2018-07-01</td>\n",
       "    </tr>\n",
       "  </tbody>\n",
       "</table>\n",
       "</div>"
      ],
      "text/plain": [
       "     marca modelo        km  potencia fecha_registro tipo_gasolina  color  \\\n",
       "25     BMW    318  196092.0      85.0     1995-10-01        petrol    NaN   \n",
       "2473   BMW    525  230578.0      85.0     1997-07-01        diesel    NaN   \n",
       "2574   BMW    525  229880.0      85.0     1997-07-01        diesel  black   \n",
       "2591   BMW    316  178231.0      77.0     1999-11-01        petrol  green   \n",
       "2611   BMW    525  230264.0      85.0     1997-07-01        diesel  black   \n",
       "2771   BMW    316  146951.0      66.0     1990-03-01        petrol  white   \n",
       "3062   BMW    318   98097.0      85.0     1994-01-01        petrol   blue   \n",
       "3380   BMW    525  245302.0     105.0     1997-01-01        diesel  green   \n",
       "3387   BMW    525  266641.0      85.0     1999-03-01        diesel  black   \n",
       "3449   BMW    316  184233.0      77.0     1999-06-01        petrol    NaN   \n",
       "\n",
       "       tipo_coche volante_regulable aire_acondicionado camara_trasera  \\\n",
       "25    convertible              True              False          False   \n",
       "2473        sedan             False                NaN          False   \n",
       "2574        sedan             False                NaN          False   \n",
       "2591        sedan             False              False          False   \n",
       "2611        sedan             False              False          False   \n",
       "2771        sedan             False              False          False   \n",
       "3062        sedan              True              False          False   \n",
       "3380          NaN             False               True          False   \n",
       "3387        sedan              True              False          False   \n",
       "3449        sedan             False              False          False   \n",
       "\n",
       "     asientos_traseros_plegables elevalunas_electrico bluetooth    gps  \\\n",
       "25                         False                False     False  False   \n",
       "2473                       False                False     False   True   \n",
       "2574                       False                False       NaN   True   \n",
       "2591                         NaN                False      True   True   \n",
       "2611                       False                False     False   True   \n",
       "2771                         NaN                False     False  False   \n",
       "3062                       False                False     False   True   \n",
       "3380                         NaN                False     False   True   \n",
       "3387                       False                False     False   True   \n",
       "3449                       False                False     False   True   \n",
       "\n",
       "     alerta_lim_velocidad  precio fecha_venta  \n",
       "25                  False  1800.0  2018-05-01  \n",
       "2473                  NaN   200.0  2018-08-01  \n",
       "2574                False   200.0  2018-08-01  \n",
       "2591                False   700.0  2018-02-01  \n",
       "2611                False   200.0  2018-08-01  \n",
       "2771                False  1300.0  2018-04-01  \n",
       "3062                 True   400.0  2018-04-01  \n",
       "3380                 True   900.0  2018-06-01  \n",
       "3387                False   800.0  2018-06-01  \n",
       "3449                False   400.0  2018-07-01  "
      ]
     },
     "execution_count": 21,
     "metadata": {},
     "output_type": "execute_result"
    }
   ],
   "source": [
    "# Creo la variable para los outliers, pero decidimos dejar esos registros, para tratarlos luego con la antiguedad.\n",
    "outliers_fecha_registro = bmw[bmw['fecha_registro'] <= '2000-01-01']\n",
    "outliers_fecha_registro"
   ]
  },
  {
   "cell_type": "code",
   "execution_count": 22,
   "metadata": {},
   "outputs": [
    {
     "name": "stdout",
     "output_type": "stream",
     "text": [
      "10 4843 0.20648358455502788\n"
     ]
    }
   ],
   "source": [
    "# Se puede observar que de 4843 registros solo el 0,20% son menores al año 2000, por lo que no afecta a la variable demasiado por ahora\n",
    "print(len(outliers_fecha_registro), len(bmw), len(outliers_fecha_registro)/len(bmw) * 100)"
   ]
  },
  {
   "cell_type": "markdown",
   "metadata": {},
   "source": [
    "##### Asientos_traseros_plegables (Eliminada)"
   ]
  },
  {
   "cell_type": "code",
   "execution_count": 23,
   "metadata": {},
   "outputs": [
    {
     "data": {
      "text/plain": [
       "marca                          20.0\n",
       "modelo                          0.0\n",
       "km                              0.0\n",
       "potencia                        0.0\n",
       "fecha_registro                  0.0\n",
       "tipo_gasolina                   0.0\n",
       "color                           9.0\n",
       "tipo_coche                     30.0\n",
       "volante_regulable               0.0\n",
       "aire_acondicionado             10.0\n",
       "camara_trasera                  0.0\n",
       "asientos_traseros_plegables    70.0\n",
       "elevalunas_electrico            0.0\n",
       "bluetooth                      15.0\n",
       "gps                             0.0\n",
       "alerta_lim_velocidad           15.0\n",
       "precio                          0.0\n",
       "fecha_venta                     0.0\n",
       "dtype: float64"
      ]
     },
     "execution_count": 23,
     "metadata": {},
     "output_type": "execute_result"
    }
   ],
   "source": [
    "# Seguimos mostrando el % de nulos para tratar las demas variables\n",
    "\n",
    "(bmw.isna().sum()/len(bmw)*100).round()"
   ]
  },
  {
   "cell_type": "code",
   "execution_count": 24,
   "metadata": {
    "notebookRunGroups": {
     "groupValue": "2"
    }
   },
   "outputs": [
    {
     "data": {
      "text/plain": [
       "np.int64(3391)"
      ]
     },
     "execution_count": 24,
     "metadata": {},
     "output_type": "execute_result"
    }
   ],
   "source": [
    "# Vemos que la variable \"asientos_traseros_plegables\", tiene demasiado nulos un 70% de sus registros son nulos.\n",
    "\n",
    "bmw[\"asientos_traseros_plegables\"].isna().sum()"
   ]
  },
  {
   "cell_type": "code",
   "execution_count": 25,
   "metadata": {},
   "outputs": [
    {
     "data": {
      "text/plain": [
       "(4843,)"
      ]
     },
     "execution_count": 25,
     "metadata": {},
     "output_type": "execute_result"
    }
   ],
   "source": [
    "bmw[\"asientos_traseros_plegables\"].shape"
   ]
  },
  {
   "cell_type": "markdown",
   "metadata": {},
   "source": [
    "Demasiados valores nulos:\n",
    "\n",
    "-Tiene 3388 nulos de un total de 4833 registros, lo que representa aproximadamente el 70% de los datos, tomo la decision de eliminarla, ya que no creo que sea una variable que nos pueda aportar demasiado al modelo."
   ]
  },
  {
   "cell_type": "code",
   "execution_count": 26,
   "metadata": {},
   "outputs": [
    {
     "data": {
      "text/html": [
       "<div>\n",
       "<style scoped>\n",
       "    .dataframe tbody tr th:only-of-type {\n",
       "        vertical-align: middle;\n",
       "    }\n",
       "\n",
       "    .dataframe tbody tr th {\n",
       "        vertical-align: top;\n",
       "    }\n",
       "\n",
       "    .dataframe thead th {\n",
       "        text-align: right;\n",
       "    }\n",
       "</style>\n",
       "<table border=\"1\" class=\"dataframe\">\n",
       "  <thead>\n",
       "    <tr style=\"text-align: right;\">\n",
       "      <th></th>\n",
       "      <th>marca</th>\n",
       "      <th>modelo</th>\n",
       "      <th>km</th>\n",
       "      <th>potencia</th>\n",
       "      <th>fecha_registro</th>\n",
       "      <th>tipo_gasolina</th>\n",
       "      <th>color</th>\n",
       "      <th>tipo_coche</th>\n",
       "      <th>volante_regulable</th>\n",
       "      <th>aire_acondicionado</th>\n",
       "      <th>camara_trasera</th>\n",
       "      <th>elevalunas_electrico</th>\n",
       "      <th>bluetooth</th>\n",
       "      <th>gps</th>\n",
       "      <th>alerta_lim_velocidad</th>\n",
       "      <th>precio</th>\n",
       "      <th>fecha_venta</th>\n",
       "    </tr>\n",
       "  </thead>\n",
       "  <tbody>\n",
       "    <tr>\n",
       "      <th>0</th>\n",
       "      <td>NaN</td>\n",
       "      <td>118</td>\n",
       "      <td>140411.0</td>\n",
       "      <td>100.0</td>\n",
       "      <td>2012-02-01</td>\n",
       "      <td>diesel</td>\n",
       "      <td>black</td>\n",
       "      <td>NaN</td>\n",
       "      <td>True</td>\n",
       "      <td>True</td>\n",
       "      <td>False</td>\n",
       "      <td>True</td>\n",
       "      <td>NaN</td>\n",
       "      <td>True</td>\n",
       "      <td>NaN</td>\n",
       "      <td>11300.0</td>\n",
       "      <td>2018-01-01</td>\n",
       "    </tr>\n",
       "    <tr>\n",
       "      <th>1</th>\n",
       "      <td>BMW</td>\n",
       "      <td>M4</td>\n",
       "      <td>13929.0</td>\n",
       "      <td>317.0</td>\n",
       "      <td>2013-07-01</td>\n",
       "      <td>petrol</td>\n",
       "      <td>grey</td>\n",
       "      <td>convertible</td>\n",
       "      <td>True</td>\n",
       "      <td>True</td>\n",
       "      <td>False</td>\n",
       "      <td>False</td>\n",
       "      <td>True</td>\n",
       "      <td>True</td>\n",
       "      <td>True</td>\n",
       "      <td>69700.0</td>\n",
       "      <td>2018-02-01</td>\n",
       "    </tr>\n",
       "    <tr>\n",
       "      <th>2</th>\n",
       "      <td>BMW</td>\n",
       "      <td>320</td>\n",
       "      <td>183297.0</td>\n",
       "      <td>120.0</td>\n",
       "      <td>2012-04-01</td>\n",
       "      <td>diesel</td>\n",
       "      <td>white</td>\n",
       "      <td>NaN</td>\n",
       "      <td>False</td>\n",
       "      <td>False</td>\n",
       "      <td>False</td>\n",
       "      <td>True</td>\n",
       "      <td>False</td>\n",
       "      <td>True</td>\n",
       "      <td>False</td>\n",
       "      <td>10200.0</td>\n",
       "      <td>2018-02-01</td>\n",
       "    </tr>\n",
       "    <tr>\n",
       "      <th>3</th>\n",
       "      <td>BMW</td>\n",
       "      <td>420</td>\n",
       "      <td>128035.0</td>\n",
       "      <td>135.0</td>\n",
       "      <td>2013-07-01</td>\n",
       "      <td>diesel</td>\n",
       "      <td>red</td>\n",
       "      <td>convertible</td>\n",
       "      <td>True</td>\n",
       "      <td>True</td>\n",
       "      <td>False</td>\n",
       "      <td>True</td>\n",
       "      <td>True</td>\n",
       "      <td>True</td>\n",
       "      <td>NaN</td>\n",
       "      <td>25100.0</td>\n",
       "      <td>2018-02-01</td>\n",
       "    </tr>\n",
       "    <tr>\n",
       "      <th>4</th>\n",
       "      <td>BMW</td>\n",
       "      <td>425</td>\n",
       "      <td>97097.0</td>\n",
       "      <td>160.0</td>\n",
       "      <td>2013-07-01</td>\n",
       "      <td>diesel</td>\n",
       "      <td>silver</td>\n",
       "      <td>NaN</td>\n",
       "      <td>True</td>\n",
       "      <td>True</td>\n",
       "      <td>False</td>\n",
       "      <td>False</td>\n",
       "      <td>True</td>\n",
       "      <td>True</td>\n",
       "      <td>True</td>\n",
       "      <td>33400.0</td>\n",
       "      <td>2018-04-01</td>\n",
       "    </tr>\n",
       "    <tr>\n",
       "      <th>...</th>\n",
       "      <td>...</td>\n",
       "      <td>...</td>\n",
       "      <td>...</td>\n",
       "      <td>...</td>\n",
       "      <td>...</td>\n",
       "      <td>...</td>\n",
       "      <td>...</td>\n",
       "      <td>...</td>\n",
       "      <td>...</td>\n",
       "      <td>...</td>\n",
       "      <td>...</td>\n",
       "      <td>...</td>\n",
       "      <td>...</td>\n",
       "      <td>...</td>\n",
       "      <td>...</td>\n",
       "      <td>...</td>\n",
       "      <td>...</td>\n",
       "    </tr>\n",
       "    <tr>\n",
       "      <th>4838</th>\n",
       "      <td>BMW</td>\n",
       "      <td>218 Gran Tourer</td>\n",
       "      <td>39743.0</td>\n",
       "      <td>110.0</td>\n",
       "      <td>2013-07-01</td>\n",
       "      <td>diesel</td>\n",
       "      <td>black</td>\n",
       "      <td>NaN</td>\n",
       "      <td>False</td>\n",
       "      <td>True</td>\n",
       "      <td>False</td>\n",
       "      <td>False</td>\n",
       "      <td>False</td>\n",
       "      <td>True</td>\n",
       "      <td>False</td>\n",
       "      <td>14600.0</td>\n",
       "      <td>2018-08-01</td>\n",
       "    </tr>\n",
       "    <tr>\n",
       "      <th>4839</th>\n",
       "      <td>BMW</td>\n",
       "      <td>218 Active Tourer</td>\n",
       "      <td>49832.0</td>\n",
       "      <td>100.0</td>\n",
       "      <td>2015-06-01</td>\n",
       "      <td>diesel</td>\n",
       "      <td>grey</td>\n",
       "      <td>NaN</td>\n",
       "      <td>False</td>\n",
       "      <td>True</td>\n",
       "      <td>False</td>\n",
       "      <td>False</td>\n",
       "      <td>False</td>\n",
       "      <td>True</td>\n",
       "      <td>True</td>\n",
       "      <td>17500.0</td>\n",
       "      <td>2018-08-01</td>\n",
       "    </tr>\n",
       "    <tr>\n",
       "      <th>4840</th>\n",
       "      <td>BMW</td>\n",
       "      <td>218 Gran Tourer</td>\n",
       "      <td>19633.0</td>\n",
       "      <td>110.0</td>\n",
       "      <td>2015-10-01</td>\n",
       "      <td>diesel</td>\n",
       "      <td>grey</td>\n",
       "      <td>van</td>\n",
       "      <td>False</td>\n",
       "      <td>True</td>\n",
       "      <td>False</td>\n",
       "      <td>False</td>\n",
       "      <td>False</td>\n",
       "      <td>True</td>\n",
       "      <td>True</td>\n",
       "      <td>17000.0</td>\n",
       "      <td>2018-09-01</td>\n",
       "    </tr>\n",
       "    <tr>\n",
       "      <th>4841</th>\n",
       "      <td>BMW</td>\n",
       "      <td>218 Active Tourer</td>\n",
       "      <td>27920.0</td>\n",
       "      <td>110.0</td>\n",
       "      <td>2016-04-01</td>\n",
       "      <td>diesel</td>\n",
       "      <td>brown</td>\n",
       "      <td>van</td>\n",
       "      <td>True</td>\n",
       "      <td>True</td>\n",
       "      <td>False</td>\n",
       "      <td>False</td>\n",
       "      <td>False</td>\n",
       "      <td>True</td>\n",
       "      <td>True</td>\n",
       "      <td>22700.0</td>\n",
       "      <td>2018-09-01</td>\n",
       "    </tr>\n",
       "    <tr>\n",
       "      <th>4842</th>\n",
       "      <td>BMW</td>\n",
       "      <td>525</td>\n",
       "      <td>195840.0</td>\n",
       "      <td>160.0</td>\n",
       "      <td>2013-07-01</td>\n",
       "      <td>diesel</td>\n",
       "      <td>grey</td>\n",
       "      <td>NaN</td>\n",
       "      <td>True</td>\n",
       "      <td>NaN</td>\n",
       "      <td>False</td>\n",
       "      <td>True</td>\n",
       "      <td>False</td>\n",
       "      <td>True</td>\n",
       "      <td>True</td>\n",
       "      <td>15500.0</td>\n",
       "      <td>2018-09-01</td>\n",
       "    </tr>\n",
       "  </tbody>\n",
       "</table>\n",
       "<p>4843 rows × 17 columns</p>\n",
       "</div>"
      ],
      "text/plain": [
       "     marca             modelo        km  potencia fecha_registro  \\\n",
       "0      NaN                118  140411.0     100.0     2012-02-01   \n",
       "1      BMW                 M4   13929.0     317.0     2013-07-01   \n",
       "2      BMW                320  183297.0     120.0     2012-04-01   \n",
       "3      BMW                420  128035.0     135.0     2013-07-01   \n",
       "4      BMW                425   97097.0     160.0     2013-07-01   \n",
       "...    ...                ...       ...       ...            ...   \n",
       "4838   BMW    218 Gran Tourer   39743.0     110.0     2013-07-01   \n",
       "4839   BMW  218 Active Tourer   49832.0     100.0     2015-06-01   \n",
       "4840   BMW    218 Gran Tourer   19633.0     110.0     2015-10-01   \n",
       "4841   BMW  218 Active Tourer   27920.0     110.0     2016-04-01   \n",
       "4842   BMW                525  195840.0     160.0     2013-07-01   \n",
       "\n",
       "     tipo_gasolina   color   tipo_coche volante_regulable aire_acondicionado  \\\n",
       "0           diesel   black          NaN              True               True   \n",
       "1           petrol    grey  convertible              True               True   \n",
       "2           diesel   white          NaN             False              False   \n",
       "3           diesel     red  convertible              True               True   \n",
       "4           diesel  silver          NaN              True               True   \n",
       "...            ...     ...          ...               ...                ...   \n",
       "4838        diesel   black          NaN             False               True   \n",
       "4839        diesel    grey          NaN             False               True   \n",
       "4840        diesel    grey          van             False               True   \n",
       "4841        diesel   brown          van              True               True   \n",
       "4842        diesel    grey          NaN              True                NaN   \n",
       "\n",
       "     camara_trasera elevalunas_electrico bluetooth   gps alerta_lim_velocidad  \\\n",
       "0             False                 True       NaN  True                  NaN   \n",
       "1             False                False      True  True                 True   \n",
       "2             False                 True     False  True                False   \n",
       "3             False                 True      True  True                  NaN   \n",
       "4             False                False      True  True                 True   \n",
       "...             ...                  ...       ...   ...                  ...   \n",
       "4838          False                False     False  True                False   \n",
       "4839          False                False     False  True                 True   \n",
       "4840          False                False     False  True                 True   \n",
       "4841          False                False     False  True                 True   \n",
       "4842          False                 True     False  True                 True   \n",
       "\n",
       "       precio fecha_venta  \n",
       "0     11300.0  2018-01-01  \n",
       "1     69700.0  2018-02-01  \n",
       "2     10200.0  2018-02-01  \n",
       "3     25100.0  2018-02-01  \n",
       "4     33400.0  2018-04-01  \n",
       "...       ...         ...  \n",
       "4838  14600.0  2018-08-01  \n",
       "4839  17500.0  2018-08-01  \n",
       "4840  17000.0  2018-09-01  \n",
       "4841  22700.0  2018-09-01  \n",
       "4842  15500.0  2018-09-01  \n",
       "\n",
       "[4843 rows x 17 columns]"
      ]
     },
     "execution_count": 26,
     "metadata": {},
     "output_type": "execute_result"
    }
   ],
   "source": [
    "bmw.drop(columns=['asientos_traseros_plegables'], inplace=True)\n",
    "bmw"
   ]
  },
  {
   "cell_type": "code",
   "execution_count": 27,
   "metadata": {},
   "outputs": [
    {
     "data": {
      "text/plain": [
       "marca                   20.02891\n",
       "modelo                   0.06195\n",
       "km                       0.04130\n",
       "potencia                 0.02065\n",
       "fecha_registro           0.00000\n",
       "tipo_gasolina            0.10324\n",
       "color                    9.18852\n",
       "tipo_coche              30.14660\n",
       "volante_regulable        0.08259\n",
       "aire_acondicionado      10.03510\n",
       "camara_trasera           0.04130\n",
       "elevalunas_electrico     0.04130\n",
       "bluetooth               15.03200\n",
       "gps                      0.00000\n",
       "alerta_lim_velocidad    15.03200\n",
       "precio                   0.12389\n",
       "fecha_venta              0.02065\n",
       "dtype: float64"
      ]
     },
     "execution_count": 27,
     "metadata": {},
     "output_type": "execute_result"
    }
   ],
   "source": [
    "(bmw.isna().sum()/len(bmw)*100).round(5)"
   ]
  },
  {
   "cell_type": "markdown",
   "metadata": {},
   "source": [
    "##### Marca (Eliminada)"
   ]
  },
  {
   "cell_type": "code",
   "execution_count": 28,
   "metadata": {},
   "outputs": [
    {
     "data": {
      "text/plain": [
       "marca\n",
       "BMW    3873\n",
       "Name: count, dtype: int64"
      ]
     },
     "execution_count": 28,
     "metadata": {},
     "output_type": "execute_result"
    }
   ],
   "source": [
    "bmw[\"marca\"].value_counts()"
   ]
  },
  {
   "cell_type": "code",
   "execution_count": 29,
   "metadata": {},
   "outputs": [],
   "source": [
    "bmw.drop(columns= [\"marca\"], inplace=True)"
   ]
  },
  {
   "cell_type": "code",
   "execution_count": 30,
   "metadata": {},
   "outputs": [
    {
     "data": {
      "text/html": [
       "<div>\n",
       "<style scoped>\n",
       "    .dataframe tbody tr th:only-of-type {\n",
       "        vertical-align: middle;\n",
       "    }\n",
       "\n",
       "    .dataframe tbody tr th {\n",
       "        vertical-align: top;\n",
       "    }\n",
       "\n",
       "    .dataframe thead th {\n",
       "        text-align: right;\n",
       "    }\n",
       "</style>\n",
       "<table border=\"1\" class=\"dataframe\">\n",
       "  <thead>\n",
       "    <tr style=\"text-align: right;\">\n",
       "      <th></th>\n",
       "      <th>modelo</th>\n",
       "      <th>km</th>\n",
       "      <th>potencia</th>\n",
       "      <th>fecha_registro</th>\n",
       "      <th>tipo_gasolina</th>\n",
       "      <th>color</th>\n",
       "      <th>tipo_coche</th>\n",
       "      <th>volante_regulable</th>\n",
       "      <th>aire_acondicionado</th>\n",
       "      <th>camara_trasera</th>\n",
       "      <th>elevalunas_electrico</th>\n",
       "      <th>bluetooth</th>\n",
       "      <th>gps</th>\n",
       "      <th>alerta_lim_velocidad</th>\n",
       "      <th>precio</th>\n",
       "      <th>fecha_venta</th>\n",
       "    </tr>\n",
       "  </thead>\n",
       "  <tbody>\n",
       "    <tr>\n",
       "      <th>0</th>\n",
       "      <td>118</td>\n",
       "      <td>140411.0</td>\n",
       "      <td>100.0</td>\n",
       "      <td>2012-02-01</td>\n",
       "      <td>diesel</td>\n",
       "      <td>black</td>\n",
       "      <td>NaN</td>\n",
       "      <td>True</td>\n",
       "      <td>True</td>\n",
       "      <td>False</td>\n",
       "      <td>True</td>\n",
       "      <td>NaN</td>\n",
       "      <td>True</td>\n",
       "      <td>NaN</td>\n",
       "      <td>11300.0</td>\n",
       "      <td>2018-01-01</td>\n",
       "    </tr>\n",
       "    <tr>\n",
       "      <th>1</th>\n",
       "      <td>M4</td>\n",
       "      <td>13929.0</td>\n",
       "      <td>317.0</td>\n",
       "      <td>2013-07-01</td>\n",
       "      <td>petrol</td>\n",
       "      <td>grey</td>\n",
       "      <td>convertible</td>\n",
       "      <td>True</td>\n",
       "      <td>True</td>\n",
       "      <td>False</td>\n",
       "      <td>False</td>\n",
       "      <td>True</td>\n",
       "      <td>True</td>\n",
       "      <td>True</td>\n",
       "      <td>69700.0</td>\n",
       "      <td>2018-02-01</td>\n",
       "    </tr>\n",
       "    <tr>\n",
       "      <th>2</th>\n",
       "      <td>320</td>\n",
       "      <td>183297.0</td>\n",
       "      <td>120.0</td>\n",
       "      <td>2012-04-01</td>\n",
       "      <td>diesel</td>\n",
       "      <td>white</td>\n",
       "      <td>NaN</td>\n",
       "      <td>False</td>\n",
       "      <td>False</td>\n",
       "      <td>False</td>\n",
       "      <td>True</td>\n",
       "      <td>False</td>\n",
       "      <td>True</td>\n",
       "      <td>False</td>\n",
       "      <td>10200.0</td>\n",
       "      <td>2018-02-01</td>\n",
       "    </tr>\n",
       "    <tr>\n",
       "      <th>3</th>\n",
       "      <td>420</td>\n",
       "      <td>128035.0</td>\n",
       "      <td>135.0</td>\n",
       "      <td>2013-07-01</td>\n",
       "      <td>diesel</td>\n",
       "      <td>red</td>\n",
       "      <td>convertible</td>\n",
       "      <td>True</td>\n",
       "      <td>True</td>\n",
       "      <td>False</td>\n",
       "      <td>True</td>\n",
       "      <td>True</td>\n",
       "      <td>True</td>\n",
       "      <td>NaN</td>\n",
       "      <td>25100.0</td>\n",
       "      <td>2018-02-01</td>\n",
       "    </tr>\n",
       "    <tr>\n",
       "      <th>4</th>\n",
       "      <td>425</td>\n",
       "      <td>97097.0</td>\n",
       "      <td>160.0</td>\n",
       "      <td>2013-07-01</td>\n",
       "      <td>diesel</td>\n",
       "      <td>silver</td>\n",
       "      <td>NaN</td>\n",
       "      <td>True</td>\n",
       "      <td>True</td>\n",
       "      <td>False</td>\n",
       "      <td>False</td>\n",
       "      <td>True</td>\n",
       "      <td>True</td>\n",
       "      <td>True</td>\n",
       "      <td>33400.0</td>\n",
       "      <td>2018-04-01</td>\n",
       "    </tr>\n",
       "  </tbody>\n",
       "</table>\n",
       "</div>"
      ],
      "text/plain": [
       "  modelo        km  potencia fecha_registro tipo_gasolina   color  \\\n",
       "0    118  140411.0     100.0     2012-02-01        diesel   black   \n",
       "1     M4   13929.0     317.0     2013-07-01        petrol    grey   \n",
       "2    320  183297.0     120.0     2012-04-01        diesel   white   \n",
       "3    420  128035.0     135.0     2013-07-01        diesel     red   \n",
       "4    425   97097.0     160.0     2013-07-01        diesel  silver   \n",
       "\n",
       "    tipo_coche volante_regulable aire_acondicionado camara_trasera  \\\n",
       "0          NaN              True               True          False   \n",
       "1  convertible              True               True          False   \n",
       "2          NaN             False              False          False   \n",
       "3  convertible              True               True          False   \n",
       "4          NaN              True               True          False   \n",
       "\n",
       "  elevalunas_electrico bluetooth   gps alerta_lim_velocidad   precio  \\\n",
       "0                 True       NaN  True                  NaN  11300.0   \n",
       "1                False      True  True                 True  69700.0   \n",
       "2                 True     False  True                False  10200.0   \n",
       "3                 True      True  True                  NaN  25100.0   \n",
       "4                False      True  True                 True  33400.0   \n",
       "\n",
       "  fecha_venta  \n",
       "0  2018-01-01  \n",
       "1  2018-02-01  \n",
       "2  2018-02-01  \n",
       "3  2018-02-01  \n",
       "4  2018-04-01  "
      ]
     },
     "execution_count": 30,
     "metadata": {},
     "output_type": "execute_result"
    }
   ],
   "source": [
    "bmw.head()"
   ]
  },
  {
   "cell_type": "markdown",
   "metadata": {},
   "source": [
    "La columna marca fue eliminada porque solo contiene un valor (BMW) en todos los registros, lo que no aporta información útil ni variabilidad para el análisis o el modelo."
   ]
  },
  {
   "cell_type": "markdown",
   "metadata": {},
   "source": [
    "##### *Guardamos el doc, en un pickle"
   ]
  },
  {
   "cell_type": "code",
   "execution_count": 31,
   "metadata": {},
   "outputs": [],
   "source": [
    "bmw2 = bmw.copy()"
   ]
  },
  {
   "cell_type": "code",
   "execution_count": 32,
   "metadata": {},
   "outputs": [],
   "source": [
    "bmw2.to_pickle('bmw_procesado.pkl')"
   ]
  },
  {
   "cell_type": "code",
   "execution_count": 33,
   "metadata": {},
   "outputs": [],
   "source": [
    "bmw2 = pd.read_pickle('bmw_procesado.pkl')"
   ]
  },
  {
   "cell_type": "markdown",
   "metadata": {},
   "source": [
    "##### Tipo_Coche"
   ]
  },
  {
   "cell_type": "code",
   "execution_count": 34,
   "metadata": {},
   "outputs": [
    {
     "data": {
      "text/plain": [
       "tipo_coche\n",
       "estate         1107\n",
       "sedan           821\n",
       "suv             755\n",
       "hatchback       488\n",
       "subcompact       77\n",
       "coupe            76\n",
       "convertible      30\n",
       "van              29\n",
       "Name: count, dtype: int64"
      ]
     },
     "execution_count": 34,
     "metadata": {},
     "output_type": "execute_result"
    }
   ],
   "source": [
    "bmw2[\"tipo_coche\"].value_counts()"
   ]
  },
  {
   "cell_type": "markdown",
   "metadata": {},
   "source": [
    "Mi idea para tratar los nulos en la variable tipo_coche era reemplazarlo por la moda pero antes de hacerlo, decidi relacionarla con el target\n",
    "a ver si varia demasiado."
   ]
  },
  {
   "cell_type": "code",
   "execution_count": 35,
   "metadata": {},
   "outputs": [
    {
     "data": {
      "text/plain": [
       "tipo_coche\n",
       "convertible    16796.67\n",
       "coupe          22518.67\n",
       "estate         13051.81\n",
       "hatchback      13275.82\n",
       "sedan          16086.85\n",
       "subcompact      9732.47\n",
       "suv            21744.77\n",
       "van            14813.79\n",
       "Name: precio, dtype: float64"
      ]
     },
     "execution_count": 35,
     "metadata": {},
     "output_type": "execute_result"
    }
   ],
   "source": [
    "# Mediante la funcion groupby, agrupo tipo_coche y precio, mostrando la media\n",
    "\n",
    "bmw2.groupby('tipo_coche')['precio'].mean().round(2)"
   ]
  },
  {
   "cell_type": "code",
   "execution_count": 36,
   "metadata": {},
   "outputs": [
    {
     "data": {
      "text/plain": [
       "<Axes: xlabel='tipo_coche', ylabel='precio'>"
      ]
     },
     "execution_count": 36,
     "metadata": {},
     "output_type": "execute_result"
    },
    {
     "data": {
      "image/png": "[encoded data removed]",
      "text/plain": [
       "<Figure size 640x480 with 1 Axes>"
      ]
     },
     "metadata": {},
     "output_type": "display_data"
    }
   ],
   "source": [
    "# Con un Boxplot, podremos ver como se distribuyen mejor los valores.\n",
    "sns.boxplot(x='tipo_coche', y='precio', data=bmw2)"
   ]
  },
  {
   "cell_type": "markdown",
   "metadata": {},
   "source": [
    "Podríamos justificar que variables como tipo_coche están relacionadas con el precio, lo que las convierte en buenas candidatas para incluir en un modelo."
   ]
  },
  {
   "cell_type": "markdown",
   "metadata": {},
   "source": [
    "Implementar la moda en esta variable seria una opcion?,\n",
    "Que pasa si imputo con la moda (estate)?:\n",
    "\n",
    "Imputar todo con la moda distorsionaría las frecuencias de las categorías, haciendo que los estate sean artificialmente más comunes."
   ]
  },
  {
   "cell_type": "code",
   "execution_count": 37,
   "metadata": {},
   "outputs": [
    {
     "name": "stderr",
     "output_type": "stream",
     "text": [
      "C:\\Users\\Jfeij\\AppData\\Local\\Temp\\ipykernel_11652\\354518396.py:2: FutureWarning: The default of observed=False is deprecated and will be changed to True in a future version of pandas. Pass observed=False to retain current behavior or observed=True to adopt the future default and silence this warning.\n",
      "  bmw2.groupby(pd.cut(bmw2['precio'], bins=[0, 15000, 20000, 50000]))['tipo_coche'].value_counts(normalize=True)\n"
     ]
    },
    {
     "data": {
      "text/plain": [
       "precio          tipo_coche \n",
       "(0, 15000]      estate         0.408185\n",
       "                sedan          0.224554\n",
       "                hatchback      0.173662\n",
       "                suv            0.129591\n",
       "                subcompact     0.035677\n",
       "                coupe          0.011542\n",
       "                convertible    0.008395\n",
       "                van            0.008395\n",
       "(15000, 20000]  sedan          0.303571\n",
       "                estate         0.286990\n",
       "                suv            0.253827\n",
       "                hatchback      0.114796\n",
       "                coupe          0.012755\n",
       "                van            0.012755\n",
       "                subcompact     0.010204\n",
       "                convertible    0.005102\n",
       "(20000, 50000]  suv            0.447289\n",
       "                sedan          0.218373\n",
       "                estate         0.152108\n",
       "                hatchback      0.100904\n",
       "                coupe          0.061747\n",
       "                convertible    0.013554\n",
       "                van            0.004518\n",
       "                subcompact     0.001506\n",
       "Name: proportion, dtype: float64"
      ]
     },
     "execution_count": 37,
     "metadata": {},
     "output_type": "execute_result"
    }
   ],
   "source": [
    "# Divido los precios en rangos de precio\n",
    "bmw2.groupby(pd.cut(bmw2['precio'], bins=[0, 15000, 20000, 50000]))['tipo_coche'].value_counts(normalize=True)"
   ]
  },
  {
   "cell_type": "markdown",
   "metadata": {},
   "source": [
    "Los nulos fueron rellenados de manera lógica según los patrones observados entre tipo_coche y precio."
   ]
  },
  {
   "cell_type": "code",
   "execution_count": 38,
   "metadata": {},
   "outputs": [],
   "source": [
    "# Estrategia de imputación condicional:\n",
    "\n",
    "# Mayor probabilidad: estate (40.8%), luego sedan (22.4%).\n",
    "\n",
    "bmw2.loc[(bmw2['tipo_coche'].isna()) & (bmw2['precio'] <= 15000), 'tipo_coche'] = 'estate'"
   ]
  },
  {
   "cell_type": "code",
   "execution_count": 39,
   "metadata": {},
   "outputs": [],
   "source": [
    "# Rango medio (15,000 - 20,000):\n",
    "\n",
    "# Mayor probabilidad: sedan (30.3%), estate (28.6%), o SUV (25.3%).\n",
    "\n",
    "bmw2.loc[(bmw2['tipo_coche'].isna()) & (bmw2['precio'] <= 20000), 'tipo_coche'] = 'sedan'"
   ]
  },
  {
   "cell_type": "code",
   "execution_count": 40,
   "metadata": {},
   "outputs": [],
   "source": [
    "# Rango alto (20,000 - 50,000):\n",
    "\n",
    "# Mayor probabilidad: SUV (44.7%), seguido de sedan (21.8%).\n",
    "\n",
    "bmw2.loc[(bmw2['tipo_coche'].isna()) & (bmw2['precio'] > 20000), 'tipo_coche'] = 'SUV'"
   ]
  },
  {
   "cell_type": "code",
   "execution_count": 41,
   "metadata": {},
   "outputs": [
    {
     "data": {
      "text/plain": [
       "np.int64(2)"
      ]
     },
     "execution_count": 41,
     "metadata": {},
     "output_type": "execute_result"
    }
   ],
   "source": [
    "# Corroboro si quedaron valores nulos en \"tipo_coche\"\n",
    "bmw2[\"tipo_coche\"].isna().sum()"
   ]
  },
  {
   "cell_type": "code",
   "execution_count": 42,
   "metadata": {},
   "outputs": [],
   "source": [
    "# aqui tengo que hacer un drop.na\n",
    "bmw2 = bmw2.dropna(subset=['tipo_coche'])"
   ]
  },
  {
   "cell_type": "code",
   "execution_count": 43,
   "metadata": {},
   "outputs": [
    {
     "data": {
      "text/plain": [
       "np.int64(0)"
      ]
     },
     "execution_count": 43,
     "metadata": {},
     "output_type": "execute_result"
    }
   ],
   "source": [
    "bmw2['tipo_coche'].isna().sum()"
   ]
  },
  {
   "cell_type": "code",
   "execution_count": 44,
   "metadata": {},
   "outputs": [
    {
     "data": {
      "text/plain": [
       "tipo_coche\n",
       "estate         1934\n",
       "sedan          1160\n",
       "suv             755\n",
       "hatchback       488\n",
       "SUV             292\n",
       "subcompact       77\n",
       "coupe            76\n",
       "convertible      30\n",
       "van              29\n",
       "Name: count, dtype: int64"
      ]
     },
     "execution_count": 44,
     "metadata": {},
     "output_type": "execute_result"
    }
   ],
   "source": [
    "bmw2[\"tipo_coche\"].value_counts()"
   ]
  },
  {
   "cell_type": "markdown",
   "metadata": {},
   "source": [
    "- Se demostro la importancia de tipo_coche para confirmar su relación con el target (precio).\n",
    "- Uso rangos de precio para identificar patrones de distribución en tipo_coche.\n",
    "- Se Imputan los valores nulos de manera condicional, asignando categorías basadas en el precio.\n",
    "\n",
    "Que se busca con esta idea?:\n",
    "\n",
    "- Preserva la relación con el target (precio).\n",
    "- Evita eliminar datos innecesariamente.\n",
    "- Minimiza el sesgo introducido."
   ]
  },
  {
   "cell_type": "code",
   "execution_count": 45,
   "metadata": {},
   "outputs": [
    {
     "data": {
      "text/plain": [
       "modelo                   0.061971\n",
       "km                       0.041314\n",
       "potencia                 0.020657\n",
       "fecha_registro           0.000000\n",
       "tipo_gasolina            0.103284\n",
       "color                    9.192316\n",
       "tipo_coche               0.000000\n",
       "volante_regulable        0.082628\n",
       "aire_acondicionado      10.039248\n",
       "camara_trasera           0.041314\n",
       "elevalunas_electrico     0.041314\n",
       "bluetooth               15.038215\n",
       "gps                      0.000000\n",
       "alerta_lim_velocidad    15.038215\n",
       "precio                   0.082628\n",
       "fecha_venta              0.020657\n",
       "dtype: float64"
      ]
     },
     "execution_count": 45,
     "metadata": {},
     "output_type": "execute_result"
    }
   ],
   "source": [
    "bmw2.isnull().sum()/len(bmw2)*100"
   ]
  },
  {
   "cell_type": "markdown",
   "metadata": {},
   "source": [
    "##### Bluetooht"
   ]
  },
  {
   "cell_type": "code",
   "execution_count": 46,
   "metadata": {},
   "outputs": [
    {
     "data": {
      "text/plain": [
       "np.float64(15.038215244784137)"
      ]
     },
     "execution_count": 46,
     "metadata": {},
     "output_type": "execute_result"
    }
   ],
   "source": [
    "bmw2['bluetooth'].isna().sum()/len(bmw2)*100"
   ]
  },
  {
   "cell_type": "code",
   "execution_count": 47,
   "metadata": {},
   "outputs": [
    {
     "data": {
      "text/plain": [
       "bluetooth\n",
       "False    3118\n",
       "True      995\n",
       "Name: count, dtype: int64"
      ]
     },
     "execution_count": 47,
     "metadata": {},
     "output_type": "execute_result"
    }
   ],
   "source": [
    "bmw2['bluetooth'].value_counts()"
   ]
  },
  {
   "cell_type": "code",
   "execution_count": 48,
   "metadata": {},
   "outputs": [
    {
     "data": {
      "text/plain": [
       "bluetooth\n",
       "False    15739.522998\n",
       "True     16353.434066\n",
       "Name: precio, dtype: float64"
      ]
     },
     "execution_count": 48,
     "metadata": {},
     "output_type": "execute_result"
    }
   ],
   "source": [
    "#Verifico la relacion con el target(precio)\n",
    "bmw2.groupby(bmw2['bluetooth'].isna())['precio'].mean()"
   ]
  },
  {
   "cell_type": "code",
   "execution_count": 49,
   "metadata": {},
   "outputs": [
    {
     "data": {
      "text/plain": [
       "0    False\n",
       "Name: bluetooth, dtype: object"
      ]
     },
     "execution_count": 49,
     "metadata": {},
     "output_type": "execute_result"
    }
   ],
   "source": [
    "bmw2['bluetooth'].mode()"
   ]
  },
  {
   "cell_type": "code",
   "execution_count": 50,
   "metadata": {},
   "outputs": [
    {
     "name": "stderr",
     "output_type": "stream",
     "text": [
      "C:\\Users\\Jfeij\\AppData\\Local\\Temp\\ipykernel_11652\\15205084.py:2: FutureWarning: A value is trying to be set on a copy of a DataFrame or Series through chained assignment using an inplace method.\n",
      "The behavior will change in pandas 3.0. This inplace method will never work because the intermediate object on which we are setting values always behaves as a copy.\n",
      "\n",
      "For example, when doing 'df[col].method(value, inplace=True)', try using 'df.method({col: value}, inplace=True)' or df[col] = df[col].method(value) instead, to perform the operation inplace on the original object.\n",
      "\n",
      "\n",
      "  bmw2['bluetooth'].fillna(False, inplace=True)\n",
      "C:\\Users\\Jfeij\\AppData\\Local\\Temp\\ipykernel_11652\\15205084.py:2: FutureWarning: Downcasting object dtype arrays on .fillna, .ffill, .bfill is deprecated and will change in a future version. Call result.infer_objects(copy=False) instead. To opt-in to the future behavior, set `pd.set_option('future.no_silent_downcasting', True)`\n",
      "  bmw2['bluetooth'].fillna(False, inplace=True)\n"
     ]
    }
   ],
   "source": [
    "#Relleno valores con la moda (False), ya que son pocos valores (15%) y no afectan significativamente al data frame\n",
    "bmw2['bluetooth'].fillna(False, inplace=True)"
   ]
  },
  {
   "cell_type": "code",
   "execution_count": 51,
   "metadata": {},
   "outputs": [
    {
     "data": {
      "text/plain": [
       "np.int64(0)"
      ]
     },
     "execution_count": 51,
     "metadata": {},
     "output_type": "execute_result"
    }
   ],
   "source": [
    "bmw2['bluetooth'].isna().sum()"
   ]
  },
  {
   "cell_type": "code",
   "execution_count": 52,
   "metadata": {},
   "outputs": [
    {
     "data": {
      "text/plain": [
       "modelo                   0.061971\n",
       "km                       0.041314\n",
       "potencia                 0.020657\n",
       "fecha_registro           0.000000\n",
       "tipo_gasolina            0.103284\n",
       "color                    9.192316\n",
       "tipo_coche               0.000000\n",
       "volante_regulable        0.082628\n",
       "aire_acondicionado      10.039248\n",
       "camara_trasera           0.041314\n",
       "elevalunas_electrico     0.041314\n",
       "bluetooth                0.000000\n",
       "gps                      0.000000\n",
       "alerta_lim_velocidad    15.038215\n",
       "precio                   0.082628\n",
       "fecha_venta              0.020657\n",
       "dtype: float64"
      ]
     },
     "execution_count": 52,
     "metadata": {},
     "output_type": "execute_result"
    }
   ],
   "source": [
    "bmw2.isnull().sum()/len(bmw2)*100"
   ]
  },
  {
   "cell_type": "markdown",
   "metadata": {},
   "source": [
    "##### Alerta_lim_velocidad"
   ]
  },
  {
   "cell_type": "code",
   "execution_count": 53,
   "metadata": {},
   "outputs": [
    {
     "data": {
      "text/plain": [
       "alerta_lim_velocidad\n",
       "True     2239\n",
       "False    1874\n",
       "Name: count, dtype: int64"
      ]
     },
     "execution_count": 53,
     "metadata": {},
     "output_type": "execute_result"
    }
   ],
   "source": [
    "bmw2[\"alerta_lim_velocidad\"].value_counts()"
   ]
  },
  {
   "cell_type": "code",
   "execution_count": 54,
   "metadata": {},
   "outputs": [
    {
     "data": {
      "text/plain": [
       "np.int64(728)"
      ]
     },
     "execution_count": 54,
     "metadata": {},
     "output_type": "execute_result"
    }
   ],
   "source": [
    "bmw[\"alerta_lim_velocidad\"].isna().sum()"
   ]
  },
  {
   "cell_type": "code",
   "execution_count": 55,
   "metadata": {},
   "outputs": [
    {
     "name": "stderr",
     "output_type": "stream",
     "text": [
      "C:\\Users\\Jfeij\\AppData\\Local\\Temp\\ipykernel_11652\\1114208991.py:3: FutureWarning: A value is trying to be set on a copy of a DataFrame or Series through chained assignment using an inplace method.\n",
      "The behavior will change in pandas 3.0. This inplace method will never work because the intermediate object on which we are setting values always behaves as a copy.\n",
      "\n",
      "For example, when doing 'df[col].method(value, inplace=True)', try using 'df.method({col: value}, inplace=True)' or df[col] = df[col].method(value) instead, to perform the operation inplace on the original object.\n",
      "\n",
      "\n",
      "  bmw2[\"alerta_lim_velocidad\"].fillna(True, inplace = True)\n",
      "C:\\Users\\Jfeij\\AppData\\Local\\Temp\\ipykernel_11652\\1114208991.py:3: FutureWarning: Downcasting object dtype arrays on .fillna, .ffill, .bfill is deprecated and will change in a future version. Call result.infer_objects(copy=False) instead. To opt-in to the future behavior, set `pd.set_option('future.no_silent_downcasting', True)`\n",
      "  bmw2[\"alerta_lim_velocidad\"].fillna(True, inplace = True)\n"
     ]
    }
   ],
   "source": [
    "# Lo mismo que ocurrio con la variable \"bluetooth\", relleno valores con la moda (True), ya que son pocos valores (15%) y no afectan significativamente al data frame\n",
    "\n",
    "bmw2[\"alerta_lim_velocidad\"].fillna(True, inplace = True)"
   ]
  },
  {
   "cell_type": "code",
   "execution_count": 56,
   "metadata": {},
   "outputs": [
    {
     "data": {
      "text/plain": [
       "alerta_lim_velocidad\n",
       "True     2967\n",
       "False    1874\n",
       "Name: count, dtype: int64"
      ]
     },
     "execution_count": 56,
     "metadata": {},
     "output_type": "execute_result"
    }
   ],
   "source": [
    "bmw2[\"alerta_lim_velocidad\"].value_counts()"
   ]
  },
  {
   "cell_type": "code",
   "execution_count": 57,
   "metadata": {},
   "outputs": [
    {
     "data": {
      "text/plain": [
       "np.int64(0)"
      ]
     },
     "execution_count": 57,
     "metadata": {},
     "output_type": "execute_result"
    }
   ],
   "source": [
    "bmw2[\"alerta_lim_velocidad\"].isna().sum()"
   ]
  },
  {
   "cell_type": "markdown",
   "metadata": {},
   "source": [
    "##### Color (Agrupamos solo en 3 categorias, con categoria \"Otros\")"
   ]
  },
  {
   "cell_type": "code",
   "execution_count": 58,
   "metadata": {},
   "outputs": [
    {
     "data": {
      "text/plain": [
       "np.float64(9.0)"
      ]
     },
     "execution_count": 58,
     "metadata": {},
     "output_type": "execute_result"
    }
   ],
   "source": [
    "(bmw2[\"color\"].isna().sum()/len(bmw2)*100).round()"
   ]
  },
  {
   "cell_type": "code",
   "execution_count": 59,
   "metadata": {},
   "outputs": [
    {
     "data": {
      "text/plain": [
       "color\n",
       "black     1499\n",
       "grey      1070\n",
       "blue       645\n",
       "white      484\n",
       "brown      302\n",
       "silver     292\n",
       "red         47\n",
       "beige       37\n",
       "green       14\n",
       "orange       6\n",
       "Name: count, dtype: int64"
      ]
     },
     "execution_count": 59,
     "metadata": {},
     "output_type": "execute_result"
    }
   ],
   "source": [
    "# Aqui en esta variable al solo tener un 9% de valores nulos, se me ocurre quedarme con los dos primeros valores ya que son los mas .\n",
    "\n",
    "bmw2[\"color\"].value_counts()"
   ]
  },
  {
   "cell_type": "code",
   "execution_count": 60,
   "metadata": {},
   "outputs": [],
   "source": [
    "# Primero selecciono el top 2 de colores, y luego los demas los coloco en otra categoria como \"Otros\":\n",
    "\n",
    "Top_color = bmw2[\"color\"].value_counts().head(2).index\n",
    "\n",
    "bmw2[\"Color_simplificado\"] = bmw2[\"color\"].apply(\n",
    "    lambda x:\n",
    "    x if x in Top_color \n",
    "    else \"Otros\")"
   ]
  },
  {
   "cell_type": "code",
   "execution_count": 61,
   "metadata": {},
   "outputs": [
    {
     "data": {
      "text/plain": [
       "Color_simplificado\n",
       "Otros    2272\n",
       "black    1499\n",
       "grey     1070\n",
       "Name: count, dtype: int64"
      ]
     },
     "execution_count": 61,
     "metadata": {},
     "output_type": "execute_result"
    }
   ],
   "source": [
    "bmw2[\"Color_simplificado\"].value_counts()"
   ]
  },
  {
   "cell_type": "code",
   "execution_count": 62,
   "metadata": {},
   "outputs": [],
   "source": [
    "# Asigno los valores nulos de la variable \"color\" (9%), al ser pocos a la moda.\n",
    "\n",
    "bmw2[\"color\"] = bmw2[\"color\"].fillna(\"black\")\n"
   ]
  },
  {
   "cell_type": "code",
   "execution_count": 63,
   "metadata": {},
   "outputs": [],
   "source": [
    "bmw2[\"Color_simplificado\"] = bmw2[\"color\"].apply(\n",
    "    lambda x:\n",
    "    x if x in Top_color \n",
    "    else \"Otros\")"
   ]
  },
  {
   "cell_type": "code",
   "execution_count": 64,
   "metadata": {},
   "outputs": [
    {
     "data": {
      "text/plain": [
       "Color_simplificado\n",
       "black    1944\n",
       "Otros    1827\n",
       "grey     1070\n",
       "Name: count, dtype: int64"
      ]
     },
     "execution_count": 64,
     "metadata": {},
     "output_type": "execute_result"
    }
   ],
   "source": [
    "bmw2[\"Color_simplificado\"].value_counts()"
   ]
  },
  {
   "cell_type": "code",
   "execution_count": 65,
   "metadata": {},
   "outputs": [
    {
     "data": {
      "text/html": [
       "<div>\n",
       "<style scoped>\n",
       "    .dataframe tbody tr th:only-of-type {\n",
       "        vertical-align: middle;\n",
       "    }\n",
       "\n",
       "    .dataframe tbody tr th {\n",
       "        vertical-align: top;\n",
       "    }\n",
       "\n",
       "    .dataframe thead th {\n",
       "        text-align: right;\n",
       "    }\n",
       "</style>\n",
       "<table border=\"1\" class=\"dataframe\">\n",
       "  <thead>\n",
       "    <tr style=\"text-align: right;\">\n",
       "      <th></th>\n",
       "      <th>modelo</th>\n",
       "      <th>km</th>\n",
       "      <th>potencia</th>\n",
       "      <th>fecha_registro</th>\n",
       "      <th>tipo_gasolina</th>\n",
       "      <th>color</th>\n",
       "      <th>tipo_coche</th>\n",
       "      <th>volante_regulable</th>\n",
       "      <th>aire_acondicionado</th>\n",
       "      <th>camara_trasera</th>\n",
       "      <th>elevalunas_electrico</th>\n",
       "      <th>bluetooth</th>\n",
       "      <th>gps</th>\n",
       "      <th>alerta_lim_velocidad</th>\n",
       "      <th>precio</th>\n",
       "      <th>fecha_venta</th>\n",
       "      <th>Color_simplificado</th>\n",
       "    </tr>\n",
       "  </thead>\n",
       "  <tbody>\n",
       "    <tr>\n",
       "      <th>0</th>\n",
       "      <td>118</td>\n",
       "      <td>140411.0</td>\n",
       "      <td>100.0</td>\n",
       "      <td>2012-02-01</td>\n",
       "      <td>diesel</td>\n",
       "      <td>black</td>\n",
       "      <td>estate</td>\n",
       "      <td>True</td>\n",
       "      <td>True</td>\n",
       "      <td>False</td>\n",
       "      <td>True</td>\n",
       "      <td>False</td>\n",
       "      <td>True</td>\n",
       "      <td>True</td>\n",
       "      <td>11300.0</td>\n",
       "      <td>2018-01-01</td>\n",
       "      <td>black</td>\n",
       "    </tr>\n",
       "    <tr>\n",
       "      <th>1</th>\n",
       "      <td>M4</td>\n",
       "      <td>13929.0</td>\n",
       "      <td>317.0</td>\n",
       "      <td>2013-07-01</td>\n",
       "      <td>petrol</td>\n",
       "      <td>grey</td>\n",
       "      <td>convertible</td>\n",
       "      <td>True</td>\n",
       "      <td>True</td>\n",
       "      <td>False</td>\n",
       "      <td>False</td>\n",
       "      <td>True</td>\n",
       "      <td>True</td>\n",
       "      <td>True</td>\n",
       "      <td>69700.0</td>\n",
       "      <td>2018-02-01</td>\n",
       "      <td>grey</td>\n",
       "    </tr>\n",
       "    <tr>\n",
       "      <th>2</th>\n",
       "      <td>320</td>\n",
       "      <td>183297.0</td>\n",
       "      <td>120.0</td>\n",
       "      <td>2012-04-01</td>\n",
       "      <td>diesel</td>\n",
       "      <td>white</td>\n",
       "      <td>estate</td>\n",
       "      <td>False</td>\n",
       "      <td>False</td>\n",
       "      <td>False</td>\n",
       "      <td>True</td>\n",
       "      <td>False</td>\n",
       "      <td>True</td>\n",
       "      <td>False</td>\n",
       "      <td>10200.0</td>\n",
       "      <td>2018-02-01</td>\n",
       "      <td>Otros</td>\n",
       "    </tr>\n",
       "    <tr>\n",
       "      <th>3</th>\n",
       "      <td>420</td>\n",
       "      <td>128035.0</td>\n",
       "      <td>135.0</td>\n",
       "      <td>2013-07-01</td>\n",
       "      <td>diesel</td>\n",
       "      <td>red</td>\n",
       "      <td>convertible</td>\n",
       "      <td>True</td>\n",
       "      <td>True</td>\n",
       "      <td>False</td>\n",
       "      <td>True</td>\n",
       "      <td>True</td>\n",
       "      <td>True</td>\n",
       "      <td>True</td>\n",
       "      <td>25100.0</td>\n",
       "      <td>2018-02-01</td>\n",
       "      <td>Otros</td>\n",
       "    </tr>\n",
       "    <tr>\n",
       "      <th>4</th>\n",
       "      <td>425</td>\n",
       "      <td>97097.0</td>\n",
       "      <td>160.0</td>\n",
       "      <td>2013-07-01</td>\n",
       "      <td>diesel</td>\n",
       "      <td>silver</td>\n",
       "      <td>SUV</td>\n",
       "      <td>True</td>\n",
       "      <td>True</td>\n",
       "      <td>False</td>\n",
       "      <td>False</td>\n",
       "      <td>True</td>\n",
       "      <td>True</td>\n",
       "      <td>True</td>\n",
       "      <td>33400.0</td>\n",
       "      <td>2018-04-01</td>\n",
       "      <td>Otros</td>\n",
       "    </tr>\n",
       "    <tr>\n",
       "      <th>5</th>\n",
       "      <td>335</td>\n",
       "      <td>152352.0</td>\n",
       "      <td>225.0</td>\n",
       "      <td>2011-05-01</td>\n",
       "      <td>petrol</td>\n",
       "      <td>black</td>\n",
       "      <td>sedan</td>\n",
       "      <td>True</td>\n",
       "      <td>True</td>\n",
       "      <td>False</td>\n",
       "      <td>True</td>\n",
       "      <td>True</td>\n",
       "      <td>True</td>\n",
       "      <td>True</td>\n",
       "      <td>17100.0</td>\n",
       "      <td>2018-02-01</td>\n",
       "      <td>black</td>\n",
       "    </tr>\n",
       "    <tr>\n",
       "      <th>6</th>\n",
       "      <td>325</td>\n",
       "      <td>205219.0</td>\n",
       "      <td>145.0</td>\n",
       "      <td>2013-07-01</td>\n",
       "      <td>diesel</td>\n",
       "      <td>grey</td>\n",
       "      <td>convertible</td>\n",
       "      <td>True</td>\n",
       "      <td>True</td>\n",
       "      <td>False</td>\n",
       "      <td>True</td>\n",
       "      <td>True</td>\n",
       "      <td>True</td>\n",
       "      <td>True</td>\n",
       "      <td>12400.0</td>\n",
       "      <td>2018-02-01</td>\n",
       "      <td>grey</td>\n",
       "    </tr>\n",
       "    <tr>\n",
       "      <th>7</th>\n",
       "      <td>118</td>\n",
       "      <td>115560.0</td>\n",
       "      <td>105.0</td>\n",
       "      <td>2009-08-01</td>\n",
       "      <td>petrol</td>\n",
       "      <td>white</td>\n",
       "      <td>convertible</td>\n",
       "      <td>True</td>\n",
       "      <td>True</td>\n",
       "      <td>False</td>\n",
       "      <td>False</td>\n",
       "      <td>True</td>\n",
       "      <td>True</td>\n",
       "      <td>False</td>\n",
       "      <td>6100.0</td>\n",
       "      <td>2018-02-01</td>\n",
       "      <td>Otros</td>\n",
       "    </tr>\n",
       "    <tr>\n",
       "      <th>8</th>\n",
       "      <td>Z4</td>\n",
       "      <td>123886.0</td>\n",
       "      <td>125.0</td>\n",
       "      <td>2013-07-01</td>\n",
       "      <td>petrol</td>\n",
       "      <td>black</td>\n",
       "      <td>convertible</td>\n",
       "      <td>True</td>\n",
       "      <td>False</td>\n",
       "      <td>False</td>\n",
       "      <td>False</td>\n",
       "      <td>False</td>\n",
       "      <td>True</td>\n",
       "      <td>False</td>\n",
       "      <td>6200.0</td>\n",
       "      <td>2018-03-01</td>\n",
       "      <td>black</td>\n",
       "    </tr>\n",
       "    <tr>\n",
       "      <th>9</th>\n",
       "      <td>320</td>\n",
       "      <td>139541.0</td>\n",
       "      <td>135.0</td>\n",
       "      <td>2013-07-01</td>\n",
       "      <td>diesel</td>\n",
       "      <td>white</td>\n",
       "      <td>convertible</td>\n",
       "      <td>False</td>\n",
       "      <td>False</td>\n",
       "      <td>False</td>\n",
       "      <td>True</td>\n",
       "      <td>False</td>\n",
       "      <td>True</td>\n",
       "      <td>False</td>\n",
       "      <td>17300.0</td>\n",
       "      <td>2018-03-01</td>\n",
       "      <td>Otros</td>\n",
       "    </tr>\n",
       "  </tbody>\n",
       "</table>\n",
       "</div>"
      ],
      "text/plain": [
       "  modelo        km  potencia fecha_registro tipo_gasolina   color  \\\n",
       "0    118  140411.0     100.0     2012-02-01        diesel   black   \n",
       "1     M4   13929.0     317.0     2013-07-01        petrol    grey   \n",
       "2    320  183297.0     120.0     2012-04-01        diesel   white   \n",
       "3    420  128035.0     135.0     2013-07-01        diesel     red   \n",
       "4    425   97097.0     160.0     2013-07-01        diesel  silver   \n",
       "5    335  152352.0     225.0     2011-05-01        petrol   black   \n",
       "6    325  205219.0     145.0     2013-07-01        diesel    grey   \n",
       "7    118  115560.0     105.0     2009-08-01        petrol   white   \n",
       "8     Z4  123886.0     125.0     2013-07-01        petrol   black   \n",
       "9    320  139541.0     135.0     2013-07-01        diesel   white   \n",
       "\n",
       "    tipo_coche volante_regulable aire_acondicionado camara_trasera  \\\n",
       "0       estate              True               True          False   \n",
       "1  convertible              True               True          False   \n",
       "2       estate             False              False          False   \n",
       "3  convertible              True               True          False   \n",
       "4          SUV              True               True          False   \n",
       "5        sedan              True               True          False   \n",
       "6  convertible              True               True          False   \n",
       "7  convertible              True               True          False   \n",
       "8  convertible              True              False          False   \n",
       "9  convertible             False              False          False   \n",
       "\n",
       "  elevalunas_electrico  bluetooth   gps  alerta_lim_velocidad   precio  \\\n",
       "0                 True      False  True                  True  11300.0   \n",
       "1                False       True  True                  True  69700.0   \n",
       "2                 True      False  True                 False  10200.0   \n",
       "3                 True       True  True                  True  25100.0   \n",
       "4                False       True  True                  True  33400.0   \n",
       "5                 True       True  True                  True  17100.0   \n",
       "6                 True       True  True                  True  12400.0   \n",
       "7                False       True  True                 False   6100.0   \n",
       "8                False      False  True                 False   6200.0   \n",
       "9                 True      False  True                 False  17300.0   \n",
       "\n",
       "  fecha_venta Color_simplificado  \n",
       "0  2018-01-01              black  \n",
       "1  2018-02-01               grey  \n",
       "2  2018-02-01              Otros  \n",
       "3  2018-02-01              Otros  \n",
       "4  2018-04-01              Otros  \n",
       "5  2018-02-01              black  \n",
       "6  2018-02-01               grey  \n",
       "7  2018-02-01              Otros  \n",
       "8  2018-03-01              black  \n",
       "9  2018-03-01              Otros  "
      ]
     },
     "execution_count": 65,
     "metadata": {},
     "output_type": "execute_result"
    }
   ],
   "source": [
    "bmw2.head(10)"
   ]
  },
  {
   "cell_type": "code",
   "execution_count": 66,
   "metadata": {},
   "outputs": [],
   "source": [
    "# Guardamos copia\n",
    "\n",
    "bmw2_original = bmw2.copy() "
   ]
  },
  {
   "cell_type": "code",
   "execution_count": 67,
   "metadata": {},
   "outputs": [],
   "source": [
    "# Borramos la columna \"Color\", ya que creamos color_simplificado:\n",
    "\n",
    "bmw2.drop(columns=[\"color\"], inplace = True)"
   ]
  },
  {
   "cell_type": "code",
   "execution_count": 68,
   "metadata": {},
   "outputs": [
    {
     "data": {
      "text/html": [
       "<div>\n",
       "<style scoped>\n",
       "    .dataframe tbody tr th:only-of-type {\n",
       "        vertical-align: middle;\n",
       "    }\n",
       "\n",
       "    .dataframe tbody tr th {\n",
       "        vertical-align: top;\n",
       "    }\n",
       "\n",
       "    .dataframe thead th {\n",
       "        text-align: right;\n",
       "    }\n",
       "</style>\n",
       "<table border=\"1\" class=\"dataframe\">\n",
       "  <thead>\n",
       "    <tr style=\"text-align: right;\">\n",
       "      <th></th>\n",
       "      <th>modelo</th>\n",
       "      <th>km</th>\n",
       "      <th>potencia</th>\n",
       "      <th>fecha_registro</th>\n",
       "      <th>tipo_gasolina</th>\n",
       "      <th>tipo_coche</th>\n",
       "      <th>volante_regulable</th>\n",
       "      <th>aire_acondicionado</th>\n",
       "      <th>camara_trasera</th>\n",
       "      <th>elevalunas_electrico</th>\n",
       "      <th>bluetooth</th>\n",
       "      <th>gps</th>\n",
       "      <th>alerta_lim_velocidad</th>\n",
       "      <th>precio</th>\n",
       "      <th>fecha_venta</th>\n",
       "      <th>Color_simplificado</th>\n",
       "    </tr>\n",
       "  </thead>\n",
       "  <tbody>\n",
       "    <tr>\n",
       "      <th>0</th>\n",
       "      <td>118</td>\n",
       "      <td>140411.0</td>\n",
       "      <td>100.0</td>\n",
       "      <td>2012-02-01</td>\n",
       "      <td>diesel</td>\n",
       "      <td>estate</td>\n",
       "      <td>True</td>\n",
       "      <td>True</td>\n",
       "      <td>False</td>\n",
       "      <td>True</td>\n",
       "      <td>False</td>\n",
       "      <td>True</td>\n",
       "      <td>True</td>\n",
       "      <td>11300.0</td>\n",
       "      <td>2018-01-01</td>\n",
       "      <td>black</td>\n",
       "    </tr>\n",
       "    <tr>\n",
       "      <th>1</th>\n",
       "      <td>M4</td>\n",
       "      <td>13929.0</td>\n",
       "      <td>317.0</td>\n",
       "      <td>2013-07-01</td>\n",
       "      <td>petrol</td>\n",
       "      <td>convertible</td>\n",
       "      <td>True</td>\n",
       "      <td>True</td>\n",
       "      <td>False</td>\n",
       "      <td>False</td>\n",
       "      <td>True</td>\n",
       "      <td>True</td>\n",
       "      <td>True</td>\n",
       "      <td>69700.0</td>\n",
       "      <td>2018-02-01</td>\n",
       "      <td>grey</td>\n",
       "    </tr>\n",
       "    <tr>\n",
       "      <th>2</th>\n",
       "      <td>320</td>\n",
       "      <td>183297.0</td>\n",
       "      <td>120.0</td>\n",
       "      <td>2012-04-01</td>\n",
       "      <td>diesel</td>\n",
       "      <td>estate</td>\n",
       "      <td>False</td>\n",
       "      <td>False</td>\n",
       "      <td>False</td>\n",
       "      <td>True</td>\n",
       "      <td>False</td>\n",
       "      <td>True</td>\n",
       "      <td>False</td>\n",
       "      <td>10200.0</td>\n",
       "      <td>2018-02-01</td>\n",
       "      <td>Otros</td>\n",
       "    </tr>\n",
       "    <tr>\n",
       "      <th>3</th>\n",
       "      <td>420</td>\n",
       "      <td>128035.0</td>\n",
       "      <td>135.0</td>\n",
       "      <td>2013-07-01</td>\n",
       "      <td>diesel</td>\n",
       "      <td>convertible</td>\n",
       "      <td>True</td>\n",
       "      <td>True</td>\n",
       "      <td>False</td>\n",
       "      <td>True</td>\n",
       "      <td>True</td>\n",
       "      <td>True</td>\n",
       "      <td>True</td>\n",
       "      <td>25100.0</td>\n",
       "      <td>2018-02-01</td>\n",
       "      <td>Otros</td>\n",
       "    </tr>\n",
       "    <tr>\n",
       "      <th>4</th>\n",
       "      <td>425</td>\n",
       "      <td>97097.0</td>\n",
       "      <td>160.0</td>\n",
       "      <td>2013-07-01</td>\n",
       "      <td>diesel</td>\n",
       "      <td>SUV</td>\n",
       "      <td>True</td>\n",
       "      <td>True</td>\n",
       "      <td>False</td>\n",
       "      <td>False</td>\n",
       "      <td>True</td>\n",
       "      <td>True</td>\n",
       "      <td>True</td>\n",
       "      <td>33400.0</td>\n",
       "      <td>2018-04-01</td>\n",
       "      <td>Otros</td>\n",
       "    </tr>\n",
       "  </tbody>\n",
       "</table>\n",
       "</div>"
      ],
      "text/plain": [
       "  modelo        km  potencia fecha_registro tipo_gasolina   tipo_coche  \\\n",
       "0    118  140411.0     100.0     2012-02-01        diesel       estate   \n",
       "1     M4   13929.0     317.0     2013-07-01        petrol  convertible   \n",
       "2    320  183297.0     120.0     2012-04-01        diesel       estate   \n",
       "3    420  128035.0     135.0     2013-07-01        diesel  convertible   \n",
       "4    425   97097.0     160.0     2013-07-01        diesel          SUV   \n",
       "\n",
       "  volante_regulable aire_acondicionado camara_trasera elevalunas_electrico  \\\n",
       "0              True               True          False                 True   \n",
       "1              True               True          False                False   \n",
       "2             False              False          False                 True   \n",
       "3              True               True          False                 True   \n",
       "4              True               True          False                False   \n",
       "\n",
       "   bluetooth   gps  alerta_lim_velocidad   precio fecha_venta  \\\n",
       "0      False  True                  True  11300.0  2018-01-01   \n",
       "1       True  True                  True  69700.0  2018-02-01   \n",
       "2      False  True                 False  10200.0  2018-02-01   \n",
       "3       True  True                  True  25100.0  2018-02-01   \n",
       "4       True  True                  True  33400.0  2018-04-01   \n",
       "\n",
       "  Color_simplificado  \n",
       "0              black  \n",
       "1               grey  \n",
       "2              Otros  \n",
       "3              Otros  \n",
       "4              Otros  "
      ]
     },
     "execution_count": 68,
     "metadata": {},
     "output_type": "execute_result"
    }
   ],
   "source": [
    "bmw2.head()"
   ]
  },
  {
   "cell_type": "markdown",
   "metadata": {},
   "source": [
    "##### Aire_acondicionado"
   ]
  },
  {
   "cell_type": "code",
   "execution_count": 69,
   "metadata": {},
   "outputs": [
    {
     "data": {
      "text/plain": [
       "np.int64(486)"
      ]
     },
     "execution_count": 69,
     "metadata": {},
     "output_type": "execute_result"
    }
   ],
   "source": [
    "bmw2[\"aire_acondicionado\"].isna().sum()"
   ]
  },
  {
   "cell_type": "code",
   "execution_count": 70,
   "metadata": {},
   "outputs": [
    {
     "data": {
      "text/plain": [
       "aire_acondicionado\n",
       "True     3463\n",
       "False     892\n",
       "Name: count, dtype: int64"
      ]
     },
     "execution_count": 70,
     "metadata": {},
     "output_type": "execute_result"
    }
   ],
   "source": [
    "bmw2[\"aire_acondicionado\"].value_counts()"
   ]
  },
  {
   "cell_type": "code",
   "execution_count": 71,
   "metadata": {},
   "outputs": [
    {
     "name": "stderr",
     "output_type": "stream",
     "text": [
      "C:\\Users\\Jfeij\\AppData\\Local\\Temp\\ipykernel_11652\\2000338665.py:3: FutureWarning: A value is trying to be set on a copy of a DataFrame or Series through chained assignment using an inplace method.\n",
      "The behavior will change in pandas 3.0. This inplace method will never work because the intermediate object on which we are setting values always behaves as a copy.\n",
      "\n",
      "For example, when doing 'df[col].method(value, inplace=True)', try using 'df.method({col: value}, inplace=True)' or df[col] = df[col].method(value) instead, to perform the operation inplace on the original object.\n",
      "\n",
      "\n",
      "  bmw2[\"aire_acondicionado\"].fillna(True, inplace=True)\n",
      "C:\\Users\\Jfeij\\AppData\\Local\\Temp\\ipykernel_11652\\2000338665.py:3: FutureWarning: Downcasting object dtype arrays on .fillna, .ffill, .bfill is deprecated and will change in a future version. Call result.infer_objects(copy=False) instead. To opt-in to the future behavior, set `pd.set_option('future.no_silent_downcasting', True)`\n",
      "  bmw2[\"aire_acondicionado\"].fillna(True, inplace=True)\n"
     ]
    }
   ],
   "source": [
    "# Asignamos la moda (True), ya que son muy pocos nulos, y hay una gran cantidad de valores True:\n",
    "\n",
    "bmw2[\"aire_acondicionado\"].fillna(True, inplace=True)"
   ]
  },
  {
   "cell_type": "code",
   "execution_count": 72,
   "metadata": {},
   "outputs": [
    {
     "data": {
      "text/plain": [
       "np.int64(0)"
      ]
     },
     "execution_count": 72,
     "metadata": {},
     "output_type": "execute_result"
    }
   ],
   "source": [
    "bmw2[\"aire_acondicionado\"].isna().sum()"
   ]
  },
  {
   "cell_type": "code",
   "execution_count": 73,
   "metadata": {},
   "outputs": [
    {
     "data": {
      "text/plain": [
       "aire_acondicionado\n",
       "True     3949\n",
       "False     892\n",
       "Name: count, dtype: int64"
      ]
     },
     "execution_count": 73,
     "metadata": {},
     "output_type": "execute_result"
    }
   ],
   "source": [
    "bmw2[\"aire_acondicionado\"].value_counts()"
   ]
  },
  {
   "cell_type": "markdown",
   "metadata": {},
   "source": [
    "#### Repaso de variables, y chequeo de tipos de datos"
   ]
  },
  {
   "cell_type": "code",
   "execution_count": 74,
   "metadata": {},
   "outputs": [
    {
     "data": {
      "text/plain": [
       "modelo                  3\n",
       "km                      2\n",
       "potencia                1\n",
       "fecha_registro          0\n",
       "tipo_gasolina           5\n",
       "tipo_coche              0\n",
       "volante_regulable       4\n",
       "aire_acondicionado      0\n",
       "camara_trasera          2\n",
       "elevalunas_electrico    2\n",
       "bluetooth               0\n",
       "gps                     0\n",
       "alerta_lim_velocidad    0\n",
       "precio                  4\n",
       "fecha_venta             1\n",
       "Color_simplificado      0\n",
       "dtype: int64"
      ]
     },
     "execution_count": 74,
     "metadata": {},
     "output_type": "execute_result"
    }
   ],
   "source": [
    "bmw2.isna().sum()"
   ]
  },
  {
   "cell_type": "code",
   "execution_count": 75,
   "metadata": {},
   "outputs": [
    {
     "name": "stdout",
     "output_type": "stream",
     "text": [
      "<class 'pandas.core.frame.DataFrame'>\n",
      "Index: 4841 entries, 0 to 4842\n",
      "Data columns (total 16 columns):\n",
      " #   Column                Non-Null Count  Dtype         \n",
      "---  ------                --------------  -----         \n",
      " 0   modelo                4838 non-null   object        \n",
      " 1   km                    4839 non-null   float64       \n",
      " 2   potencia              4840 non-null   float64       \n",
      " 3   fecha_registro        4841 non-null   datetime64[ns]\n",
      " 4   tipo_gasolina         4836 non-null   object        \n",
      " 5   tipo_coche            4841 non-null   object        \n",
      " 6   volante_regulable     4837 non-null   object        \n",
      " 7   aire_acondicionado    4841 non-null   bool          \n",
      " 8   camara_trasera        4839 non-null   object        \n",
      " 9   elevalunas_electrico  4839 non-null   object        \n",
      " 10  bluetooth             4841 non-null   bool          \n",
      " 11  gps                   4841 non-null   bool          \n",
      " 12  alerta_lim_velocidad  4841 non-null   bool          \n",
      " 13  precio                4837 non-null   float64       \n",
      " 14  fecha_venta           4840 non-null   datetime64[ns]\n",
      " 15  Color_simplificado    4841 non-null   object        \n",
      "dtypes: bool(4), datetime64[ns](2), float64(3), object(7)\n",
      "memory usage: 510.6+ KB\n"
     ]
    }
   ],
   "source": [
    "# Podemos observar que quedan casi nada de nulos, en algunas variables\n",
    "\n",
    "bmw2.info()"
   ]
  },
  {
   "cell_type": "code",
   "execution_count": 76,
   "metadata": {},
   "outputs": [
    {
     "name": "stdout",
     "output_type": "stream",
     "text": [
      "modelo\n",
      "320                  750\n",
      "520                  633\n",
      "318                  568\n",
      "X3                   438\n",
      "116                  358\n",
      "                    ... \n",
      "216                    1\n",
      "220 Active Tourer      1\n",
      " Active Tourer         1\n",
      "225 Active Tourer      1\n",
      "214 Gran Tourer        1\n",
      "Name: count, Length: 76, dtype: int64 \n",
      "\n",
      "km\n",
      "94829.0     2\n",
      "177379.0    2\n",
      "129317.0    2\n",
      "178558.0    2\n",
      "129214.0    2\n",
      "           ..\n",
      "39743.0     1\n",
      "49832.0     1\n",
      "19633.0     1\n",
      "27920.0     1\n",
      "181252.0    1\n",
      "Name: count, Length: 4782, dtype: int64 \n",
      "\n",
      "potencia\n",
      "135.0    881\n",
      "120.0    784\n",
      "85.0     631\n",
      "100.0    570\n",
      "105.0    451\n",
      "        ... \n",
      "412.0      1\n",
      "0.0        1\n",
      "423.0      1\n",
      "300.0      1\n",
      "261.0      1\n",
      "Name: count, Length: 61, dtype: int64 \n",
      "\n",
      "tipo_gasolina\n",
      "diesel           4629\n",
      "petrol            191\n",
      "hybrid_petrol       8\n",
      "Diesel              5\n",
      "electro             3\n",
      "Name: count, dtype: int64 \n",
      "\n",
      "tipo_coche\n",
      "estate         1934\n",
      "sedan          1160\n",
      "suv             755\n",
      "hatchback       488\n",
      "SUV             292\n",
      "subcompact       77\n",
      "coupe            76\n",
      "convertible      30\n",
      "van              29\n",
      "Name: count, dtype: int64 \n",
      "\n",
      "volante_regulable\n",
      "True     2661\n",
      "False    2176\n",
      "Name: count, dtype: int64 \n",
      "\n",
      "aire_acondicionado\n",
      "True     3949\n",
      "False     892\n",
      "Name: count, dtype: int64 \n",
      "\n",
      "camara_trasera\n",
      "False    3862\n",
      "True      977\n",
      "Name: count, dtype: int64 \n",
      "\n",
      "elevalunas_electrico\n",
      "False    2611\n",
      "True     2228\n",
      "Name: count, dtype: int64 \n",
      "\n",
      "bluetooth\n",
      "False    3846\n",
      "True      995\n",
      "Name: count, dtype: int64 \n",
      "\n",
      "gps\n",
      "True     4512\n",
      "False     329\n",
      "Name: count, dtype: int64 \n",
      "\n",
      "alerta_lim_velocidad\n",
      "True     2967\n",
      "False    1874\n",
      "Name: count, dtype: int64 \n",
      "\n",
      "precio\n",
      "13100.0     68\n",
      "14900.0     65\n",
      "11900.0     61\n",
      "14300.0     60\n",
      "16100.0     57\n",
      "            ..\n",
      "42400.0      1\n",
      "43800.0      1\n",
      "178500.0     1\n",
      "5900.0       1\n",
      "45100.0      1\n",
      "Name: count, Length: 437, dtype: int64 \n",
      "\n",
      "Color_simplificado\n",
      "black    1944\n",
      "Otros    1827\n",
      "grey     1070\n",
      "Name: count, dtype: int64 \n",
      "\n"
     ]
    }
   ],
   "source": [
    "for i in bmw2:\n",
    "  if bmw2[i].dtype.kind == \"O\":\n",
    "    print(bmw2[i].value_counts(), '\\n')\n",
    "  elif (bmw2[i].dtype.kind==\"f\") or (bmw2[i].dtype.kind==\"i\"):\n",
    "    print(bmw2[i].value_counts(), '\\n')\n",
    "  elif (bmw2[i].dtype.kind==\"b\"):\n",
    "    print(bmw2[i].value_counts(),'\\n')"
   ]
  },
  {
   "cell_type": "code",
   "execution_count": 77,
   "metadata": {},
   "outputs": [
    {
     "data": {
      "text/plain": [
       "modelo                  3\n",
       "km                      2\n",
       "potencia                1\n",
       "fecha_registro          0\n",
       "tipo_gasolina           5\n",
       "tipo_coche              0\n",
       "volante_regulable       4\n",
       "aire_acondicionado      0\n",
       "camara_trasera          2\n",
       "elevalunas_electrico    2\n",
       "bluetooth               0\n",
       "gps                     0\n",
       "alerta_lim_velocidad    0\n",
       "precio                  4\n",
       "fecha_venta             1\n",
       "Color_simplificado      0\n",
       "dtype: int64"
      ]
     },
     "execution_count": 77,
     "metadata": {},
     "output_type": "execute_result"
    }
   ],
   "source": [
    "bmw2.isna().sum()"
   ]
  },
  {
   "cell_type": "code",
   "execution_count": 78,
   "metadata": {},
   "outputs": [],
   "source": [
    "bmw2 = bmw2.dropna(subset=[\"modelo\",\"km\",\"potencia\",\"tipo_gasolina\",\"tipo_coche\",\"volante_regulable\",\"camara_trasera\",\"elevalunas_electrico\",\"precio\",\"fecha_venta\"])"
   ]
  },
  {
   "cell_type": "code",
   "execution_count": 79,
   "metadata": {},
   "outputs": [
    {
     "data": {
      "text/plain": [
       "modelo                  0\n",
       "km                      0\n",
       "potencia                0\n",
       "fecha_registro          0\n",
       "tipo_gasolina           0\n",
       "tipo_coche              0\n",
       "volante_regulable       0\n",
       "aire_acondicionado      0\n",
       "camara_trasera          0\n",
       "elevalunas_electrico    0\n",
       "bluetooth               0\n",
       "gps                     0\n",
       "alerta_lim_velocidad    0\n",
       "precio                  0\n",
       "fecha_venta             0\n",
       "Color_simplificado      0\n",
       "dtype: int64"
      ]
     },
     "execution_count": 79,
     "metadata": {},
     "output_type": "execute_result"
    }
   ],
   "source": [
    "bmw2.isna().sum()"
   ]
  },
  {
   "cell_type": "code",
   "execution_count": 80,
   "metadata": {},
   "outputs": [
    {
     "name": "stdout",
     "output_type": "stream",
     "text": [
      "<class 'pandas.core.frame.DataFrame'>\n",
      "Index: 4817 entries, 0 to 4842\n",
      "Data columns (total 16 columns):\n",
      " #   Column                Non-Null Count  Dtype         \n",
      "---  ------                --------------  -----         \n",
      " 0   modelo                4817 non-null   object        \n",
      " 1   km                    4817 non-null   float64       \n",
      " 2   potencia              4817 non-null   float64       \n",
      " 3   fecha_registro        4817 non-null   datetime64[ns]\n",
      " 4   tipo_gasolina         4817 non-null   object        \n",
      " 5   tipo_coche            4817 non-null   object        \n",
      " 6   volante_regulable     4817 non-null   object        \n",
      " 7   aire_acondicionado    4817 non-null   bool          \n",
      " 8   camara_trasera        4817 non-null   object        \n",
      " 9   elevalunas_electrico  4817 non-null   object        \n",
      " 10  bluetooth             4817 non-null   bool          \n",
      " 11  gps                   4817 non-null   bool          \n",
      " 12  alerta_lim_velocidad  4817 non-null   bool          \n",
      " 13  precio                4817 non-null   float64       \n",
      " 14  fecha_venta           4817 non-null   datetime64[ns]\n",
      " 15  Color_simplificado    4817 non-null   object        \n",
      "dtypes: bool(4), datetime64[ns](2), float64(3), object(7)\n",
      "memory usage: 508.0+ KB\n"
     ]
    }
   ],
   "source": [
    "bmw2.info()"
   ]
  },
  {
   "cell_type": "markdown",
   "metadata": {},
   "source": [
    "Podemos Observar que las variables \"volante_regulable\", \"camara_trasera\", \"elevalunas_electrico\", por mas de no tener nulos, el DataFrame, los sigue considerando como valores categoricos, procedemos a pasarlos a booleanos"
   ]
  },
  {
   "cell_type": "code",
   "execution_count": 81,
   "metadata": {},
   "outputs": [
    {
     "name": "stderr",
     "output_type": "stream",
     "text": [
      "C:\\Users\\Jfeij\\AppData\\Local\\Temp\\ipykernel_11652\\2200800536.py:3: FutureWarning: Downcasting behavior in `replace` is deprecated and will be removed in a future version. To retain the old behavior, explicitly call `result.infer_objects(copy=False)`. To opt-in to the future behavior, set `pd.set_option('future.no_silent_downcasting', True)`\n",
      "  bmw2[\"volante_regulable\"] = bmw2[\"volante_regulable\"].replace({\"True\": True, \"False\": False}).astype(bool)\n",
      "C:\\Users\\Jfeij\\AppData\\Local\\Temp\\ipykernel_11652\\2200800536.py:4: FutureWarning: Downcasting behavior in `replace` is deprecated and will be removed in a future version. To retain the old behavior, explicitly call `result.infer_objects(copy=False)`. To opt-in to the future behavior, set `pd.set_option('future.no_silent_downcasting', True)`\n",
      "  bmw2[\"camara_trasera\"] = bmw2[\"camara_trasera\"].replace({\"True\": True, \"False\": False}).astype(bool)\n",
      "C:\\Users\\Jfeij\\AppData\\Local\\Temp\\ipykernel_11652\\2200800536.py:5: FutureWarning: Downcasting behavior in `replace` is deprecated and will be removed in a future version. To retain the old behavior, explicitly call `result.infer_objects(copy=False)`. To opt-in to the future behavior, set `pd.set_option('future.no_silent_downcasting', True)`\n",
      "  bmw2[\"elevalunas_electrico\"] = bmw2[\"elevalunas_electrico\"].replace({\"True\": True, \"False\": False}).astype(bool)\n"
     ]
    }
   ],
   "source": [
    "# Utilizo el replace, y el astype para transformar las variables a tipo bool\n",
    "\n",
    "bmw2[\"volante_regulable\"] = bmw2[\"volante_regulable\"].replace({\"True\": True, \"False\": False}).astype(bool)\n",
    "bmw2[\"camara_trasera\"] = bmw2[\"camara_trasera\"].replace({\"True\": True, \"False\": False}).astype(bool)\n",
    "bmw2[\"elevalunas_electrico\"] = bmw2[\"elevalunas_electrico\"].replace({\"True\": True, \"False\": False}).astype(bool)"
   ]
  },
  {
   "cell_type": "code",
   "execution_count": 82,
   "metadata": {},
   "outputs": [
    {
     "name": "stdout",
     "output_type": "stream",
     "text": [
      "<class 'pandas.core.frame.DataFrame'>\n",
      "Index: 4817 entries, 0 to 4842\n",
      "Data columns (total 16 columns):\n",
      " #   Column                Non-Null Count  Dtype         \n",
      "---  ------                --------------  -----         \n",
      " 0   modelo                4817 non-null   object        \n",
      " 1   km                    4817 non-null   float64       \n",
      " 2   potencia              4817 non-null   float64       \n",
      " 3   fecha_registro        4817 non-null   datetime64[ns]\n",
      " 4   tipo_gasolina         4817 non-null   object        \n",
      " 5   tipo_coche            4817 non-null   object        \n",
      " 6   volante_regulable     4817 non-null   bool          \n",
      " 7   aire_acondicionado    4817 non-null   bool          \n",
      " 8   camara_trasera        4817 non-null   bool          \n",
      " 9   elevalunas_electrico  4817 non-null   bool          \n",
      " 10  bluetooth             4817 non-null   bool          \n",
      " 11  gps                   4817 non-null   bool          \n",
      " 12  alerta_lim_velocidad  4817 non-null   bool          \n",
      " 13  precio                4817 non-null   float64       \n",
      " 14  fecha_venta           4817 non-null   datetime64[ns]\n",
      " 15  Color_simplificado    4817 non-null   object        \n",
      "dtypes: bool(7), datetime64[ns](2), float64(3), object(4)\n",
      "memory usage: 409.3+ KB\n"
     ]
    }
   ],
   "source": [
    "bmw2.info()"
   ]
  },
  {
   "cell_type": "code",
   "execution_count": 83,
   "metadata": {},
   "outputs": [],
   "source": [
    "# Guardo en pickle\n",
    "bmw2.to_pickle('bmw_procesado.pkl')"
   ]
  },
  {
   "cell_type": "markdown",
   "metadata": {},
   "source": [
    "#### Creamos una nueva variable para calcular la Antiguedad del coche en años"
   ]
  },
  {
   "cell_type": "code",
   "execution_count": 84,
   "metadata": {},
   "outputs": [],
   "source": [
    "bmw2[\"Antiguedad\"] = (bmw2[\"fecha_venta\"] - bmw2[\"fecha_registro\"]).dt.days//365"
   ]
  },
  {
   "cell_type": "code",
   "execution_count": 85,
   "metadata": {},
   "outputs": [
    {
     "data": {
      "text/html": [
       "<div>\n",
       "<style scoped>\n",
       "    .dataframe tbody tr th:only-of-type {\n",
       "        vertical-align: middle;\n",
       "    }\n",
       "\n",
       "    .dataframe tbody tr th {\n",
       "        vertical-align: top;\n",
       "    }\n",
       "\n",
       "    .dataframe thead th {\n",
       "        text-align: right;\n",
       "    }\n",
       "</style>\n",
       "<table border=\"1\" class=\"dataframe\">\n",
       "  <thead>\n",
       "    <tr style=\"text-align: right;\">\n",
       "      <th></th>\n",
       "      <th>modelo</th>\n",
       "      <th>km</th>\n",
       "      <th>potencia</th>\n",
       "      <th>fecha_registro</th>\n",
       "      <th>tipo_gasolina</th>\n",
       "      <th>tipo_coche</th>\n",
       "      <th>volante_regulable</th>\n",
       "      <th>aire_acondicionado</th>\n",
       "      <th>camara_trasera</th>\n",
       "      <th>elevalunas_electrico</th>\n",
       "      <th>bluetooth</th>\n",
       "      <th>gps</th>\n",
       "      <th>alerta_lim_velocidad</th>\n",
       "      <th>precio</th>\n",
       "      <th>fecha_venta</th>\n",
       "      <th>Color_simplificado</th>\n",
       "      <th>Antiguedad</th>\n",
       "    </tr>\n",
       "  </thead>\n",
       "  <tbody>\n",
       "    <tr>\n",
       "      <th>0</th>\n",
       "      <td>118</td>\n",
       "      <td>140411.0</td>\n",
       "      <td>100.0</td>\n",
       "      <td>2012-02-01</td>\n",
       "      <td>diesel</td>\n",
       "      <td>estate</td>\n",
       "      <td>True</td>\n",
       "      <td>True</td>\n",
       "      <td>False</td>\n",
       "      <td>True</td>\n",
       "      <td>False</td>\n",
       "      <td>True</td>\n",
       "      <td>True</td>\n",
       "      <td>11300.0</td>\n",
       "      <td>2018-01-01</td>\n",
       "      <td>black</td>\n",
       "      <td>5</td>\n",
       "    </tr>\n",
       "    <tr>\n",
       "      <th>1</th>\n",
       "      <td>M4</td>\n",
       "      <td>13929.0</td>\n",
       "      <td>317.0</td>\n",
       "      <td>2013-07-01</td>\n",
       "      <td>petrol</td>\n",
       "      <td>convertible</td>\n",
       "      <td>True</td>\n",
       "      <td>True</td>\n",
       "      <td>False</td>\n",
       "      <td>False</td>\n",
       "      <td>True</td>\n",
       "      <td>True</td>\n",
       "      <td>True</td>\n",
       "      <td>69700.0</td>\n",
       "      <td>2018-02-01</td>\n",
       "      <td>grey</td>\n",
       "      <td>4</td>\n",
       "    </tr>\n",
       "    <tr>\n",
       "      <th>2</th>\n",
       "      <td>320</td>\n",
       "      <td>183297.0</td>\n",
       "      <td>120.0</td>\n",
       "      <td>2012-04-01</td>\n",
       "      <td>diesel</td>\n",
       "      <td>estate</td>\n",
       "      <td>False</td>\n",
       "      <td>False</td>\n",
       "      <td>False</td>\n",
       "      <td>True</td>\n",
       "      <td>False</td>\n",
       "      <td>True</td>\n",
       "      <td>False</td>\n",
       "      <td>10200.0</td>\n",
       "      <td>2018-02-01</td>\n",
       "      <td>Otros</td>\n",
       "      <td>5</td>\n",
       "    </tr>\n",
       "    <tr>\n",
       "      <th>3</th>\n",
       "      <td>420</td>\n",
       "      <td>128035.0</td>\n",
       "      <td>135.0</td>\n",
       "      <td>2013-07-01</td>\n",
       "      <td>diesel</td>\n",
       "      <td>convertible</td>\n",
       "      <td>True</td>\n",
       "      <td>True</td>\n",
       "      <td>False</td>\n",
       "      <td>True</td>\n",
       "      <td>True</td>\n",
       "      <td>True</td>\n",
       "      <td>True</td>\n",
       "      <td>25100.0</td>\n",
       "      <td>2018-02-01</td>\n",
       "      <td>Otros</td>\n",
       "      <td>4</td>\n",
       "    </tr>\n",
       "    <tr>\n",
       "      <th>4</th>\n",
       "      <td>425</td>\n",
       "      <td>97097.0</td>\n",
       "      <td>160.0</td>\n",
       "      <td>2013-07-01</td>\n",
       "      <td>diesel</td>\n",
       "      <td>SUV</td>\n",
       "      <td>True</td>\n",
       "      <td>True</td>\n",
       "      <td>False</td>\n",
       "      <td>False</td>\n",
       "      <td>True</td>\n",
       "      <td>True</td>\n",
       "      <td>True</td>\n",
       "      <td>33400.0</td>\n",
       "      <td>2018-04-01</td>\n",
       "      <td>Otros</td>\n",
       "      <td>4</td>\n",
       "    </tr>\n",
       "  </tbody>\n",
       "</table>\n",
       "</div>"
      ],
      "text/plain": [
       "  modelo        km  potencia fecha_registro tipo_gasolina   tipo_coche  \\\n",
       "0    118  140411.0     100.0     2012-02-01        diesel       estate   \n",
       "1     M4   13929.0     317.0     2013-07-01        petrol  convertible   \n",
       "2    320  183297.0     120.0     2012-04-01        diesel       estate   \n",
       "3    420  128035.0     135.0     2013-07-01        diesel  convertible   \n",
       "4    425   97097.0     160.0     2013-07-01        diesel          SUV   \n",
       "\n",
       "   volante_regulable  aire_acondicionado  camara_trasera  \\\n",
       "0               True                True           False   \n",
       "1               True                True           False   \n",
       "2              False               False           False   \n",
       "3               True                True           False   \n",
       "4               True                True           False   \n",
       "\n",
       "   elevalunas_electrico  bluetooth   gps  alerta_lim_velocidad   precio  \\\n",
       "0                  True      False  True                  True  11300.0   \n",
       "1                 False       True  True                  True  69700.0   \n",
       "2                  True      False  True                 False  10200.0   \n",
       "3                  True       True  True                  True  25100.0   \n",
       "4                 False       True  True                  True  33400.0   \n",
       "\n",
       "  fecha_venta Color_simplificado  Antiguedad  \n",
       "0  2018-01-01              black           5  \n",
       "1  2018-02-01               grey           4  \n",
       "2  2018-02-01              Otros           5  \n",
       "3  2018-02-01              Otros           4  \n",
       "4  2018-04-01              Otros           4  "
      ]
     },
     "execution_count": 85,
     "metadata": {},
     "output_type": "execute_result"
    }
   ],
   "source": [
    "bmw2.head()"
   ]
  },
  {
   "cell_type": "markdown",
   "metadata": {},
   "source": [
    "#### Chequeo Duplicados y Reset Index"
   ]
  },
  {
   "cell_type": "code",
   "execution_count": 86,
   "metadata": {},
   "outputs": [
    {
     "name": "stdout",
     "output_type": "stream",
     "text": [
      "Duplicados encontrados: 0\n"
     ]
    }
   ],
   "source": [
    "# Chequeo de duplicados\n",
    "\n",
    "duplicados = bmw2[bmw2.duplicated()]\n",
    "print(f\"Duplicados encontrados: {len(duplicados)}\")"
   ]
  },
  {
   "cell_type": "markdown",
   "metadata": {},
   "source": [
    "Observando que no hay duplicados, procedo creando una variable para sacar los meses en los que mas se vendieron coches para poder ver su evolucion:"
   ]
  },
  {
   "cell_type": "code",
   "execution_count": 87,
   "metadata": {},
   "outputs": [
    {
     "name": "stdout",
     "output_type": "stream",
     "text": [
      "<class 'pandas.core.frame.DataFrame'>\n",
      "Index: 4817 entries, 0 to 4842\n",
      "Data columns (total 17 columns):\n",
      " #   Column                Non-Null Count  Dtype         \n",
      "---  ------                --------------  -----         \n",
      " 0   modelo                4817 non-null   object        \n",
      " 1   km                    4817 non-null   float64       \n",
      " 2   potencia              4817 non-null   float64       \n",
      " 3   fecha_registro        4817 non-null   datetime64[ns]\n",
      " 4   tipo_gasolina         4817 non-null   object        \n",
      " 5   tipo_coche            4817 non-null   object        \n",
      " 6   volante_regulable     4817 non-null   bool          \n",
      " 7   aire_acondicionado    4817 non-null   bool          \n",
      " 8   camara_trasera        4817 non-null   bool          \n",
      " 9   elevalunas_electrico  4817 non-null   bool          \n",
      " 10  bluetooth             4817 non-null   bool          \n",
      " 11  gps                   4817 non-null   bool          \n",
      " 12  alerta_lim_velocidad  4817 non-null   bool          \n",
      " 13  precio                4817 non-null   float64       \n",
      " 14  fecha_venta           4817 non-null   datetime64[ns]\n",
      " 15  Color_simplificado    4817 non-null   object        \n",
      " 16  Antiguedad            4817 non-null   int64         \n",
      "dtypes: bool(7), datetime64[ns](2), float64(3), int64(1), object(4)\n",
      "memory usage: 446.9+ KB\n"
     ]
    }
   ],
   "source": [
    "bmw2.info()"
   ]
  },
  {
   "cell_type": "code",
   "execution_count": 88,
   "metadata": {},
   "outputs": [
    {
     "data": {
      "text/html": [
       "<div>\n",
       "<style scoped>\n",
       "    .dataframe tbody tr th:only-of-type {\n",
       "        vertical-align: middle;\n",
       "    }\n",
       "\n",
       "    .dataframe tbody tr th {\n",
       "        vertical-align: top;\n",
       "    }\n",
       "\n",
       "    .dataframe thead th {\n",
       "        text-align: right;\n",
       "    }\n",
       "</style>\n",
       "<table border=\"1\" class=\"dataframe\">\n",
       "  <thead>\n",
       "    <tr style=\"text-align: right;\">\n",
       "      <th></th>\n",
       "      <th>modelo</th>\n",
       "      <th>km</th>\n",
       "      <th>potencia</th>\n",
       "      <th>fecha_registro</th>\n",
       "      <th>tipo_gasolina</th>\n",
       "      <th>tipo_coche</th>\n",
       "      <th>volante_regulable</th>\n",
       "      <th>aire_acondicionado</th>\n",
       "      <th>camara_trasera</th>\n",
       "      <th>elevalunas_electrico</th>\n",
       "      <th>bluetooth</th>\n",
       "      <th>gps</th>\n",
       "      <th>alerta_lim_velocidad</th>\n",
       "      <th>precio</th>\n",
       "      <th>fecha_venta</th>\n",
       "      <th>Color_simplificado</th>\n",
       "      <th>Antiguedad</th>\n",
       "    </tr>\n",
       "  </thead>\n",
       "  <tbody>\n",
       "    <tr>\n",
       "      <th>4838</th>\n",
       "      <td>218 Gran Tourer</td>\n",
       "      <td>39743.0</td>\n",
       "      <td>110.0</td>\n",
       "      <td>2013-07-01</td>\n",
       "      <td>diesel</td>\n",
       "      <td>estate</td>\n",
       "      <td>False</td>\n",
       "      <td>True</td>\n",
       "      <td>False</td>\n",
       "      <td>False</td>\n",
       "      <td>False</td>\n",
       "      <td>True</td>\n",
       "      <td>False</td>\n",
       "      <td>14600.0</td>\n",
       "      <td>2018-08-01</td>\n",
       "      <td>black</td>\n",
       "      <td>5</td>\n",
       "    </tr>\n",
       "    <tr>\n",
       "      <th>4839</th>\n",
       "      <td>218 Active Tourer</td>\n",
       "      <td>49832.0</td>\n",
       "      <td>100.0</td>\n",
       "      <td>2015-06-01</td>\n",
       "      <td>diesel</td>\n",
       "      <td>sedan</td>\n",
       "      <td>False</td>\n",
       "      <td>True</td>\n",
       "      <td>False</td>\n",
       "      <td>False</td>\n",
       "      <td>False</td>\n",
       "      <td>True</td>\n",
       "      <td>True</td>\n",
       "      <td>17500.0</td>\n",
       "      <td>2018-08-01</td>\n",
       "      <td>grey</td>\n",
       "      <td>3</td>\n",
       "    </tr>\n",
       "    <tr>\n",
       "      <th>4840</th>\n",
       "      <td>218 Gran Tourer</td>\n",
       "      <td>19633.0</td>\n",
       "      <td>110.0</td>\n",
       "      <td>2015-10-01</td>\n",
       "      <td>diesel</td>\n",
       "      <td>van</td>\n",
       "      <td>False</td>\n",
       "      <td>True</td>\n",
       "      <td>False</td>\n",
       "      <td>False</td>\n",
       "      <td>False</td>\n",
       "      <td>True</td>\n",
       "      <td>True</td>\n",
       "      <td>17000.0</td>\n",
       "      <td>2018-09-01</td>\n",
       "      <td>grey</td>\n",
       "      <td>2</td>\n",
       "    </tr>\n",
       "    <tr>\n",
       "      <th>4841</th>\n",
       "      <td>218 Active Tourer</td>\n",
       "      <td>27920.0</td>\n",
       "      <td>110.0</td>\n",
       "      <td>2016-04-01</td>\n",
       "      <td>diesel</td>\n",
       "      <td>van</td>\n",
       "      <td>True</td>\n",
       "      <td>True</td>\n",
       "      <td>False</td>\n",
       "      <td>False</td>\n",
       "      <td>False</td>\n",
       "      <td>True</td>\n",
       "      <td>True</td>\n",
       "      <td>22700.0</td>\n",
       "      <td>2018-09-01</td>\n",
       "      <td>Otros</td>\n",
       "      <td>2</td>\n",
       "    </tr>\n",
       "    <tr>\n",
       "      <th>4842</th>\n",
       "      <td>525</td>\n",
       "      <td>195840.0</td>\n",
       "      <td>160.0</td>\n",
       "      <td>2013-07-01</td>\n",
       "      <td>diesel</td>\n",
       "      <td>sedan</td>\n",
       "      <td>True</td>\n",
       "      <td>True</td>\n",
       "      <td>False</td>\n",
       "      <td>True</td>\n",
       "      <td>False</td>\n",
       "      <td>True</td>\n",
       "      <td>True</td>\n",
       "      <td>15500.0</td>\n",
       "      <td>2018-09-01</td>\n",
       "      <td>grey</td>\n",
       "      <td>5</td>\n",
       "    </tr>\n",
       "  </tbody>\n",
       "</table>\n",
       "</div>"
      ],
      "text/plain": [
       "                 modelo        km  potencia fecha_registro tipo_gasolina  \\\n",
       "4838    218 Gran Tourer   39743.0     110.0     2013-07-01        diesel   \n",
       "4839  218 Active Tourer   49832.0     100.0     2015-06-01        diesel   \n",
       "4840    218 Gran Tourer   19633.0     110.0     2015-10-01        diesel   \n",
       "4841  218 Active Tourer   27920.0     110.0     2016-04-01        diesel   \n",
       "4842                525  195840.0     160.0     2013-07-01        diesel   \n",
       "\n",
       "     tipo_coche  volante_regulable  aire_acondicionado  camara_trasera  \\\n",
       "4838     estate              False                True           False   \n",
       "4839      sedan              False                True           False   \n",
       "4840        van              False                True           False   \n",
       "4841        van               True                True           False   \n",
       "4842      sedan               True                True           False   \n",
       "\n",
       "      elevalunas_electrico  bluetooth   gps  alerta_lim_velocidad   precio  \\\n",
       "4838                 False      False  True                 False  14600.0   \n",
       "4839                 False      False  True                  True  17500.0   \n",
       "4840                 False      False  True                  True  17000.0   \n",
       "4841                 False      False  True                  True  22700.0   \n",
       "4842                  True      False  True                  True  15500.0   \n",
       "\n",
       "     fecha_venta Color_simplificado  Antiguedad  \n",
       "4838  2018-08-01              black           5  \n",
       "4839  2018-08-01               grey           3  \n",
       "4840  2018-09-01               grey           2  \n",
       "4841  2018-09-01              Otros           2  \n",
       "4842  2018-09-01               grey           5  "
      ]
     },
     "execution_count": 88,
     "metadata": {},
     "output_type": "execute_result"
    }
   ],
   "source": [
    "# Podemos obeservar que los indices no estan ajustados\n",
    "bmw2.tail()"
   ]
  },
  {
   "cell_type": "code",
   "execution_count": 89,
   "metadata": {},
   "outputs": [],
   "source": [
    "# Guardamos en pickle\n",
    "\n",
    "bmw2.to_pickle('bmw_procesado.pkl')"
   ]
  },
  {
   "cell_type": "code",
   "execution_count": 90,
   "metadata": {},
   "outputs": [],
   "source": [
    "# Leemos el pickle\n",
    "\n",
    "bmw2 = pd.read_pickle('bmw_procesado.pkl')"
   ]
  },
  {
   "cell_type": "code",
   "execution_count": 91,
   "metadata": {},
   "outputs": [],
   "source": [
    "# Reajustamos el orden de los indices del Data Frame\n",
    "\n",
    "bmw2 = bmw2.reset_index(drop=True)"
   ]
  },
  {
   "cell_type": "code",
   "execution_count": 92,
   "metadata": {},
   "outputs": [
    {
     "data": {
      "text/html": [
       "<div>\n",
       "<style scoped>\n",
       "    .dataframe tbody tr th:only-of-type {\n",
       "        vertical-align: middle;\n",
       "    }\n",
       "\n",
       "    .dataframe tbody tr th {\n",
       "        vertical-align: top;\n",
       "    }\n",
       "\n",
       "    .dataframe thead th {\n",
       "        text-align: right;\n",
       "    }\n",
       "</style>\n",
       "<table border=\"1\" class=\"dataframe\">\n",
       "  <thead>\n",
       "    <tr style=\"text-align: right;\">\n",
       "      <th></th>\n",
       "      <th>modelo</th>\n",
       "      <th>km</th>\n",
       "      <th>potencia</th>\n",
       "      <th>fecha_registro</th>\n",
       "      <th>tipo_gasolina</th>\n",
       "      <th>tipo_coche</th>\n",
       "      <th>volante_regulable</th>\n",
       "      <th>aire_acondicionado</th>\n",
       "      <th>camara_trasera</th>\n",
       "      <th>elevalunas_electrico</th>\n",
       "      <th>bluetooth</th>\n",
       "      <th>gps</th>\n",
       "      <th>alerta_lim_velocidad</th>\n",
       "      <th>precio</th>\n",
       "      <th>fecha_venta</th>\n",
       "      <th>Color_simplificado</th>\n",
       "      <th>Antiguedad</th>\n",
       "    </tr>\n",
       "  </thead>\n",
       "  <tbody>\n",
       "    <tr>\n",
       "      <th>4812</th>\n",
       "      <td>218 Gran Tourer</td>\n",
       "      <td>39743.0</td>\n",
       "      <td>110.0</td>\n",
       "      <td>2013-07-01</td>\n",
       "      <td>diesel</td>\n",
       "      <td>estate</td>\n",
       "      <td>False</td>\n",
       "      <td>True</td>\n",
       "      <td>False</td>\n",
       "      <td>False</td>\n",
       "      <td>False</td>\n",
       "      <td>True</td>\n",
       "      <td>False</td>\n",
       "      <td>14600.0</td>\n",
       "      <td>2018-08-01</td>\n",
       "      <td>black</td>\n",
       "      <td>5</td>\n",
       "    </tr>\n",
       "    <tr>\n",
       "      <th>4813</th>\n",
       "      <td>218 Active Tourer</td>\n",
       "      <td>49832.0</td>\n",
       "      <td>100.0</td>\n",
       "      <td>2015-06-01</td>\n",
       "      <td>diesel</td>\n",
       "      <td>sedan</td>\n",
       "      <td>False</td>\n",
       "      <td>True</td>\n",
       "      <td>False</td>\n",
       "      <td>False</td>\n",
       "      <td>False</td>\n",
       "      <td>True</td>\n",
       "      <td>True</td>\n",
       "      <td>17500.0</td>\n",
       "      <td>2018-08-01</td>\n",
       "      <td>grey</td>\n",
       "      <td>3</td>\n",
       "    </tr>\n",
       "    <tr>\n",
       "      <th>4814</th>\n",
       "      <td>218 Gran Tourer</td>\n",
       "      <td>19633.0</td>\n",
       "      <td>110.0</td>\n",
       "      <td>2015-10-01</td>\n",
       "      <td>diesel</td>\n",
       "      <td>van</td>\n",
       "      <td>False</td>\n",
       "      <td>True</td>\n",
       "      <td>False</td>\n",
       "      <td>False</td>\n",
       "      <td>False</td>\n",
       "      <td>True</td>\n",
       "      <td>True</td>\n",
       "      <td>17000.0</td>\n",
       "      <td>2018-09-01</td>\n",
       "      <td>grey</td>\n",
       "      <td>2</td>\n",
       "    </tr>\n",
       "    <tr>\n",
       "      <th>4815</th>\n",
       "      <td>218 Active Tourer</td>\n",
       "      <td>27920.0</td>\n",
       "      <td>110.0</td>\n",
       "      <td>2016-04-01</td>\n",
       "      <td>diesel</td>\n",
       "      <td>van</td>\n",
       "      <td>True</td>\n",
       "      <td>True</td>\n",
       "      <td>False</td>\n",
       "      <td>False</td>\n",
       "      <td>False</td>\n",
       "      <td>True</td>\n",
       "      <td>True</td>\n",
       "      <td>22700.0</td>\n",
       "      <td>2018-09-01</td>\n",
       "      <td>Otros</td>\n",
       "      <td>2</td>\n",
       "    </tr>\n",
       "    <tr>\n",
       "      <th>4816</th>\n",
       "      <td>525</td>\n",
       "      <td>195840.0</td>\n",
       "      <td>160.0</td>\n",
       "      <td>2013-07-01</td>\n",
       "      <td>diesel</td>\n",
       "      <td>sedan</td>\n",
       "      <td>True</td>\n",
       "      <td>True</td>\n",
       "      <td>False</td>\n",
       "      <td>True</td>\n",
       "      <td>False</td>\n",
       "      <td>True</td>\n",
       "      <td>True</td>\n",
       "      <td>15500.0</td>\n",
       "      <td>2018-09-01</td>\n",
       "      <td>grey</td>\n",
       "      <td>5</td>\n",
       "    </tr>\n",
       "  </tbody>\n",
       "</table>\n",
       "</div>"
      ],
      "text/plain": [
       "                 modelo        km  potencia fecha_registro tipo_gasolina  \\\n",
       "4812    218 Gran Tourer   39743.0     110.0     2013-07-01        diesel   \n",
       "4813  218 Active Tourer   49832.0     100.0     2015-06-01        diesel   \n",
       "4814    218 Gran Tourer   19633.0     110.0     2015-10-01        diesel   \n",
       "4815  218 Active Tourer   27920.0     110.0     2016-04-01        diesel   \n",
       "4816                525  195840.0     160.0     2013-07-01        diesel   \n",
       "\n",
       "     tipo_coche  volante_regulable  aire_acondicionado  camara_trasera  \\\n",
       "4812     estate              False                True           False   \n",
       "4813      sedan              False                True           False   \n",
       "4814        van              False                True           False   \n",
       "4815        van               True                True           False   \n",
       "4816      sedan               True                True           False   \n",
       "\n",
       "      elevalunas_electrico  bluetooth   gps  alerta_lim_velocidad   precio  \\\n",
       "4812                 False      False  True                 False  14600.0   \n",
       "4813                 False      False  True                  True  17500.0   \n",
       "4814                 False      False  True                  True  17000.0   \n",
       "4815                 False      False  True                  True  22700.0   \n",
       "4816                  True      False  True                  True  15500.0   \n",
       "\n",
       "     fecha_venta Color_simplificado  Antiguedad  \n",
       "4812  2018-08-01              black           5  \n",
       "4813  2018-08-01               grey           3  \n",
       "4814  2018-09-01               grey           2  \n",
       "4815  2018-09-01              Otros           2  \n",
       "4816  2018-09-01               grey           5  "
      ]
     },
     "execution_count": 92,
     "metadata": {},
     "output_type": "execute_result"
    }
   ],
   "source": [
    "bmw2.tail()"
   ]
  },
  {
   "cell_type": "markdown",
   "metadata": {},
   "source": [
    "### Analisis de Meses con variable fecha_Venta"
   ]
  },
  {
   "cell_type": "code",
   "execution_count": 93,
   "metadata": {},
   "outputs": [
    {
     "data": {
      "text/html": [
       "<div>\n",
       "<style scoped>\n",
       "    .dataframe tbody tr th:only-of-type {\n",
       "        vertical-align: middle;\n",
       "    }\n",
       "\n",
       "    .dataframe tbody tr th {\n",
       "        vertical-align: top;\n",
       "    }\n",
       "\n",
       "    .dataframe thead th {\n",
       "        text-align: right;\n",
       "    }\n",
       "</style>\n",
       "<table border=\"1\" class=\"dataframe\">\n",
       "  <thead>\n",
       "    <tr style=\"text-align: right;\">\n",
       "      <th></th>\n",
       "      <th>modelo</th>\n",
       "      <th>km</th>\n",
       "      <th>potencia</th>\n",
       "      <th>fecha_registro</th>\n",
       "      <th>tipo_gasolina</th>\n",
       "      <th>tipo_coche</th>\n",
       "      <th>volante_regulable</th>\n",
       "      <th>aire_acondicionado</th>\n",
       "      <th>camara_trasera</th>\n",
       "      <th>elevalunas_electrico</th>\n",
       "      <th>bluetooth</th>\n",
       "      <th>gps</th>\n",
       "      <th>alerta_lim_velocidad</th>\n",
       "      <th>precio</th>\n",
       "      <th>fecha_venta</th>\n",
       "      <th>Color_simplificado</th>\n",
       "      <th>Antiguedad</th>\n",
       "    </tr>\n",
       "  </thead>\n",
       "  <tbody>\n",
       "    <tr>\n",
       "      <th>0</th>\n",
       "      <td>118</td>\n",
       "      <td>140411.0</td>\n",
       "      <td>100.0</td>\n",
       "      <td>2012-02-01</td>\n",
       "      <td>diesel</td>\n",
       "      <td>estate</td>\n",
       "      <td>True</td>\n",
       "      <td>True</td>\n",
       "      <td>False</td>\n",
       "      <td>True</td>\n",
       "      <td>False</td>\n",
       "      <td>True</td>\n",
       "      <td>True</td>\n",
       "      <td>11300.0</td>\n",
       "      <td>2018-01-01</td>\n",
       "      <td>black</td>\n",
       "      <td>5</td>\n",
       "    </tr>\n",
       "    <tr>\n",
       "      <th>1</th>\n",
       "      <td>M4</td>\n",
       "      <td>13929.0</td>\n",
       "      <td>317.0</td>\n",
       "      <td>2013-07-01</td>\n",
       "      <td>petrol</td>\n",
       "      <td>convertible</td>\n",
       "      <td>True</td>\n",
       "      <td>True</td>\n",
       "      <td>False</td>\n",
       "      <td>False</td>\n",
       "      <td>True</td>\n",
       "      <td>True</td>\n",
       "      <td>True</td>\n",
       "      <td>69700.0</td>\n",
       "      <td>2018-02-01</td>\n",
       "      <td>grey</td>\n",
       "      <td>4</td>\n",
       "    </tr>\n",
       "    <tr>\n",
       "      <th>2</th>\n",
       "      <td>320</td>\n",
       "      <td>183297.0</td>\n",
       "      <td>120.0</td>\n",
       "      <td>2012-04-01</td>\n",
       "      <td>diesel</td>\n",
       "      <td>estate</td>\n",
       "      <td>False</td>\n",
       "      <td>False</td>\n",
       "      <td>False</td>\n",
       "      <td>True</td>\n",
       "      <td>False</td>\n",
       "      <td>True</td>\n",
       "      <td>False</td>\n",
       "      <td>10200.0</td>\n",
       "      <td>2018-02-01</td>\n",
       "      <td>Otros</td>\n",
       "      <td>5</td>\n",
       "    </tr>\n",
       "    <tr>\n",
       "      <th>3</th>\n",
       "      <td>420</td>\n",
       "      <td>128035.0</td>\n",
       "      <td>135.0</td>\n",
       "      <td>2013-07-01</td>\n",
       "      <td>diesel</td>\n",
       "      <td>convertible</td>\n",
       "      <td>True</td>\n",
       "      <td>True</td>\n",
       "      <td>False</td>\n",
       "      <td>True</td>\n",
       "      <td>True</td>\n",
       "      <td>True</td>\n",
       "      <td>True</td>\n",
       "      <td>25100.0</td>\n",
       "      <td>2018-02-01</td>\n",
       "      <td>Otros</td>\n",
       "      <td>4</td>\n",
       "    </tr>\n",
       "    <tr>\n",
       "      <th>4</th>\n",
       "      <td>425</td>\n",
       "      <td>97097.0</td>\n",
       "      <td>160.0</td>\n",
       "      <td>2013-07-01</td>\n",
       "      <td>diesel</td>\n",
       "      <td>SUV</td>\n",
       "      <td>True</td>\n",
       "      <td>True</td>\n",
       "      <td>False</td>\n",
       "      <td>False</td>\n",
       "      <td>True</td>\n",
       "      <td>True</td>\n",
       "      <td>True</td>\n",
       "      <td>33400.0</td>\n",
       "      <td>2018-04-01</td>\n",
       "      <td>Otros</td>\n",
       "      <td>4</td>\n",
       "    </tr>\n",
       "    <tr>\n",
       "      <th>5</th>\n",
       "      <td>335</td>\n",
       "      <td>152352.0</td>\n",
       "      <td>225.0</td>\n",
       "      <td>2011-05-01</td>\n",
       "      <td>petrol</td>\n",
       "      <td>sedan</td>\n",
       "      <td>True</td>\n",
       "      <td>True</td>\n",
       "      <td>False</td>\n",
       "      <td>True</td>\n",
       "      <td>True</td>\n",
       "      <td>True</td>\n",
       "      <td>True</td>\n",
       "      <td>17100.0</td>\n",
       "      <td>2018-02-01</td>\n",
       "      <td>black</td>\n",
       "      <td>6</td>\n",
       "    </tr>\n",
       "    <tr>\n",
       "      <th>6</th>\n",
       "      <td>325</td>\n",
       "      <td>205219.0</td>\n",
       "      <td>145.0</td>\n",
       "      <td>2013-07-01</td>\n",
       "      <td>diesel</td>\n",
       "      <td>convertible</td>\n",
       "      <td>True</td>\n",
       "      <td>True</td>\n",
       "      <td>False</td>\n",
       "      <td>True</td>\n",
       "      <td>True</td>\n",
       "      <td>True</td>\n",
       "      <td>True</td>\n",
       "      <td>12400.0</td>\n",
       "      <td>2018-02-01</td>\n",
       "      <td>grey</td>\n",
       "      <td>4</td>\n",
       "    </tr>\n",
       "    <tr>\n",
       "      <th>7</th>\n",
       "      <td>118</td>\n",
       "      <td>115560.0</td>\n",
       "      <td>105.0</td>\n",
       "      <td>2009-08-01</td>\n",
       "      <td>petrol</td>\n",
       "      <td>convertible</td>\n",
       "      <td>True</td>\n",
       "      <td>True</td>\n",
       "      <td>False</td>\n",
       "      <td>False</td>\n",
       "      <td>True</td>\n",
       "      <td>True</td>\n",
       "      <td>False</td>\n",
       "      <td>6100.0</td>\n",
       "      <td>2018-02-01</td>\n",
       "      <td>Otros</td>\n",
       "      <td>8</td>\n",
       "    </tr>\n",
       "    <tr>\n",
       "      <th>8</th>\n",
       "      <td>Z4</td>\n",
       "      <td>123886.0</td>\n",
       "      <td>125.0</td>\n",
       "      <td>2013-07-01</td>\n",
       "      <td>petrol</td>\n",
       "      <td>convertible</td>\n",
       "      <td>True</td>\n",
       "      <td>False</td>\n",
       "      <td>False</td>\n",
       "      <td>False</td>\n",
       "      <td>False</td>\n",
       "      <td>True</td>\n",
       "      <td>False</td>\n",
       "      <td>6200.0</td>\n",
       "      <td>2018-03-01</td>\n",
       "      <td>black</td>\n",
       "      <td>4</td>\n",
       "    </tr>\n",
       "    <tr>\n",
       "      <th>9</th>\n",
       "      <td>320</td>\n",
       "      <td>139541.0</td>\n",
       "      <td>135.0</td>\n",
       "      <td>2013-07-01</td>\n",
       "      <td>diesel</td>\n",
       "      <td>convertible</td>\n",
       "      <td>False</td>\n",
       "      <td>False</td>\n",
       "      <td>False</td>\n",
       "      <td>True</td>\n",
       "      <td>False</td>\n",
       "      <td>True</td>\n",
       "      <td>False</td>\n",
       "      <td>17300.0</td>\n",
       "      <td>2018-03-01</td>\n",
       "      <td>Otros</td>\n",
       "      <td>4</td>\n",
       "    </tr>\n",
       "  </tbody>\n",
       "</table>\n",
       "</div>"
      ],
      "text/plain": [
       "  modelo        km  potencia fecha_registro tipo_gasolina   tipo_coche  \\\n",
       "0    118  140411.0     100.0     2012-02-01        diesel       estate   \n",
       "1     M4   13929.0     317.0     2013-07-01        petrol  convertible   \n",
       "2    320  183297.0     120.0     2012-04-01        diesel       estate   \n",
       "3    420  128035.0     135.0     2013-07-01        diesel  convertible   \n",
       "4    425   97097.0     160.0     2013-07-01        diesel          SUV   \n",
       "5    335  152352.0     225.0     2011-05-01        petrol        sedan   \n",
       "6    325  205219.0     145.0     2013-07-01        diesel  convertible   \n",
       "7    118  115560.0     105.0     2009-08-01        petrol  convertible   \n",
       "8     Z4  123886.0     125.0     2013-07-01        petrol  convertible   \n",
       "9    320  139541.0     135.0     2013-07-01        diesel  convertible   \n",
       "\n",
       "   volante_regulable  aire_acondicionado  camara_trasera  \\\n",
       "0               True                True           False   \n",
       "1               True                True           False   \n",
       "2              False               False           False   \n",
       "3               True                True           False   \n",
       "4               True                True           False   \n",
       "5               True                True           False   \n",
       "6               True                True           False   \n",
       "7               True                True           False   \n",
       "8               True               False           False   \n",
       "9              False               False           False   \n",
       "\n",
       "   elevalunas_electrico  bluetooth   gps  alerta_lim_velocidad   precio  \\\n",
       "0                  True      False  True                  True  11300.0   \n",
       "1                 False       True  True                  True  69700.0   \n",
       "2                  True      False  True                 False  10200.0   \n",
       "3                  True       True  True                  True  25100.0   \n",
       "4                 False       True  True                  True  33400.0   \n",
       "5                  True       True  True                  True  17100.0   \n",
       "6                  True       True  True                  True  12400.0   \n",
       "7                 False       True  True                 False   6100.0   \n",
       "8                 False      False  True                 False   6200.0   \n",
       "9                  True      False  True                 False  17300.0   \n",
       "\n",
       "  fecha_venta Color_simplificado  Antiguedad  \n",
       "0  2018-01-01              black           5  \n",
       "1  2018-02-01               grey           4  \n",
       "2  2018-02-01              Otros           5  \n",
       "3  2018-02-01              Otros           4  \n",
       "4  2018-04-01              Otros           4  \n",
       "5  2018-02-01              black           6  \n",
       "6  2018-02-01               grey           4  \n",
       "7  2018-02-01              Otros           8  \n",
       "8  2018-03-01              black           4  \n",
       "9  2018-03-01              Otros           4  "
      ]
     },
     "execution_count": 93,
     "metadata": {},
     "output_type": "execute_result"
    }
   ],
   "source": [
    "bmw2.head(10)"
   ]
  },
  {
   "cell_type": "code",
   "execution_count": 94,
   "metadata": {},
   "outputs": [
    {
     "name": "stdout",
     "output_type": "stream",
     "text": [
      "<class 'pandas.core.frame.DataFrame'>\n",
      "RangeIndex: 4817 entries, 0 to 4816\n",
      "Data columns (total 17 columns):\n",
      " #   Column                Non-Null Count  Dtype         \n",
      "---  ------                --------------  -----         \n",
      " 0   modelo                4817 non-null   object        \n",
      " 1   km                    4817 non-null   float64       \n",
      " 2   potencia              4817 non-null   float64       \n",
      " 3   fecha_registro        4817 non-null   datetime64[ns]\n",
      " 4   tipo_gasolina         4817 non-null   object        \n",
      " 5   tipo_coche            4817 non-null   object        \n",
      " 6   volante_regulable     4817 non-null   bool          \n",
      " 7   aire_acondicionado    4817 non-null   bool          \n",
      " 8   camara_trasera        4817 non-null   bool          \n",
      " 9   elevalunas_electrico  4817 non-null   bool          \n",
      " 10  bluetooth             4817 non-null   bool          \n",
      " 11  gps                   4817 non-null   bool          \n",
      " 12  alerta_lim_velocidad  4817 non-null   bool          \n",
      " 13  precio                4817 non-null   float64       \n",
      " 14  fecha_venta           4817 non-null   datetime64[ns]\n",
      " 15  Color_simplificado    4817 non-null   object        \n",
      " 16  Antiguedad            4817 non-null   int64         \n",
      "dtypes: bool(7), datetime64[ns](2), float64(3), int64(1), object(4)\n",
      "memory usage: 409.4+ KB\n"
     ]
    }
   ],
   "source": [
    "bmw2.info()"
   ]
  },
  {
   "cell_type": "code",
   "execution_count": 95,
   "metadata": {},
   "outputs": [],
   "source": [
    "# Extraemos el mes de la clumna \"fecha_Venta\"\n",
    "\n",
    "bmw2[\"mes_venta\"]=bmw2[\"fecha_venta\"].dt.month"
   ]
  },
  {
   "cell_type": "code",
   "execution_count": 96,
   "metadata": {},
   "outputs": [],
   "source": [
    "# Creo una variable de ventas por mes en orden con la cantidad de ventas para luego pasarla al grafico de barras\n",
    "\n",
    "ventas_por_mes = bmw2[\"mes_venta\"].value_counts().sort_index()"
   ]
  },
  {
   "cell_type": "code",
   "execution_count": 97,
   "metadata": {},
   "outputs": [
    {
     "data": {
      "image/png": "[encoded data removed]",
      "text/plain": [
       "<Figure size 1000x600 with 1 Axes>"
      ]
     },
     "metadata": {},
     "output_type": "display_data"
    }
   ],
   "source": [
    "# Grafico de barras para ver como se distribuyen las ventas por mes\n",
    "\n",
    "ventas_por_mes.plot(kind='bar', color ='skyblue', figsize= (10, 6))\n",
    "plt.title = (\"Ventas por mes\")\n",
    "plt.xlabel(\"Mes\")\n",
    "plt.ylabel(\"Numero de Ventas\")\n",
    "plt.xticks(range(12), ['Enero','Febrero','Marzo','Abril','Mayo','Junio','Julio',\n",
    "              'Agosto', 'Septiembre', 'Octubre','Noviembre','Diciembre'], rotation = 45)\n",
    "plt.show()"
   ]
  },
  {
   "cell_type": "markdown",
   "metadata": {},
   "source": [
    "Conclusiones claras:\n",
    "Pico de ventas en primavera (marzo a mayo):\n",
    "\n",
    "Esto sugiere una posible estacionalidad en las ventas de coches.\n",
    "Este patrón podría estar influido por promociones, clima favorable, o ciclos típicos del mercado.\n",
    "\n",
    "Meses bajos en invierno y otoño:\n",
    "\n",
    "Enero, septiembre y finales de año presentan menos ventas. Esto podría estar relacionado con factores económicos, como el presupuesto de inicio/fin de año o menores incentivos para comprar."
   ]
  },
  {
   "cell_type": "markdown",
   "metadata": {},
   "source": [
    "### Correlaciones"
   ]
  },
  {
   "cell_type": "markdown",
   "metadata": {},
   "source": [
    "Calcular la matriz de correlacion, IMPORTANTE NO SE PUEDE HACER CORRELACION CON UN DATAFRAME QUE CONTIENE COLUMNAS EN FORMATO STRING, POR ESO SELECCIONAR SOLO NUMERICAS\n"
   ]
  },
  {
   "cell_type": "code",
   "execution_count": 98,
   "metadata": {},
   "outputs": [
    {
     "data": {
      "text/plain": [
       "precio        1.000000\n",
       "potencia      0.638967\n",
       "Antiguedad   -0.289732\n",
       "km           -0.409784\n",
       "Name: precio, dtype: float64"
      ]
     },
     "execution_count": 98,
     "metadata": {},
     "output_type": "execute_result"
    }
   ],
   "source": [
    "# Seleccionar solo columnas numericas \n",
    "bmw2_numericas = bmw2.select_dtypes(include=[\"float\",\"int64\"])\n",
    "\n",
    "\n",
    "correlaciones = bmw2_numericas.corr()\n",
    "\n",
    "# Filtro correlaciones con precio y las ordeno:\n",
    "\n",
    "correlaciones_precio = correlaciones[\"precio\"].sort_values(ascending=False)\n",
    "correlaciones_precio"
   ]
  },
  {
   "cell_type": "code",
   "execution_count": 99,
   "metadata": {},
   "outputs": [
    {
     "data": {
      "image/png": "[encoded data removed]",
      "text/plain": [
       "<Figure size 1000x800 with 2 Axes>"
      ]
     },
     "metadata": {},
     "output_type": "display_data"
    }
   ],
   "source": [
    "# Visualizar todas las correlaciones\n",
    "\n",
    "# Tamaño de la figura\n",
    "plt.figure(figsize=(10, 8))\n",
    "\n",
    "# Mapa de calor\n",
    "sns.heatmap(correlaciones, annot=True, cmap='coolwarm', fmt = \".2f\")\n",
    "\n",
    "# Asignamos el titulo\n",
    "plt.title=(\"Matriz de Correlación\")\n",
    "\n",
    "# Muestra el grafico\n",
    "plt.show()"
   ]
  },
  {
   "cell_type": "markdown",
   "metadata": {},
   "source": [
    "#### Interpretación del gráfico:\n",
    "\n",
    "Diagonal principal (de arriba a la izquierda a abajo a la derecha):\n",
    "\n",
    "Siempre será 1.00, ya que cada variable está perfectamente correlacionada consigo misma.\n",
    "\n",
    "#### Relaciones con precio:\n",
    "\n",
    "POTENCIA (0.64): Tiene una correlación positiva moderada a fuerte con el precio. Esto significa que los autos con mayor potencia suelen tener precios más altos.\n",
    "\n",
    "KM (-0.41): Tiene una correlación negativa moderada con el precio. Esto indica que los autos con mayor kilometraje tienden a tener precios más bajos.\n",
    "\n",
    "ANTIGUEDAD (-0.29): Tiene una correlación negativa leve, lo que sugiere que los autos más antiguos tienden a tener precios más bajos, pero no es tan significativo como el kilometraje.\n",
    "\n",
    "\n",
    "#### Relaciones entre otras variables:\n",
    "\n",
    "km y antiguedad (0.32): Tienen una correlación positiva leve. Esto tiene sentido, ya que los autos más antiguos tienden a tener más kilometraje.\n",
    "potencia no tiene correlación significativa con km o antiguedad: Esto muestra que la potencia de un auto no depende directamente de su antigüedad o kilometraje.\n",
    "\n",
    "\n",
    "\n",
    "#### Conclusiones:\n",
    "\n",
    "Variables importantes para el modelo:\n",
    "\n",
    "potencia (positiva) y km (negativa) son las variables numéricas más relevantes para predecir el precio.\n",
    "Antigüedad:\n",
    "\n",
    "Aunque tiene una correlación negativa con el precio, es menos relevante comparada con km o potencia.\n",
    "Colinealidad:\n",
    "\n",
    "No parece haber colinealidad alta entre las variables (todas tienen correlaciones relativamente bajas entre sí), lo cual es ideal para un modelo.\n"
   ]
  },
  {
   "cell_type": "markdown",
   "metadata": {},
   "source": [
    "### Limpieza Variables Categoricas"
   ]
  },
  {
   "cell_type": "code",
   "execution_count": 100,
   "metadata": {},
   "outputs": [
    {
     "name": "stdout",
     "output_type": "stream",
     "text": [
      "modelo\n",
      "320                  747\n",
      "520                  630\n",
      "318                  562\n",
      "X3                   437\n",
      "116                  358\n",
      "                    ... \n",
      "216                    1\n",
      "220 Active Tourer      1\n",
      " Active Tourer         1\n",
      "225 Active Tourer      1\n",
      "214 Gran Tourer        1\n",
      "Name: count, Length: 76, dtype: int64 \n",
      "\n",
      "tipo_gasolina\n",
      "diesel           4610\n",
      "petrol            191\n",
      "hybrid_petrol       8\n",
      "Diesel              5\n",
      "electro             3\n",
      "Name: count, dtype: int64 \n",
      "\n",
      "tipo_coche\n",
      "estate         1917\n",
      "sedan          1159\n",
      "suv             754\n",
      "hatchback       488\n",
      "SUV             291\n",
      "subcompact       77\n",
      "coupe            73\n",
      "convertible      30\n",
      "van              28\n",
      "Name: count, dtype: int64 \n",
      "\n",
      "Color_simplificado\n",
      "black    1931\n",
      "Otros    1819\n",
      "grey     1067\n",
      "Name: count, dtype: int64 \n",
      "\n"
     ]
    }
   ],
   "source": [
    "# Aqui mostramos las variables categoricas\n",
    "for i in bmw2:\n",
    " if bmw2[i].dtype.kind == 'O':    \n",
    "  print(bmw2[i].value_counts(),'\\n')"
   ]
  },
  {
   "cell_type": "code",
   "execution_count": 101,
   "metadata": {},
   "outputs": [
    {
     "data": {
      "text/plain": [
       "modelo\n",
       "320                  747\n",
       "520                  630\n",
       "318                  562\n",
       "X3                   437\n",
       "116                  358\n",
       "X1                   274\n",
       "316                  233\n",
       "X5                   231\n",
       "525                  182\n",
       "530                  157\n",
       "118                  143\n",
       "318 Gran Turismo      97\n",
       "320 Gran Turismo      73\n",
       "518                   66\n",
       "X4                    46\n",
       "535                   45\n",
       "X6                    44\n",
       "420                   42\n",
       "120                   36\n",
       "330                   33\n",
       "420 Gran Coupé        33\n",
       "730                   33\n",
       "520 Gran Turismo      23\n",
       "640 Gran Coupé        19\n",
       "325                   19\n",
       "530 Gran Turismo      18\n",
       "740                   18\n",
       "X5 M                  17\n",
       "114                   15\n",
       "218 Active Tourer     13\n",
       "M550                  12\n",
       "218                   12\n",
       "218 Gran Tourer        9\n",
       "418 Gran Coupé         8\n",
       "X6 M                   8\n",
       "335                    7\n",
       "M3                     7\n",
       "640                    7\n",
       "528                    6\n",
       "435 Gran Coupé         6\n",
       "i3                     6\n",
       "Z4                     6\n",
       "125                    5\n",
       "328                    5\n",
       "325 Gran Turismo       4\n",
       "216 Gran Tourer        4\n",
       "430 Gran Coupé         4\n",
       "523                    4\n",
       "135                    4\n",
       "435                    4\n",
       "330 Gran Turismo       3\n",
       "220                    3\n",
       "216 Active Tourer      3\n",
       "M235                   3\n",
       "335 Gran Turismo       3\n",
       "X5 M50                 3\n",
       "650                    2\n",
       "425                    2\n",
       "M4                     2\n",
       "430                    2\n",
       "535 Gran Turismo       2\n",
       "123                    2\n",
       "750                    2\n",
       "635                    1\n",
       "225                    1\n",
       "i8                     1\n",
       "630                    1\n",
       "M135                   1\n",
       "M5                     1\n",
       "735                    1\n",
       "ActiveHybrid 5         1\n",
       "216                    1\n",
       "220 Active Tourer      1\n",
       " Active Tourer         1\n",
       "225 Active Tourer      1\n",
       "214 Gran Tourer        1\n",
       "Name: count, dtype: int64"
      ]
     },
     "execution_count": 101,
     "metadata": {},
     "output_type": "execute_result"
    }
   ],
   "source": [
    "# Desplegamos la variable modelo\n",
    "\n",
    "pd.set_option('display.max_rows', None)\n",
    "bmw2[\"modelo\"].value_counts()"
   ]
  },
  {
   "cell_type": "code",
   "execution_count": 102,
   "metadata": {},
   "outputs": [],
   "source": [
    "# Creamos funcion para agrupar los modelos\n",
    "\n",
    "def Agrupar_modelos(modelo):\n",
    "   if modelo.startswith(\"1\"):\n",
    "       return \"Serie 1\"\n",
    "   elif modelo.startswith(\"2\"):\n",
    "      return \"Serie 2\"\n",
    "   elif modelo.startswith(\"3\"):\n",
    "      return \"Serie 3\"\n",
    "   elif modelo.startswith(\"4\"):\n",
    "      return \"Serie 4\"\n",
    "   elif modelo.startswith(\"5\"):\n",
    "      return \"Serie 5\"\n",
    "   elif modelo.startswith(\"6\"):\n",
    "      return \"Serie 6\"\n",
    "   elif modelo.startswith(\"7\"):\n",
    "      return \"Serie 7\"\n",
    "   elif \"X\" in modelo:\n",
    "      return \"SUV\"\n",
    "   elif modelo.startswith(\"M\"):\n",
    "      return \"M-series\"\n",
    "   else:\n",
    "      return \"Otros\""
   ]
  },
  {
   "cell_type": "code",
   "execution_count": 103,
   "metadata": {},
   "outputs": [],
   "source": [
    "bmw2[\"modelo_grupo\"]= bmw2[\"modelo\"].apply(Agrupar_modelos)"
   ]
  },
  {
   "cell_type": "code",
   "execution_count": 104,
   "metadata": {},
   "outputs": [
    {
     "data": {
      "text/plain": [
       "modelo_grupo\n",
       "Serie 3     1786\n",
       "Serie 5     1133\n",
       "SUV         1060\n",
       "Serie 1      563\n",
       "Serie 4      101\n",
       "Serie 7       54\n",
       "Serie 2       49\n",
       "Serie 6       30\n",
       "M-series      26\n",
       "Otros         15\n",
       "Name: count, dtype: int64"
      ]
     },
     "execution_count": 104,
     "metadata": {},
     "output_type": "execute_result"
    }
   ],
   "source": [
    "bmw2[\"modelo_grupo\"].value_counts()"
   ]
  },
  {
   "cell_type": "code",
   "execution_count": 105,
   "metadata": {},
   "outputs": [
    {
     "data": {
      "text/plain": [
       "modelo_grupo\n",
       "M-series    36626.92\n",
       "Otros       21266.67\n",
       "SUV         21467.64\n",
       "Serie 1      9983.30\n",
       "Serie 2     16726.53\n",
       "Serie 3     12164.22\n",
       "Serie 4     25185.15\n",
       "Serie 5     16773.26\n",
       "Serie 6     34223.33\n",
       "Serie 7     28575.93\n",
       "Name: precio, dtype: float64"
      ]
     },
     "execution_count": 105,
     "metadata": {},
     "output_type": "execute_result"
    }
   ],
   "source": [
    "bmw2.groupby('modelo_grupo')['precio'].mean().round(2)"
   ]
  },
  {
   "cell_type": "code",
   "execution_count": 106,
   "metadata": {},
   "outputs": [],
   "source": [
    "bmw2['modelo_grupo'] = bmw2['modelo_grupo'].apply(\n",
    "    lambda x: x if bmw2['modelo_grupo'].value_counts()[x] > 120 else 'Otros'\n",
    ")"
   ]
  },
  {
   "cell_type": "code",
   "execution_count": 107,
   "metadata": {},
   "outputs": [
    {
     "data": {
      "text/plain": [
       "modelo_grupo\n",
       "Serie 3    1786\n",
       "Serie 5    1133\n",
       "SUV        1060\n",
       "Serie 1     563\n",
       "Otros       275\n",
       "Name: count, dtype: int64"
      ]
     },
     "execution_count": 107,
     "metadata": {},
     "output_type": "execute_result"
    }
   ],
   "source": [
    "bmw2[\"modelo_grupo\"].value_counts()"
   ]
  },
  {
   "cell_type": "code",
   "execution_count": 108,
   "metadata": {},
   "outputs": [],
   "source": [
    "bmw3 = bmw2.copy()"
   ]
  },
  {
   "cell_type": "code",
   "execution_count": 109,
   "metadata": {},
   "outputs": [],
   "source": [
    "bmw3.drop(columns=[\"modelo\"], inplace= True)"
   ]
  },
  {
   "cell_type": "code",
   "execution_count": 110,
   "metadata": {},
   "outputs": [
    {
     "name": "stdout",
     "output_type": "stream",
     "text": [
      "tipo_gasolina\n",
      "diesel           4610\n",
      "petrol            191\n",
      "hybrid_petrol       8\n",
      "Diesel              5\n",
      "electro             3\n",
      "Name: count, dtype: int64 \n",
      "\n",
      "tipo_coche\n",
      "estate         1917\n",
      "sedan          1159\n",
      "suv             754\n",
      "hatchback       488\n",
      "SUV             291\n",
      "subcompact       77\n",
      "coupe            73\n",
      "convertible      30\n",
      "van              28\n",
      "Name: count, dtype: int64 \n",
      "\n",
      "Color_simplificado\n",
      "black    1931\n",
      "Otros    1819\n",
      "grey     1067\n",
      "Name: count, dtype: int64 \n",
      "\n",
      "modelo_grupo\n",
      "Serie 3    1786\n",
      "Serie 5    1133\n",
      "SUV        1060\n",
      "Serie 1     563\n",
      "Otros       275\n",
      "Name: count, dtype: int64 \n",
      "\n"
     ]
    }
   ],
   "source": [
    "for i in bmw3:\n",
    " if bmw3[i].dtype.kind == 'O':    \n",
    "  print(bmw3[i].value_counts(),'\\n')"
   ]
  },
  {
   "cell_type": "code",
   "execution_count": 111,
   "metadata": {},
   "outputs": [],
   "source": [
    "def agrupar_tipo_gasolina(tipo):\n",
    "    if tipo == \"Diesel\":\n",
    "        return \"diesel\" \n",
    "    elif tipo == \"petrol\" or tipo == \"hybrid_petrol\":\n",
    "        return \"petrol\"  \n",
    "    elif tipo == \"electro\":\n",
    "        return None  \n",
    "    else:\n",
    "        return tipo "
   ]
  },
  {
   "cell_type": "code",
   "execution_count": 112,
   "metadata": {},
   "outputs": [],
   "source": [
    "bmw3[\"tipo_gasolina\"] = bmw3[\"tipo_gasolina\"].apply(agrupar_tipo_gasolina)"
   ]
  },
  {
   "cell_type": "code",
   "execution_count": 113,
   "metadata": {},
   "outputs": [
    {
     "data": {
      "text/plain": [
       "tipo_gasolina\n",
       "diesel    4615\n",
       "petrol     199\n",
       "Name: count, dtype: int64"
      ]
     },
     "execution_count": 113,
     "metadata": {},
     "output_type": "execute_result"
    }
   ],
   "source": [
    "bmw3[\"tipo_gasolina\"].value_counts()"
   ]
  },
  {
   "cell_type": "code",
   "execution_count": 114,
   "metadata": {},
   "outputs": [
    {
     "ename": "KeyError",
     "evalue": "\"['gasolina'] not found in axis\"",
     "output_type": "error",
     "traceback": [
      "\u001b[1;31m---------------------------------------------------------------------------\u001b[0m",
      "\u001b[1;31mKeyError\u001b[0m                                  Traceback (most recent call last)",
      "Cell \u001b[1;32mIn[114], line 1\u001b[0m\n\u001b[1;32m----> 1\u001b[0m \u001b[43mbmw3\u001b[49m\u001b[38;5;241;43m.\u001b[39;49m\u001b[43mdrop\u001b[49m\u001b[43m(\u001b[49m\u001b[43mcolumns\u001b[49m\u001b[38;5;241;43m=\u001b[39;49m\u001b[43m[\u001b[49m\u001b[38;5;124;43m\"\u001b[39;49m\u001b[38;5;124;43mgasolina\u001b[39;49m\u001b[38;5;124;43m\"\u001b[39;49m\u001b[43m]\u001b[49m\u001b[43m,\u001b[49m\u001b[43m \u001b[49m\u001b[43minplace\u001b[49m\u001b[38;5;241;43m=\u001b[39;49m\u001b[38;5;28;43;01mTrue\u001b[39;49;00m\u001b[43m)\u001b[49m\n",
      "File \u001b[1;32mc:\\Users\\Jfeij\\AppData\\Local\\Programs\\Python\\Python312\\Lib\\site-packages\\pandas\\core\\frame.py:5581\u001b[0m, in \u001b[0;36mDataFrame.drop\u001b[1;34m(self, labels, axis, index, columns, level, inplace, errors)\u001b[0m\n\u001b[0;32m   5433\u001b[0m \u001b[38;5;28;01mdef\u001b[39;00m \u001b[38;5;21mdrop\u001b[39m(\n\u001b[0;32m   5434\u001b[0m     \u001b[38;5;28mself\u001b[39m,\n\u001b[0;32m   5435\u001b[0m     labels: IndexLabel \u001b[38;5;241m|\u001b[39m \u001b[38;5;28;01mNone\u001b[39;00m \u001b[38;5;241m=\u001b[39m \u001b[38;5;28;01mNone\u001b[39;00m,\n\u001b[1;32m   (...)\u001b[0m\n\u001b[0;32m   5442\u001b[0m     errors: IgnoreRaise \u001b[38;5;241m=\u001b[39m \u001b[38;5;124m\"\u001b[39m\u001b[38;5;124mraise\u001b[39m\u001b[38;5;124m\"\u001b[39m,\n\u001b[0;32m   5443\u001b[0m ) \u001b[38;5;241m-\u001b[39m\u001b[38;5;241m>\u001b[39m DataFrame \u001b[38;5;241m|\u001b[39m \u001b[38;5;28;01mNone\u001b[39;00m:\n\u001b[0;32m   5444\u001b[0m \u001b[38;5;250m    \u001b[39m\u001b[38;5;124;03m\"\"\"\u001b[39;00m\n\u001b[0;32m   5445\u001b[0m \u001b[38;5;124;03m    Drop specified labels from rows or columns.\u001b[39;00m\n\u001b[0;32m   5446\u001b[0m \n\u001b[1;32m   (...)\u001b[0m\n\u001b[0;32m   5579\u001b[0m \u001b[38;5;124;03m            weight  1.0     0.8\u001b[39;00m\n\u001b[0;32m   5580\u001b[0m \u001b[38;5;124;03m    \"\"\"\u001b[39;00m\n\u001b[1;32m-> 5581\u001b[0m     \u001b[38;5;28;01mreturn\u001b[39;00m \u001b[38;5;28;43msuper\u001b[39;49m\u001b[43m(\u001b[49m\u001b[43m)\u001b[49m\u001b[38;5;241;43m.\u001b[39;49m\u001b[43mdrop\u001b[49m\u001b[43m(\u001b[49m\n\u001b[0;32m   5582\u001b[0m \u001b[43m        \u001b[49m\u001b[43mlabels\u001b[49m\u001b[38;5;241;43m=\u001b[39;49m\u001b[43mlabels\u001b[49m\u001b[43m,\u001b[49m\n\u001b[0;32m   5583\u001b[0m \u001b[43m        \u001b[49m\u001b[43maxis\u001b[49m\u001b[38;5;241;43m=\u001b[39;49m\u001b[43maxis\u001b[49m\u001b[43m,\u001b[49m\n\u001b[0;32m   5584\u001b[0m \u001b[43m        \u001b[49m\u001b[43mindex\u001b[49m\u001b[38;5;241;43m=\u001b[39;49m\u001b[43mindex\u001b[49m\u001b[43m,\u001b[49m\n\u001b[0;32m   5585\u001b[0m \u001b[43m        \u001b[49m\u001b[43mcolumns\u001b[49m\u001b[38;5;241;43m=\u001b[39;49m\u001b[43mcolumns\u001b[49m\u001b[43m,\u001b[49m\n\u001b[0;32m   5586\u001b[0m \u001b[43m        \u001b[49m\u001b[43mlevel\u001b[49m\u001b[38;5;241;43m=\u001b[39;49m\u001b[43mlevel\u001b[49m\u001b[43m,\u001b[49m\n\u001b[0;32m   5587\u001b[0m \u001b[43m        \u001b[49m\u001b[43minplace\u001b[49m\u001b[38;5;241;43m=\u001b[39;49m\u001b[43minplace\u001b[49m\u001b[43m,\u001b[49m\n\u001b[0;32m   5588\u001b[0m \u001b[43m        \u001b[49m\u001b[43merrors\u001b[49m\u001b[38;5;241;43m=\u001b[39;49m\u001b[43merrors\u001b[49m\u001b[43m,\u001b[49m\n\u001b[0;32m   5589\u001b[0m \u001b[43m    \u001b[49m\u001b[43m)\u001b[49m\n",
      "File \u001b[1;32mc:\\Users\\Jfeij\\AppData\\Local\\Programs\\Python\\Python312\\Lib\\site-packages\\pandas\\core\\generic.py:4788\u001b[0m, in \u001b[0;36mNDFrame.drop\u001b[1;34m(self, labels, axis, index, columns, level, inplace, errors)\u001b[0m\n\u001b[0;32m   4786\u001b[0m \u001b[38;5;28;01mfor\u001b[39;00m axis, labels \u001b[38;5;129;01min\u001b[39;00m axes\u001b[38;5;241m.\u001b[39mitems():\n\u001b[0;32m   4787\u001b[0m     \u001b[38;5;28;01mif\u001b[39;00m labels \u001b[38;5;129;01mis\u001b[39;00m \u001b[38;5;129;01mnot\u001b[39;00m \u001b[38;5;28;01mNone\u001b[39;00m:\n\u001b[1;32m-> 4788\u001b[0m         obj \u001b[38;5;241m=\u001b[39m \u001b[43mobj\u001b[49m\u001b[38;5;241;43m.\u001b[39;49m\u001b[43m_drop_axis\u001b[49m\u001b[43m(\u001b[49m\u001b[43mlabels\u001b[49m\u001b[43m,\u001b[49m\u001b[43m \u001b[49m\u001b[43maxis\u001b[49m\u001b[43m,\u001b[49m\u001b[43m \u001b[49m\u001b[43mlevel\u001b[49m\u001b[38;5;241;43m=\u001b[39;49m\u001b[43mlevel\u001b[49m\u001b[43m,\u001b[49m\u001b[43m \u001b[49m\u001b[43merrors\u001b[49m\u001b[38;5;241;43m=\u001b[39;49m\u001b[43merrors\u001b[49m\u001b[43m)\u001b[49m\n\u001b[0;32m   4790\u001b[0m \u001b[38;5;28;01mif\u001b[39;00m inplace:\n\u001b[0;32m   4791\u001b[0m     \u001b[38;5;28mself\u001b[39m\u001b[38;5;241m.\u001b[39m_update_inplace(obj)\n",
      "File \u001b[1;32mc:\\Users\\Jfeij\\AppData\\Local\\Programs\\Python\\Python312\\Lib\\site-packages\\pandas\\core\\generic.py:4830\u001b[0m, in \u001b[0;36mNDFrame._drop_axis\u001b[1;34m(self, labels, axis, level, errors, only_slice)\u001b[0m\n\u001b[0;32m   4828\u001b[0m         new_axis \u001b[38;5;241m=\u001b[39m axis\u001b[38;5;241m.\u001b[39mdrop(labels, level\u001b[38;5;241m=\u001b[39mlevel, errors\u001b[38;5;241m=\u001b[39merrors)\n\u001b[0;32m   4829\u001b[0m     \u001b[38;5;28;01melse\u001b[39;00m:\n\u001b[1;32m-> 4830\u001b[0m         new_axis \u001b[38;5;241m=\u001b[39m \u001b[43maxis\u001b[49m\u001b[38;5;241;43m.\u001b[39;49m\u001b[43mdrop\u001b[49m\u001b[43m(\u001b[49m\u001b[43mlabels\u001b[49m\u001b[43m,\u001b[49m\u001b[43m \u001b[49m\u001b[43merrors\u001b[49m\u001b[38;5;241;43m=\u001b[39;49m\u001b[43merrors\u001b[49m\u001b[43m)\u001b[49m\n\u001b[0;32m   4831\u001b[0m     indexer \u001b[38;5;241m=\u001b[39m axis\u001b[38;5;241m.\u001b[39mget_indexer(new_axis)\n\u001b[0;32m   4833\u001b[0m \u001b[38;5;66;03m# Case for non-unique axis\u001b[39;00m\n\u001b[0;32m   4834\u001b[0m \u001b[38;5;28;01melse\u001b[39;00m:\n",
      "File \u001b[1;32mc:\\Users\\Jfeij\\AppData\\Local\\Programs\\Python\\Python312\\Lib\\site-packages\\pandas\\core\\indexes\\base.py:7070\u001b[0m, in \u001b[0;36mIndex.drop\u001b[1;34m(self, labels, errors)\u001b[0m\n\u001b[0;32m   7068\u001b[0m \u001b[38;5;28;01mif\u001b[39;00m mask\u001b[38;5;241m.\u001b[39many():\n\u001b[0;32m   7069\u001b[0m     \u001b[38;5;28;01mif\u001b[39;00m errors \u001b[38;5;241m!=\u001b[39m \u001b[38;5;124m\"\u001b[39m\u001b[38;5;124mignore\u001b[39m\u001b[38;5;124m\"\u001b[39m:\n\u001b[1;32m-> 7070\u001b[0m         \u001b[38;5;28;01mraise\u001b[39;00m \u001b[38;5;167;01mKeyError\u001b[39;00m(\u001b[38;5;124mf\u001b[39m\u001b[38;5;124m\"\u001b[39m\u001b[38;5;132;01m{\u001b[39;00mlabels[mask]\u001b[38;5;241m.\u001b[39mtolist()\u001b[38;5;132;01m}\u001b[39;00m\u001b[38;5;124m not found in axis\u001b[39m\u001b[38;5;124m\"\u001b[39m)\n\u001b[0;32m   7071\u001b[0m     indexer \u001b[38;5;241m=\u001b[39m indexer[\u001b[38;5;241m~\u001b[39mmask]\n\u001b[0;32m   7072\u001b[0m \u001b[38;5;28;01mreturn\u001b[39;00m \u001b[38;5;28mself\u001b[39m\u001b[38;5;241m.\u001b[39mdelete(indexer)\n",
      "\u001b[1;31mKeyError\u001b[0m: \"['gasolina'] not found in axis\""
     ]
    }
   ],
   "source": [
    "bmw3.drop(columns=[\"gasolina\"], inplace=True)"
   ]
  },
  {
   "cell_type": "code",
   "execution_count": null,
   "metadata": {},
   "outputs": [
    {
     "name": "stdout",
     "output_type": "stream",
     "text": [
      "tipo_gasolina\n",
      "diesel    4615\n",
      "petrol     199\n",
      "Name: count, dtype: int64 \n",
      "\n",
      "tipo_coche\n",
      "estate         1917\n",
      "sedan          1159\n",
      "suv             754\n",
      "hatchback       486\n",
      "SUV             290\n",
      "subcompact       77\n",
      "coupe            73\n",
      "convertible      30\n",
      "van              28\n",
      "Name: count, dtype: int64 \n",
      "\n",
      "Color_simplificado\n",
      "black    1931\n",
      "Otros    1818\n",
      "grey     1065\n",
      "Name: count, dtype: int64 \n",
      "\n",
      "modelo_grupo\n",
      "Serie 3    1786\n",
      "Serie 5    1133\n",
      "SUV        1060\n",
      "Serie 1     563\n",
      "Otros       272\n",
      "Name: count, dtype: int64 \n",
      "\n"
     ]
    }
   ],
   "source": [
    "for i in bmw3:\n",
    " if bmw3[i].dtype.kind == 'O':    \n",
    "  print(bmw3[i].value_counts(),'\\n')"
   ]
  },
  {
   "cell_type": "code",
   "execution_count": null,
   "metadata": {},
   "outputs": [],
   "source": [
    "def agrupar_Suv(tipo):\n",
    "    if tipo == \"SUV\":\n",
    "        return \"suv\" \n",
    "    elif tipo == \"subcompact\":\n",
    "        return \"Otros\"  \n",
    "    elif tipo == \"coupe\":\n",
    "        return \"Otros\"\n",
    "    elif tipo == \"convertible\":\n",
    "        return \"Otros\"\n",
    "    elif tipo == \"van\":\n",
    "        return \"Otros\"\n",
    "    else:\n",
    "        return tipo "
   ]
  },
  {
   "cell_type": "code",
   "execution_count": null,
   "metadata": {},
   "outputs": [],
   "source": [
    "bmw3[\"tipo_coche\"] = bmw3[\"tipo_coche\"].apply(agrupar_Suv)"
   ]
  },
  {
   "cell_type": "code",
   "execution_count": null,
   "metadata": {},
   "outputs": [
    {
     "data": {
      "text/plain": [
       "tipo_coche\n",
       "estate       1917\n",
       "sedan        1159\n",
       "suv          1044\n",
       "hatchback     486\n",
       "Otros         208\n",
       "Name: count, dtype: int64"
      ]
     },
     "execution_count": 164,
     "metadata": {},
     "output_type": "execute_result"
    }
   ],
   "source": [
    "bmw3[\"tipo_coche\"].value_counts()"
   ]
  },
  {
   "cell_type": "code",
   "execution_count": null,
   "metadata": {},
   "outputs": [
    {
     "name": "stdout",
     "output_type": "stream",
     "text": [
      "tipo_gasolina\n",
      "diesel    4615\n",
      "petrol     199\n",
      "Name: count, dtype: int64 \n",
      "\n",
      "tipo_coche\n",
      "estate       1917\n",
      "sedan        1159\n",
      "suv          1044\n",
      "hatchback     486\n",
      "Otros         208\n",
      "Name: count, dtype: int64 \n",
      "\n",
      "Color_simplificado\n",
      "black    1931\n",
      "Otros    1818\n",
      "grey     1065\n",
      "Name: count, dtype: int64 \n",
      "\n",
      "modelo_grupo\n",
      "Serie 3    1786\n",
      "Serie 5    1133\n",
      "SUV        1060\n",
      "Serie 1     563\n",
      "Otros       272\n",
      "Name: count, dtype: int64 \n",
      "\n"
     ]
    }
   ],
   "source": [
    "for i in bmw3:\n",
    " if bmw3[i].dtype.kind == 'O':    \n",
    "  print(bmw3[i].value_counts(),'\\n')"
   ]
  },
  {
   "cell_type": "markdown",
   "metadata": {},
   "source": [
    "### One Hot Encoding (Convertir variables categoricas a numericas, para que el modelo pueda interpretarlas)"
   ]
  },
  {
   "cell_type": "code",
   "execution_count": 115,
   "metadata": {},
   "outputs": [
    {
     "name": "stdout",
     "output_type": "stream",
     "text": [
      "<class 'pandas.core.frame.DataFrame'>\n",
      "RangeIndex: 4817 entries, 0 to 4816\n",
      "Data columns (total 18 columns):\n",
      " #   Column                Non-Null Count  Dtype         \n",
      "---  ------                --------------  -----         \n",
      " 0   km                    4817 non-null   float64       \n",
      " 1   potencia              4817 non-null   float64       \n",
      " 2   fecha_registro        4817 non-null   datetime64[ns]\n",
      " 3   tipo_gasolina         4814 non-null   object        \n",
      " 4   tipo_coche            4817 non-null   object        \n",
      " 5   volante_regulable     4817 non-null   bool          \n",
      " 6   aire_acondicionado    4817 non-null   bool          \n",
      " 7   camara_trasera        4817 non-null   bool          \n",
      " 8   elevalunas_electrico  4817 non-null   bool          \n",
      " 9   bluetooth             4817 non-null   bool          \n",
      " 10  gps                   4817 non-null   bool          \n",
      " 11  alerta_lim_velocidad  4817 non-null   bool          \n",
      " 12  precio                4817 non-null   float64       \n",
      " 13  fecha_venta           4817 non-null   datetime64[ns]\n",
      " 14  Color_simplificado    4817 non-null   object        \n",
      " 15  Antiguedad            4817 non-null   int64         \n",
      " 16  mes_venta             4817 non-null   int32         \n",
      " 17  modelo_grupo          4817 non-null   object        \n",
      "dtypes: bool(7), datetime64[ns](2), float64(3), int32(1), int64(1), object(4)\n",
      "memory usage: 428.2+ KB\n"
     ]
    }
   ],
   "source": [
    "bmw3.info()"
   ]
  },
  {
   "cell_type": "code",
   "execution_count": 116,
   "metadata": {},
   "outputs": [],
   "source": [
    "def obtener_lista_variables(dataset: pd.DataFrame, target: list[str]) -> tuple[list, list, list]:\n",
    "    lista_numericas = []\n",
    "    lista_boolean = []\n",
    "    lista_categoricas = []\n",
    "    \n",
    "    for col in dataset:\n",
    "        if col in target:  # Excluir la columna objetivo\n",
    "            continue\n",
    "        \n",
    "        unique_values = len(set(dataset[col]))\n",
    "        if dataset[col].dtype.kind in ('f', 'i'):  # Numérica (float o int)\n",
    "            if unique_values == 2:  # Numérica booleana\n",
    "                lista_boolean.append(col)\n",
    "            else:  # Numérica continua\n",
    "                lista_numericas.append(col)\n",
    "        elif dataset[col].dtype.kind == 'O':  # Categórica (object/string)\n",
    "            lista_categoricas.append(col)\n",
    "    \n",
    "    return lista_numericas, lista_boolean, lista_categoricas"
   ]
  },
  {
   "cell_type": "code",
   "execution_count": 117,
   "metadata": {},
   "outputs": [
    {
     "name": "stdout",
     "output_type": "stream",
     "text": [
      "Numéricas: ['km', 'potencia', 'Antiguedad', 'mes_venta']\n",
      "Booleanas: []\n",
      "Categóricas: ['tipo_gasolina', 'tipo_coche', 'Color_simplificado', 'modelo_grupo']\n"
     ]
    }
   ],
   "source": [
    "# Aplicar la función\n",
    "target = [\"precio\"]\n",
    "lista_numericas, lista_boolean, lista_categoricas = obtener_lista_variables(bmw3, target)\n",
    "\n",
    "print(\"Numéricas:\", lista_numericas)\n",
    "print(\"Booleanas:\", lista_boolean)\n",
    "print(\"Categóricas:\", lista_categoricas)"
   ]
  },
  {
   "cell_type": "code",
   "execution_count": 118,
   "metadata": {},
   "outputs": [
    {
     "data": {
      "text/html": [
       "<div>\n",
       "<style scoped>\n",
       "    .dataframe tbody tr th:only-of-type {\n",
       "        vertical-align: middle;\n",
       "    }\n",
       "\n",
       "    .dataframe tbody tr th {\n",
       "        vertical-align: top;\n",
       "    }\n",
       "\n",
       "    .dataframe thead th {\n",
       "        text-align: right;\n",
       "    }\n",
       "</style>\n",
       "<table border=\"1\" class=\"dataframe\">\n",
       "  <thead>\n",
       "    <tr style=\"text-align: right;\">\n",
       "      <th></th>\n",
       "      <th>km</th>\n",
       "      <th>potencia</th>\n",
       "      <th>fecha_registro</th>\n",
       "      <th>volante_regulable</th>\n",
       "      <th>aire_acondicionado</th>\n",
       "      <th>camara_trasera</th>\n",
       "      <th>elevalunas_electrico</th>\n",
       "      <th>bluetooth</th>\n",
       "      <th>gps</th>\n",
       "      <th>alerta_lim_velocidad</th>\n",
       "      <th>...</th>\n",
       "      <th>tipo_coche_sedan</th>\n",
       "      <th>tipo_coche_subcompact</th>\n",
       "      <th>tipo_coche_suv</th>\n",
       "      <th>tipo_coche_van</th>\n",
       "      <th>Color_simplificado_black</th>\n",
       "      <th>Color_simplificado_grey</th>\n",
       "      <th>modelo_grupo_SUV</th>\n",
       "      <th>modelo_grupo_Serie 1</th>\n",
       "      <th>modelo_grupo_Serie 3</th>\n",
       "      <th>modelo_grupo_Serie 5</th>\n",
       "    </tr>\n",
       "  </thead>\n",
       "  <tbody>\n",
       "    <tr>\n",
       "      <th>0</th>\n",
       "      <td>140411.0</td>\n",
       "      <td>100.0</td>\n",
       "      <td>2012-02-01</td>\n",
       "      <td>True</td>\n",
       "      <td>True</td>\n",
       "      <td>False</td>\n",
       "      <td>True</td>\n",
       "      <td>False</td>\n",
       "      <td>True</td>\n",
       "      <td>True</td>\n",
       "      <td>...</td>\n",
       "      <td>False</td>\n",
       "      <td>False</td>\n",
       "      <td>False</td>\n",
       "      <td>False</td>\n",
       "      <td>True</td>\n",
       "      <td>False</td>\n",
       "      <td>False</td>\n",
       "      <td>True</td>\n",
       "      <td>False</td>\n",
       "      <td>False</td>\n",
       "    </tr>\n",
       "    <tr>\n",
       "      <th>1</th>\n",
       "      <td>13929.0</td>\n",
       "      <td>317.0</td>\n",
       "      <td>2013-07-01</td>\n",
       "      <td>True</td>\n",
       "      <td>True</td>\n",
       "      <td>False</td>\n",
       "      <td>False</td>\n",
       "      <td>True</td>\n",
       "      <td>True</td>\n",
       "      <td>True</td>\n",
       "      <td>...</td>\n",
       "      <td>False</td>\n",
       "      <td>False</td>\n",
       "      <td>False</td>\n",
       "      <td>False</td>\n",
       "      <td>False</td>\n",
       "      <td>True</td>\n",
       "      <td>False</td>\n",
       "      <td>False</td>\n",
       "      <td>False</td>\n",
       "      <td>False</td>\n",
       "    </tr>\n",
       "    <tr>\n",
       "      <th>2</th>\n",
       "      <td>183297.0</td>\n",
       "      <td>120.0</td>\n",
       "      <td>2012-04-01</td>\n",
       "      <td>False</td>\n",
       "      <td>False</td>\n",
       "      <td>False</td>\n",
       "      <td>True</td>\n",
       "      <td>False</td>\n",
       "      <td>True</td>\n",
       "      <td>False</td>\n",
       "      <td>...</td>\n",
       "      <td>False</td>\n",
       "      <td>False</td>\n",
       "      <td>False</td>\n",
       "      <td>False</td>\n",
       "      <td>False</td>\n",
       "      <td>False</td>\n",
       "      <td>False</td>\n",
       "      <td>False</td>\n",
       "      <td>True</td>\n",
       "      <td>False</td>\n",
       "    </tr>\n",
       "    <tr>\n",
       "      <th>3</th>\n",
       "      <td>128035.0</td>\n",
       "      <td>135.0</td>\n",
       "      <td>2013-07-01</td>\n",
       "      <td>True</td>\n",
       "      <td>True</td>\n",
       "      <td>False</td>\n",
       "      <td>True</td>\n",
       "      <td>True</td>\n",
       "      <td>True</td>\n",
       "      <td>True</td>\n",
       "      <td>...</td>\n",
       "      <td>False</td>\n",
       "      <td>False</td>\n",
       "      <td>False</td>\n",
       "      <td>False</td>\n",
       "      <td>False</td>\n",
       "      <td>False</td>\n",
       "      <td>False</td>\n",
       "      <td>False</td>\n",
       "      <td>False</td>\n",
       "      <td>False</td>\n",
       "    </tr>\n",
       "    <tr>\n",
       "      <th>4</th>\n",
       "      <td>97097.0</td>\n",
       "      <td>160.0</td>\n",
       "      <td>2013-07-01</td>\n",
       "      <td>True</td>\n",
       "      <td>True</td>\n",
       "      <td>False</td>\n",
       "      <td>False</td>\n",
       "      <td>True</td>\n",
       "      <td>True</td>\n",
       "      <td>True</td>\n",
       "      <td>...</td>\n",
       "      <td>False</td>\n",
       "      <td>False</td>\n",
       "      <td>False</td>\n",
       "      <td>False</td>\n",
       "      <td>False</td>\n",
       "      <td>False</td>\n",
       "      <td>False</td>\n",
       "      <td>False</td>\n",
       "      <td>False</td>\n",
       "      <td>False</td>\n",
       "    </tr>\n",
       "  </tbody>\n",
       "</table>\n",
       "<p>5 rows × 29 columns</p>\n",
       "</div>"
      ],
      "text/plain": [
       "         km  potencia fecha_registro  volante_regulable  aire_acondicionado  \\\n",
       "0  140411.0     100.0     2012-02-01               True                True   \n",
       "1   13929.0     317.0     2013-07-01               True                True   \n",
       "2  183297.0     120.0     2012-04-01              False               False   \n",
       "3  128035.0     135.0     2013-07-01               True                True   \n",
       "4   97097.0     160.0     2013-07-01               True                True   \n",
       "\n",
       "   camara_trasera  elevalunas_electrico  bluetooth   gps  \\\n",
       "0           False                  True      False  True   \n",
       "1           False                 False       True  True   \n",
       "2           False                  True      False  True   \n",
       "3           False                  True       True  True   \n",
       "4           False                 False       True  True   \n",
       "\n",
       "   alerta_lim_velocidad  ...  tipo_coche_sedan tipo_coche_subcompact  \\\n",
       "0                  True  ...             False                 False   \n",
       "1                  True  ...             False                 False   \n",
       "2                 False  ...             False                 False   \n",
       "3                  True  ...             False                 False   \n",
       "4                  True  ...             False                 False   \n",
       "\n",
       "   tipo_coche_suv  tipo_coche_van  Color_simplificado_black  \\\n",
       "0           False           False                      True   \n",
       "1           False           False                     False   \n",
       "2           False           False                     False   \n",
       "3           False           False                     False   \n",
       "4           False           False                     False   \n",
       "\n",
       "   Color_simplificado_grey  modelo_grupo_SUV  modelo_grupo_Serie 1  \\\n",
       "0                    False             False                  True   \n",
       "1                     True             False                 False   \n",
       "2                    False             False                 False   \n",
       "3                    False             False                 False   \n",
       "4                    False             False                 False   \n",
       "\n",
       "   modelo_grupo_Serie 3  modelo_grupo_Serie 5  \n",
       "0                 False                 False  \n",
       "1                 False                 False  \n",
       "2                  True                 False  \n",
       "3                 False                 False  \n",
       "4                 False                 False  \n",
       "\n",
       "[5 rows x 29 columns]"
      ]
     },
     "execution_count": 118,
     "metadata": {},
     "output_type": "execute_result"
    }
   ],
   "source": [
    "# Aplicar One Hot Encoding solo a las columnas categóricas\n",
    "bmw3_encoded = pd.get_dummies(bmw3, columns=lista_categoricas, drop_first=True)\n",
    "\n",
    "# Verificar el resultado\n",
    "bmw3_encoded.head()"
   ]
  },
  {
   "cell_type": "markdown",
   "metadata": {},
   "source": [
    "#### Variables numericas (Escalado)"
   ]
  },
  {
   "cell_type": "code",
   "execution_count": 119,
   "metadata": {},
   "outputs": [],
   "source": [
    "# Escalado de variables numericas:\n",
    "\n",
    "scaler = MinMaxScaler()\n",
    "bmw3_encoded[lista_numericas] = scaler.fit_transform(bmw3_encoded[lista_numericas])"
   ]
  },
  {
   "cell_type": "code",
   "execution_count": 120,
   "metadata": {},
   "outputs": [
    {
     "data": {
      "text/html": [
       "<div>\n",
       "<style scoped>\n",
       "    .dataframe tbody tr th:only-of-type {\n",
       "        vertical-align: middle;\n",
       "    }\n",
       "\n",
       "    .dataframe tbody tr th {\n",
       "        vertical-align: top;\n",
       "    }\n",
       "\n",
       "    .dataframe thead th {\n",
       "        text-align: right;\n",
       "    }\n",
       "</style>\n",
       "<table border=\"1\" class=\"dataframe\">\n",
       "  <thead>\n",
       "    <tr style=\"text-align: right;\">\n",
       "      <th></th>\n",
       "      <th>km</th>\n",
       "      <th>potencia</th>\n",
       "      <th>Antiguedad</th>\n",
       "      <th>mes_venta</th>\n",
       "    </tr>\n",
       "  </thead>\n",
       "  <tbody>\n",
       "    <tr>\n",
       "      <th>0</th>\n",
       "      <td>0.140413</td>\n",
       "      <td>0.236407</td>\n",
       "      <td>0.323529</td>\n",
       "      <td>0.000</td>\n",
       "    </tr>\n",
       "    <tr>\n",
       "      <th>1</th>\n",
       "      <td>0.013987</td>\n",
       "      <td>0.749409</td>\n",
       "      <td>0.294118</td>\n",
       "      <td>0.125</td>\n",
       "    </tr>\n",
       "    <tr>\n",
       "      <th>2</th>\n",
       "      <td>0.183280</td>\n",
       "      <td>0.283688</td>\n",
       "      <td>0.323529</td>\n",
       "      <td>0.125</td>\n",
       "    </tr>\n",
       "    <tr>\n",
       "      <th>3</th>\n",
       "      <td>0.128043</td>\n",
       "      <td>0.319149</td>\n",
       "      <td>0.294118</td>\n",
       "      <td>0.125</td>\n",
       "    </tr>\n",
       "    <tr>\n",
       "      <th>4</th>\n",
       "      <td>0.097118</td>\n",
       "      <td>0.378251</td>\n",
       "      <td>0.294118</td>\n",
       "      <td>0.375</td>\n",
       "    </tr>\n",
       "  </tbody>\n",
       "</table>\n",
       "</div>"
      ],
      "text/plain": [
       "         km  potencia  Antiguedad  mes_venta\n",
       "0  0.140413  0.236407    0.323529      0.000\n",
       "1  0.013987  0.749409    0.294118      0.125\n",
       "2  0.183280  0.283688    0.323529      0.125\n",
       "3  0.128043  0.319149    0.294118      0.125\n",
       "4  0.097118  0.378251    0.294118      0.375"
      ]
     },
     "execution_count": 120,
     "metadata": {},
     "output_type": "execute_result"
    }
   ],
   "source": [
    "# Cada valor ahora representa su posición relativa en el rango de datos de esa variable.\n",
    "# Por ejemplo, para km:\n",
    "# 0.14 (primer registro) significa que ese valor de kilómetros está cerca del 14% del rango total \n",
    "# de los kilómetros en el dataset.\n",
    "\n",
    "bmw3_encoded[lista_numericas].head()"
   ]
  },
  {
   "cell_type": "code",
   "execution_count": 121,
   "metadata": {},
   "outputs": [
    {
     "data": {
      "text/html": [
       "<style type=\"text/css\">\n",
       "#T_4c549_row0_col0, #T_4c549_row1_col1, #T_4c549_row2_col2, #T_4c549_row3_col3 {\n",
       "  background-color: #b40426;\n",
       "  color: #f1f1f1;\n",
       "}\n",
       "#T_4c549_row0_col1 {\n",
       "  background-color: #3e51c5;\n",
       "  color: #f1f1f1;\n",
       "}\n",
       "#T_4c549_row0_col2 {\n",
       "  background-color: #b2ccfb;\n",
       "  color: #000000;\n",
       "}\n",
       "#T_4c549_row0_col3 {\n",
       "  background-color: #4358cb;\n",
       "  color: #f1f1f1;\n",
       "}\n",
       "#T_4c549_row1_col0, #T_4c549_row1_col2, #T_4c549_row1_col3, #T_4c549_row2_col1 {\n",
       "  background-color: #3b4cc0;\n",
       "  color: #f1f1f1;\n",
       "}\n",
       "#T_4c549_row2_col0 {\n",
       "  background-color: #afcafc;\n",
       "  color: #000000;\n",
       "}\n",
       "#T_4c549_row2_col3 {\n",
       "  background-color: #7da0f9;\n",
       "  color: #f1f1f1;\n",
       "}\n",
       "#T_4c549_row3_col0 {\n",
       "  background-color: #4961d2;\n",
       "  color: #f1f1f1;\n",
       "}\n",
       "#T_4c549_row3_col1 {\n",
       "  background-color: #445acc;\n",
       "  color: #f1f1f1;\n",
       "}\n",
       "#T_4c549_row3_col2 {\n",
       "  background-color: #86a9fc;\n",
       "  color: #f1f1f1;\n",
       "}\n",
       "</style>\n",
       "<table id=\"T_4c549\">\n",
       "  <thead>\n",
       "    <tr>\n",
       "      <th class=\"blank level0\" >&nbsp;</th>\n",
       "      <th id=\"T_4c549_level0_col0\" class=\"col_heading level0 col0\" >km</th>\n",
       "      <th id=\"T_4c549_level0_col1\" class=\"col_heading level0 col1\" >potencia</th>\n",
       "      <th id=\"T_4c549_level0_col2\" class=\"col_heading level0 col2\" >Antiguedad</th>\n",
       "      <th id=\"T_4c549_level0_col3\" class=\"col_heading level0 col3\" >mes_venta</th>\n",
       "    </tr>\n",
       "  </thead>\n",
       "  <tbody>\n",
       "    <tr>\n",
       "      <th id=\"T_4c549_level0_row0\" class=\"row_heading level0 row0\" >km</th>\n",
       "      <td id=\"T_4c549_row0_col0\" class=\"data row0 col0\" >1.000000</td>\n",
       "      <td id=\"T_4c549_row0_col1\" class=\"data row0 col1\" >-0.049786</td>\n",
       "      <td id=\"T_4c549_row0_col2\" class=\"data row0 col2\" >0.317013</td>\n",
       "      <td id=\"T_4c549_row0_col3\" class=\"data row0 col3\" >0.000508</td>\n",
       "    </tr>\n",
       "    <tr>\n",
       "      <th id=\"T_4c549_level0_row1\" class=\"row_heading level0 row1\" >potencia</th>\n",
       "      <td id=\"T_4c549_row1_col0\" class=\"data row1 col0\" >-0.049786</td>\n",
       "      <td id=\"T_4c549_row1_col1\" class=\"data row1 col1\" >1.000000</td>\n",
       "      <td id=\"T_4c549_row1_col2\" class=\"data row1 col2\" >-0.063509</td>\n",
       "      <td id=\"T_4c549_row1_col3\" class=\"data row1 col3\" >-0.027786</td>\n",
       "    </tr>\n",
       "    <tr>\n",
       "      <th id=\"T_4c549_level0_row2\" class=\"row_heading level0 row2\" >Antiguedad</th>\n",
       "      <td id=\"T_4c549_row2_col0\" class=\"data row2 col0\" >0.317013</td>\n",
       "      <td id=\"T_4c549_row2_col1\" class=\"data row2 col1\" >-0.063509</td>\n",
       "      <td id=\"T_4c549_row2_col2\" class=\"data row2 col2\" >1.000000</td>\n",
       "      <td id=\"T_4c549_row2_col3\" class=\"data row2 col3\" >0.182292</td>\n",
       "    </tr>\n",
       "    <tr>\n",
       "      <th id=\"T_4c549_level0_row3\" class=\"row_heading level0 row3\" >mes_venta</th>\n",
       "      <td id=\"T_4c549_row3_col0\" class=\"data row3 col0\" >0.000508</td>\n",
       "      <td id=\"T_4c549_row3_col1\" class=\"data row3 col1\" >-0.027786</td>\n",
       "      <td id=\"T_4c549_row3_col2\" class=\"data row3 col2\" >0.182292</td>\n",
       "      <td id=\"T_4c549_row3_col3\" class=\"data row3 col3\" >1.000000</td>\n",
       "    </tr>\n",
       "  </tbody>\n",
       "</table>\n"
      ],
      "text/plain": [
       "<pandas.io.formats.style.Styler at 0x25d49028aa0>"
      ]
     },
     "execution_count": 121,
     "metadata": {},
     "output_type": "execute_result"
    }
   ],
   "source": [
    "# Matriz de correlación para las variables numéricas escaladas\n",
    "\n",
    "correlacion = bmw3_encoded[lista_numericas].corr()\n",
    "\n",
    "# Visualizacion con un gradiente\n",
    "\n",
    "correlacion.style.background_gradient(cmap='coolwarm')"
   ]
  },
  {
   "cell_type": "markdown",
   "metadata": {},
   "source": [
    "¿Eliminar variables?\n",
    "\n",
    "Como no hay correlaciones muy altas (por encima de 0.9) entre estas variables, no es necesario eliminar ninguna en esta etapa.\n",
    "\n",
    "Conclusión:\n",
    "\n",
    "Todas las variables parecen aportar información única al dataset y podrían ser útiles para modelar."
   ]
  },
  {
   "cell_type": "markdown",
   "metadata": {},
   "source": [
    "#### Variables booleanas"
   ]
  },
  {
   "cell_type": "code",
   "execution_count": 122,
   "metadata": {},
   "outputs": [
    {
     "name": "stdout",
     "output_type": "stream",
     "text": [
      "volante_regulable:\n",
      "volante_regulable\n",
      "True     0.550343\n",
      "False    0.449657\n",
      "Name: proportion, dtype: float64\n",
      "\n",
      "aire_acondicionado:\n",
      "aire_acondicionado\n",
      "True     0.816068\n",
      "False    0.183932\n",
      "Name: proportion, dtype: float64\n",
      "\n",
      "camara_trasera:\n",
      "camara_trasera\n",
      "False    0.79863\n",
      "True     0.20137\n",
      "Name: proportion, dtype: float64\n",
      "\n",
      "elevalunas_electrico:\n",
      "elevalunas_electrico\n",
      "False    0.53934\n",
      "True     0.46066\n",
      "Name: proportion, dtype: float64\n",
      "\n",
      "bluetooth:\n",
      "bluetooth\n",
      "False    0.79427\n",
      "True     0.20573\n",
      "Name: proportion, dtype: float64\n",
      "\n",
      "gps:\n",
      "gps\n",
      "True     0.932531\n",
      "False    0.067469\n",
      "Name: proportion, dtype: float64\n",
      "\n",
      "alerta_lim_velocidad:\n",
      "alerta_lim_velocidad\n",
      "True     0.612622\n",
      "False    0.387378\n",
      "Name: proportion, dtype: float64\n",
      "\n",
      "tipo_gasolina_petrol:\n",
      "tipo_gasolina_petrol\n",
      "False    0.958688\n",
      "True     0.041312\n",
      "Name: proportion, dtype: float64\n",
      "\n",
      "tipo_coche_convertible:\n",
      "tipo_coche_convertible\n",
      "False    0.993772\n",
      "True     0.006228\n",
      "Name: proportion, dtype: float64\n",
      "\n",
      "tipo_coche_coupe:\n",
      "tipo_coche_coupe\n",
      "False    0.984845\n",
      "True     0.015155\n",
      "Name: proportion, dtype: float64\n",
      "\n",
      "tipo_coche_estate:\n",
      "tipo_coche_estate\n",
      "False    0.602034\n",
      "True     0.397966\n",
      "Name: proportion, dtype: float64\n",
      "\n",
      "tipo_coche_hatchback:\n",
      "tipo_coche_hatchback\n",
      "False    0.898692\n",
      "True     0.101308\n",
      "Name: proportion, dtype: float64\n",
      "\n",
      "tipo_coche_sedan:\n",
      "tipo_coche_sedan\n",
      "False    0.759394\n",
      "True     0.240606\n",
      "Name: proportion, dtype: float64\n",
      "\n",
      "tipo_coche_subcompact:\n",
      "tipo_coche_subcompact\n",
      "False    0.984015\n",
      "True     0.015985\n",
      "Name: proportion, dtype: float64\n",
      "\n",
      "tipo_coche_suv:\n",
      "tipo_coche_suv\n",
      "False    0.843471\n",
      "True     0.156529\n",
      "Name: proportion, dtype: float64\n",
      "\n",
      "tipo_coche_van:\n",
      "tipo_coche_van\n",
      "False    0.994187\n",
      "True     0.005813\n",
      "Name: proportion, dtype: float64\n",
      "\n",
      "Color_simplificado_black:\n",
      "Color_simplificado_black\n",
      "False    0.599128\n",
      "True     0.400872\n",
      "Name: proportion, dtype: float64\n",
      "\n",
      "Color_simplificado_grey:\n",
      "Color_simplificado_grey\n",
      "False    0.778493\n",
      "True     0.221507\n",
      "Name: proportion, dtype: float64\n",
      "\n",
      "modelo_grupo_SUV:\n",
      "modelo_grupo_SUV\n",
      "False    0.779946\n",
      "True     0.220054\n",
      "Name: proportion, dtype: float64\n",
      "\n",
      "modelo_grupo_Serie 1:\n",
      "modelo_grupo_Serie 1\n",
      "False    0.883122\n",
      "True     0.116878\n",
      "Name: proportion, dtype: float64\n",
      "\n",
      "modelo_grupo_Serie 3:\n",
      "modelo_grupo_Serie 3\n",
      "False    0.62923\n",
      "True     0.37077\n",
      "Name: proportion, dtype: float64\n",
      "\n",
      "modelo_grupo_Serie 5:\n",
      "modelo_grupo_Serie 5\n",
      "False    0.764791\n",
      "True     0.235209\n",
      "Name: proportion, dtype: float64\n",
      "\n"
     ]
    }
   ],
   "source": [
    "lista_boolean = bmw3_encoded.select_dtypes(include=['bool']).columns.tolist()\n",
    "\n",
    "for col in lista_boolean:\n",
    "    print(f\"{col}:\\n{bmw3_encoded[col].value_counts(normalize=True)}\\n\")"
   ]
  },
  {
   "cell_type": "markdown",
   "metadata": {},
   "source": [
    "Eliminar Variables irrelevantes"
   ]
  },
  {
   "cell_type": "code",
   "execution_count": 123,
   "metadata": {},
   "outputs": [
    {
     "name": "stdout",
     "output_type": "stream",
     "text": [
      "Eliminada: tipo_gasolina_petrol\n",
      "Eliminada: tipo_coche_convertible\n",
      "Eliminada: tipo_coche_coupe\n",
      "Eliminada: tipo_coche_subcompact\n",
      "Eliminada: tipo_coche_van\n"
     ]
    }
   ],
   "source": [
    "for col in lista_boolean:\n",
    "    if bmw3_encoded[col].value_counts(normalize=True).max() >= 0.95:\n",
    "        bmw3_encoded.drop(columns=[col], inplace=True)\n",
    "        print(f\"Eliminada: {col}\")"
   ]
  },
  {
   "cell_type": "markdown",
   "metadata": {},
   "source": [
    "#### Variables Temporales"
   ]
  },
  {
   "cell_type": "code",
   "execution_count": 124,
   "metadata": {},
   "outputs": [],
   "source": [
    "bmw3_encoded[\"registro_year\"] = bmw3_encoded[\"fecha_registro\"].dt.year\n",
    "bmw3_encoded[\"registro_month\"] = bmw3_encoded[\"fecha_registro\"].dt.month\n",
    "bmw3_encoded[\"venta_year\"] = bmw3_encoded[\"fecha_venta\"].dt.year\n",
    "bmw3_encoded[\"venta_month\"] = bmw3_encoded[\"fecha_venta\"].dt.month\n",
    "\n",
    "# Eliminar columnas originales si no son necesarias\n",
    "bmw3_encoded.drop(columns=[\"fecha_registro\", \"fecha_venta\"], inplace=True)"
   ]
  },
  {
   "cell_type": "code",
   "execution_count": 125,
   "metadata": {},
   "outputs": [],
   "source": [
    "bmw3_encoded.drop(columns=[\"mes_venta\"], inplace=True)"
   ]
  },
  {
   "cell_type": "code",
   "execution_count": 126,
   "metadata": {},
   "outputs": [
    {
     "data": {
      "text/html": [
       "<div>\n",
       "<style scoped>\n",
       "    .dataframe tbody tr th:only-of-type {\n",
       "        vertical-align: middle;\n",
       "    }\n",
       "\n",
       "    .dataframe tbody tr th {\n",
       "        vertical-align: top;\n",
       "    }\n",
       "\n",
       "    .dataframe thead th {\n",
       "        text-align: right;\n",
       "    }\n",
       "</style>\n",
       "<table border=\"1\" class=\"dataframe\">\n",
       "  <thead>\n",
       "    <tr style=\"text-align: right;\">\n",
       "      <th></th>\n",
       "      <th>km</th>\n",
       "      <th>potencia</th>\n",
       "      <th>volante_regulable</th>\n",
       "      <th>aire_acondicionado</th>\n",
       "      <th>camara_trasera</th>\n",
       "      <th>elevalunas_electrico</th>\n",
       "      <th>bluetooth</th>\n",
       "      <th>gps</th>\n",
       "      <th>alerta_lim_velocidad</th>\n",
       "      <th>precio</th>\n",
       "      <th>Antiguedad</th>\n",
       "      <th>tipo_coche_estate</th>\n",
       "      <th>tipo_coche_hatchback</th>\n",
       "      <th>tipo_coche_sedan</th>\n",
       "      <th>tipo_coche_suv</th>\n",
       "      <th>Color_simplificado_black</th>\n",
       "      <th>Color_simplificado_grey</th>\n",
       "      <th>modelo_grupo_SUV</th>\n",
       "      <th>modelo_grupo_Serie 1</th>\n",
       "      <th>modelo_grupo_Serie 3</th>\n",
       "      <th>modelo_grupo_Serie 5</th>\n",
       "      <th>registro_year</th>\n",
       "      <th>registro_month</th>\n",
       "      <th>venta_year</th>\n",
       "      <th>venta_month</th>\n",
       "    </tr>\n",
       "  </thead>\n",
       "  <tbody>\n",
       "    <tr>\n",
       "      <th>0</th>\n",
       "      <td>0.140413</td>\n",
       "      <td>0.236407</td>\n",
       "      <td>True</td>\n",
       "      <td>True</td>\n",
       "      <td>False</td>\n",
       "      <td>True</td>\n",
       "      <td>False</td>\n",
       "      <td>True</td>\n",
       "      <td>True</td>\n",
       "      <td>11300.0</td>\n",
       "      <td>0.323529</td>\n",
       "      <td>True</td>\n",
       "      <td>False</td>\n",
       "      <td>False</td>\n",
       "      <td>False</td>\n",
       "      <td>True</td>\n",
       "      <td>False</td>\n",
       "      <td>False</td>\n",
       "      <td>True</td>\n",
       "      <td>False</td>\n",
       "      <td>False</td>\n",
       "      <td>2012</td>\n",
       "      <td>2</td>\n",
       "      <td>2018</td>\n",
       "      <td>1</td>\n",
       "    </tr>\n",
       "    <tr>\n",
       "      <th>1</th>\n",
       "      <td>0.013987</td>\n",
       "      <td>0.749409</td>\n",
       "      <td>True</td>\n",
       "      <td>True</td>\n",
       "      <td>False</td>\n",
       "      <td>False</td>\n",
       "      <td>True</td>\n",
       "      <td>True</td>\n",
       "      <td>True</td>\n",
       "      <td>69700.0</td>\n",
       "      <td>0.294118</td>\n",
       "      <td>False</td>\n",
       "      <td>False</td>\n",
       "      <td>False</td>\n",
       "      <td>False</td>\n",
       "      <td>False</td>\n",
       "      <td>True</td>\n",
       "      <td>False</td>\n",
       "      <td>False</td>\n",
       "      <td>False</td>\n",
       "      <td>False</td>\n",
       "      <td>2013</td>\n",
       "      <td>7</td>\n",
       "      <td>2018</td>\n",
       "      <td>2</td>\n",
       "    </tr>\n",
       "    <tr>\n",
       "      <th>2</th>\n",
       "      <td>0.183280</td>\n",
       "      <td>0.283688</td>\n",
       "      <td>False</td>\n",
       "      <td>False</td>\n",
       "      <td>False</td>\n",
       "      <td>True</td>\n",
       "      <td>False</td>\n",
       "      <td>True</td>\n",
       "      <td>False</td>\n",
       "      <td>10200.0</td>\n",
       "      <td>0.323529</td>\n",
       "      <td>True</td>\n",
       "      <td>False</td>\n",
       "      <td>False</td>\n",
       "      <td>False</td>\n",
       "      <td>False</td>\n",
       "      <td>False</td>\n",
       "      <td>False</td>\n",
       "      <td>False</td>\n",
       "      <td>True</td>\n",
       "      <td>False</td>\n",
       "      <td>2012</td>\n",
       "      <td>4</td>\n",
       "      <td>2018</td>\n",
       "      <td>2</td>\n",
       "    </tr>\n",
       "    <tr>\n",
       "      <th>3</th>\n",
       "      <td>0.128043</td>\n",
       "      <td>0.319149</td>\n",
       "      <td>True</td>\n",
       "      <td>True</td>\n",
       "      <td>False</td>\n",
       "      <td>True</td>\n",
       "      <td>True</td>\n",
       "      <td>True</td>\n",
       "      <td>True</td>\n",
       "      <td>25100.0</td>\n",
       "      <td>0.294118</td>\n",
       "      <td>False</td>\n",
       "      <td>False</td>\n",
       "      <td>False</td>\n",
       "      <td>False</td>\n",
       "      <td>False</td>\n",
       "      <td>False</td>\n",
       "      <td>False</td>\n",
       "      <td>False</td>\n",
       "      <td>False</td>\n",
       "      <td>False</td>\n",
       "      <td>2013</td>\n",
       "      <td>7</td>\n",
       "      <td>2018</td>\n",
       "      <td>2</td>\n",
       "    </tr>\n",
       "    <tr>\n",
       "      <th>4</th>\n",
       "      <td>0.097118</td>\n",
       "      <td>0.378251</td>\n",
       "      <td>True</td>\n",
       "      <td>True</td>\n",
       "      <td>False</td>\n",
       "      <td>False</td>\n",
       "      <td>True</td>\n",
       "      <td>True</td>\n",
       "      <td>True</td>\n",
       "      <td>33400.0</td>\n",
       "      <td>0.294118</td>\n",
       "      <td>False</td>\n",
       "      <td>False</td>\n",
       "      <td>False</td>\n",
       "      <td>False</td>\n",
       "      <td>False</td>\n",
       "      <td>False</td>\n",
       "      <td>False</td>\n",
       "      <td>False</td>\n",
       "      <td>False</td>\n",
       "      <td>False</td>\n",
       "      <td>2013</td>\n",
       "      <td>7</td>\n",
       "      <td>2018</td>\n",
       "      <td>4</td>\n",
       "    </tr>\n",
       "  </tbody>\n",
       "</table>\n",
       "</div>"
      ],
      "text/plain": [
       "         km  potencia  volante_regulable  aire_acondicionado  camara_trasera  \\\n",
       "0  0.140413  0.236407               True                True           False   \n",
       "1  0.013987  0.749409               True                True           False   \n",
       "2  0.183280  0.283688              False               False           False   \n",
       "3  0.128043  0.319149               True                True           False   \n",
       "4  0.097118  0.378251               True                True           False   \n",
       "\n",
       "   elevalunas_electrico  bluetooth   gps  alerta_lim_velocidad   precio  \\\n",
       "0                  True      False  True                  True  11300.0   \n",
       "1                 False       True  True                  True  69700.0   \n",
       "2                  True      False  True                 False  10200.0   \n",
       "3                  True       True  True                  True  25100.0   \n",
       "4                 False       True  True                  True  33400.0   \n",
       "\n",
       "   Antiguedad  tipo_coche_estate  tipo_coche_hatchback  tipo_coche_sedan  \\\n",
       "0    0.323529               True                 False             False   \n",
       "1    0.294118              False                 False             False   \n",
       "2    0.323529               True                 False             False   \n",
       "3    0.294118              False                 False             False   \n",
       "4    0.294118              False                 False             False   \n",
       "\n",
       "   tipo_coche_suv  Color_simplificado_black  Color_simplificado_grey  \\\n",
       "0           False                      True                    False   \n",
       "1           False                     False                     True   \n",
       "2           False                     False                    False   \n",
       "3           False                     False                    False   \n",
       "4           False                     False                    False   \n",
       "\n",
       "   modelo_grupo_SUV  modelo_grupo_Serie 1  modelo_grupo_Serie 3  \\\n",
       "0             False                  True                 False   \n",
       "1             False                 False                 False   \n",
       "2             False                 False                  True   \n",
       "3             False                 False                 False   \n",
       "4             False                 False                 False   \n",
       "\n",
       "   modelo_grupo_Serie 5  registro_year  registro_month  venta_year  \\\n",
       "0                 False           2012               2        2018   \n",
       "1                 False           2013               7        2018   \n",
       "2                 False           2012               4        2018   \n",
       "3                 False           2013               7        2018   \n",
       "4                 False           2013               7        2018   \n",
       "\n",
       "   venta_month  \n",
       "0            1  \n",
       "1            2  \n",
       "2            2  \n",
       "3            2  \n",
       "4            4  "
      ]
     },
     "execution_count": 126,
     "metadata": {},
     "output_type": "execute_result"
    }
   ],
   "source": [
    "pd.set_option('display.max_columns', None)\n",
    "\n",
    "# Mostrar el DataFrame completo\n",
    "bmw3_encoded.head()"
   ]
  },
  {
   "cell_type": "code",
   "execution_count": 128,
   "metadata": {},
   "outputs": [],
   "source": [
    "## Data Set Limpio\n",
    "\n",
    "bmw3_encoded.to_pickle(\"bmw3_preprocesado.pkl\")"
   ]
  },
  {
   "cell_type": "markdown",
   "metadata": {},
   "source": [
    "### Definición de un Problema y Modelo Random Forest Regressor"
   ]
  },
  {
   "cell_type": "code",
   "execution_count": null,
   "metadata": {},
   "outputs": [],
   "source": [
    "pd.read_pickle(\"bmw3_preprocesado.pkl\")"
   ]
  },
  {
   "cell_type": "markdown",
   "metadata": {},
   "source": [
    "Variable objetivo (target): precio\n",
    "\n",
    "Pregunta: ¿Podemos predecir el precio de un vehículo en función de sus características?"
   ]
  },
  {
   "cell_type": "code",
   "execution_count": 130,
   "metadata": {},
   "outputs": [],
   "source": [
    "from sklearn.model_selection import train_test_split\n",
    "\n",
    "# Definir variables independientes (X) y dependiente (y)\n",
    "X = bmw3_encoded.drop(columns=[\"precio\"]) # Eliminamos la columna bjetivo\n",
    "Y = bmw3_encoded[\"precio\"]\n",
    "\n",
    "# Dividir en entrenamiento y prueba\n",
    "\n",
    "X_train, X_test, y_train, y_test = train_test_split(X, Y, test_size=0.2, random_state=42)"
   ]
  },
  {
   "cell_type": "code",
   "execution_count": 131,
   "metadata": {},
   "outputs": [
    {
     "name": "stdout",
     "output_type": "stream",
     "text": [
      "MSE: 17684408.806016598\n",
      "R2 Score: 0.7779191886858828\n"
     ]
    }
   ],
   "source": [
    "from sklearn.ensemble import RandomForestRegressor\n",
    "from sklearn.metrics import mean_squared_error, r2_score\n",
    "\n",
    "# Crear el modelo\n",
    "model = RandomForestRegressor(random_state=42)\n",
    "\n",
    "# Entrenar el modelo\n",
    "model.fit(X_train, y_train)\n",
    "\n",
    "# Realizar predicciones\n",
    "y_pred = model.predict(X_test)\n",
    "\n",
    "# Evaluar el rendimiento\n",
    "mse = mean_squared_error(y_test, y_pred)\n",
    "r2 = r2_score(y_test, y_pred)\n",
    "print(f\"MSE: {mse}\")\n",
    "print(f\"R2 Score: {r2}\")"
   ]
  },
  {
   "cell_type": "markdown",
   "metadata": {},
   "source": [
    "#### Evaluar el Modelo: (Apuntes)"
   ]
  },
  {
   "cell_type": "markdown",
   "metadata": {},
   "source": [
    "\n",
    "Evalúe el rendimiento del modelo utilizando métricas clave:\n",
    "\n",
    "MSE (Mean Squared Error): Cuanto más bajo, mejor.\n",
    "\n",
    "R² Score: Indica qué tan bien el modelo explica la variabilidad de los datos (1.0 es perfecto).\n",
    "\n",
    "Si el modelo tiene un rendimiento pobre:\n",
    "\n",
    "Ajustar los hiperparámetros del modelo.\n",
    "\n",
    "Probar otro modelo (por ejemplo, XGBoost o LightGBM).\n",
    "\n",
    "Agregar o transformar características."
   ]
  },
  {
   "cell_type": "markdown",
   "metadata": {},
   "source": [
    "Visualizamos Resultados"
   ]
  },
  {
   "cell_type": "code",
   "execution_count": null,
   "metadata": {},
   "outputs": [
    {
     "ename": "TypeError",
     "evalue": "'str' object is not callable",
     "output_type": "error",
     "traceback": [
      "\u001b[1;31m---------------------------------------------------------------------------\u001b[0m",
      "\u001b[1;31mTypeError\u001b[0m                                 Traceback (most recent call last)",
      "Cell \u001b[1;32mIn[125], line 6\u001b[0m\n\u001b[0;32m      4\u001b[0m plt\u001b[38;5;241m.\u001b[39mxlabel(\u001b[38;5;124m\"\u001b[39m\u001b[38;5;124mValores Reales\u001b[39m\u001b[38;5;124m\"\u001b[39m)\n\u001b[0;32m      5\u001b[0m plt\u001b[38;5;241m.\u001b[39mylabel(\u001b[38;5;124m\"\u001b[39m\u001b[38;5;124mPredicciones\u001b[39m\u001b[38;5;124m\"\u001b[39m)\n\u001b[1;32m----> 6\u001b[0m \u001b[43mplt\u001b[49m\u001b[38;5;241;43m.\u001b[39;49m\u001b[43mtitle\u001b[49m\u001b[43m(\u001b[49m\u001b[38;5;124;43m\"\u001b[39;49m\u001b[38;5;124;43mValores Reales vs Predicciones\u001b[39;49m\u001b[38;5;124;43m\"\u001b[39;49m\u001b[43m)\u001b[49m\n\u001b[0;32m      7\u001b[0m plt\u001b[38;5;241m.\u001b[39mshow()\n",
      "\u001b[1;31mTypeError\u001b[0m: 'str' object is not callable"
     ]
    },
    {
     "data": {
      "image/png": "[encoded data removed]",
      "text/plain": [
       "<Figure size 640x480 with 1 Axes>"
      ]
     },
     "metadata": {},
     "output_type": "display_data"
    }
   ],
   "source": [
    "import matplotlib.pyplot as plt\n",
    "\n",
    "plt.scatter(y_test, y_pred, alpha=0.5)\n",
    "plt.xlabel(\"Valores Reales\")\n",
    "plt.ylabel(\"Predicciones\")\n",
    "plt.title(\"Valores Reales vs Predicciones\")\n",
    "\n",
    "# Guardar el gráfico como imagen\n",
    "plt.savefig(\"images/real_vs_pred.png\")  \n",
    "plt.show()"
   ]
  },
  {
   "cell_type": "code",
   "execution_count": null,
   "metadata": {},
   "outputs": [
    {
     "name": "stdout",
     "output_type": "stream",
     "text": [
      "Modelo guardado como random_forest_model.pkl\n"
     ]
    }
   ],
   "source": [
    "import joblib\n",
    "# Guardar el modelo\n",
    "joblib.dump(model, \"random_forest_model.pkl\")\n",
    "print(\"Modelo guardado como random_forest_model.pkl\")"
   ]
  }
 ],
 "metadata": {
  "kernelspec": {
   "display_name": "Python 3",
   "language": "python",
   "name": "python3"
  },
  "language_info": {
   "codemirror_mode": {
    "name": "ipython",
    "version": 3
   },
   "file_extension": ".py",
   "mimetype": "text/x-python",
   "name": "python",
   "nbconvert_exporter": "python",
   "pygments_lexer": "ipython3",
   "version": "3.12.2"
  }
 },
 "nbformat": 4,
 "nbformat_minor": 2
}
